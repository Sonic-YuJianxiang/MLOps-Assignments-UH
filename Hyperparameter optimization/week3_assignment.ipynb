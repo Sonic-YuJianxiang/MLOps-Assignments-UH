{
 "cells": [
  {
   "cell_type": "markdown",
   "id": "b932690c",
   "metadata": {},
   "source": [
    "# Week3 Assignments\n",
    "You will get some hands-on experience with Optuna through this week's assignments. Similar to the tutorial of the first week, the [red wine dataset](https://archive.ics.uci.edu/dataset/186/wine+quality) will be used in this week's assignments. \n",
    "\n",
    "**Guidelines of submitting assignments**:\n",
    "- For each assignment, a code skeleton is provided. Please put your solutions in between the `### START CODE HERE` and `### END CODE HERE` code comments. \n",
    "- Some assignments also require you to answer questions (in text) or capture screenshots in order to earn points. For each question, please put your text answers **in the same Markdown cell as the question** and your screenshots into a single PDF file. For each screenshot, please clearly indicate which assignment it corresponds to in your PDF file. \n",
    "- When preparing your submission, be sure to include your assignment notebook with code cell outputs. It's important that these outputs are current and reflect the latest state of your code, as your grades may depend on them. Additionally, please include the PDF file that contains your screenshots in your submission. "
   ]
  },
  {
   "cell_type": "code",
   "execution_count": 2,
   "id": "d8dfe776",
   "metadata": {},
   "outputs": [],
   "source": [
    "# import packages\n",
    "import os\n",
    "import pandas as pd\n",
    "import numpy as np\n",
    "\n",
    "import optuna\n",
    "from optuna.integration.mlflow import MLflowCallback\n",
    "from optuna.samplers import TPESampler\n",
    "\n",
    "import mlflow\n",
    "\n",
    "from sklearn.model_selection import train_test_split\n",
    "from sklearn.metrics import mean_absolute_error\n",
    "import lightgbm as lgb\n",
    "import xgboost as xgb"
   ]
  },
  {
   "cell_type": "code",
   "execution_count": 3,
   "id": "fdd5f155",
   "metadata": {},
   "outputs": [],
   "source": [
    "# Random seed for making the assignments reproducible\n",
    "RANDOM_SEED = 42\n",
    "\n",
    "# MLflow service URI\n",
    "mlflow_tracking_uri = \"http://mlflow-server.local\""
   ]
  },
  {
   "cell_type": "code",
   "execution_count": 4,
   "id": "30cf832a",
   "metadata": {},
   "outputs": [],
   "source": [
    "# prepare training and testing data\n",
    "data = pd.read_csv(\"winequality-red.csv\", delimiter=\";\")\n",
    "\n",
    "X = data.drop(\"quality\", axis=1)\n",
    "y = data[\"quality\"]\n",
    "\n",
    "train_x, test_x, train_y, test_y = train_test_split(X, y, test_size=0.25, random_state=RANDOM_SEED)"
   ]
  },
  {
   "cell_type": "code",
   "execution_count": 5,
   "id": "b80f7a58",
   "metadata": {},
   "outputs": [
    {
     "data": {
      "text/html": [
       "<div>\n",
       "<style scoped>\n",
       "    .dataframe tbody tr th:only-of-type {\n",
       "        vertical-align: middle;\n",
       "    }\n",
       "\n",
       "    .dataframe tbody tr th {\n",
       "        vertical-align: top;\n",
       "    }\n",
       "\n",
       "    .dataframe thead th {\n",
       "        text-align: right;\n",
       "    }\n",
       "</style>\n",
       "<table border=\"1\" class=\"dataframe\">\n",
       "  <thead>\n",
       "    <tr style=\"text-align: right;\">\n",
       "      <th></th>\n",
       "      <th>fixed acidity</th>\n",
       "      <th>volatile acidity</th>\n",
       "      <th>citric acid</th>\n",
       "      <th>residual sugar</th>\n",
       "      <th>chlorides</th>\n",
       "      <th>free sulfur dioxide</th>\n",
       "      <th>total sulfur dioxide</th>\n",
       "      <th>density</th>\n",
       "      <th>pH</th>\n",
       "      <th>sulphates</th>\n",
       "      <th>alcohol</th>\n",
       "      <th>quality</th>\n",
       "    </tr>\n",
       "  </thead>\n",
       "  <tbody>\n",
       "    <tr>\n",
       "      <th>0</th>\n",
       "      <td>7.4</td>\n",
       "      <td>0.70</td>\n",
       "      <td>0.00</td>\n",
       "      <td>1.9</td>\n",
       "      <td>0.076</td>\n",
       "      <td>11.0</td>\n",
       "      <td>34.0</td>\n",
       "      <td>0.9978</td>\n",
       "      <td>3.51</td>\n",
       "      <td>0.56</td>\n",
       "      <td>9.4</td>\n",
       "      <td>5</td>\n",
       "    </tr>\n",
       "    <tr>\n",
       "      <th>1</th>\n",
       "      <td>7.8</td>\n",
       "      <td>0.88</td>\n",
       "      <td>0.00</td>\n",
       "      <td>2.6</td>\n",
       "      <td>0.098</td>\n",
       "      <td>25.0</td>\n",
       "      <td>67.0</td>\n",
       "      <td>0.9968</td>\n",
       "      <td>3.20</td>\n",
       "      <td>0.68</td>\n",
       "      <td>9.8</td>\n",
       "      <td>5</td>\n",
       "    </tr>\n",
       "    <tr>\n",
       "      <th>2</th>\n",
       "      <td>7.8</td>\n",
       "      <td>0.76</td>\n",
       "      <td>0.04</td>\n",
       "      <td>2.3</td>\n",
       "      <td>0.092</td>\n",
       "      <td>15.0</td>\n",
       "      <td>54.0</td>\n",
       "      <td>0.9970</td>\n",
       "      <td>3.26</td>\n",
       "      <td>0.65</td>\n",
       "      <td>9.8</td>\n",
       "      <td>5</td>\n",
       "    </tr>\n",
       "    <tr>\n",
       "      <th>3</th>\n",
       "      <td>11.2</td>\n",
       "      <td>0.28</td>\n",
       "      <td>0.56</td>\n",
       "      <td>1.9</td>\n",
       "      <td>0.075</td>\n",
       "      <td>17.0</td>\n",
       "      <td>60.0</td>\n",
       "      <td>0.9980</td>\n",
       "      <td>3.16</td>\n",
       "      <td>0.58</td>\n",
       "      <td>9.8</td>\n",
       "      <td>6</td>\n",
       "    </tr>\n",
       "    <tr>\n",
       "      <th>4</th>\n",
       "      <td>7.4</td>\n",
       "      <td>0.70</td>\n",
       "      <td>0.00</td>\n",
       "      <td>1.9</td>\n",
       "      <td>0.076</td>\n",
       "      <td>11.0</td>\n",
       "      <td>34.0</td>\n",
       "      <td>0.9978</td>\n",
       "      <td>3.51</td>\n",
       "      <td>0.56</td>\n",
       "      <td>9.4</td>\n",
       "      <td>5</td>\n",
       "    </tr>\n",
       "  </tbody>\n",
       "</table>\n",
       "</div>"
      ],
      "text/plain": [
       "   fixed acidity  volatile acidity  citric acid  residual sugar  chlorides  \\\n",
       "0            7.4              0.70         0.00             1.9      0.076   \n",
       "1            7.8              0.88         0.00             2.6      0.098   \n",
       "2            7.8              0.76         0.04             2.3      0.092   \n",
       "3           11.2              0.28         0.56             1.9      0.075   \n",
       "4            7.4              0.70         0.00             1.9      0.076   \n",
       "\n",
       "   free sulfur dioxide  total sulfur dioxide  density    pH  sulphates  \\\n",
       "0                 11.0                  34.0   0.9978  3.51       0.56   \n",
       "1                 25.0                  67.0   0.9968  3.20       0.68   \n",
       "2                 15.0                  54.0   0.9970  3.26       0.65   \n",
       "3                 17.0                  60.0   0.9980  3.16       0.58   \n",
       "4                 11.0                  34.0   0.9978  3.51       0.56   \n",
       "\n",
       "   alcohol  quality  \n",
       "0      9.4        5  \n",
       "1      9.8        5  \n",
       "2      9.8        5  \n",
       "3      9.8        6  \n",
       "4      9.4        5  "
      ]
     },
     "execution_count": 5,
     "metadata": {},
     "output_type": "execute_result"
    }
   ],
   "source": [
    "# An overview of the original dataset\n",
    "data.head()"
   ]
  },
  {
   "cell_type": "code",
   "execution_count": 6,
   "id": "eae2bbd5",
   "metadata": {},
   "outputs": [
    {
     "name": "stdout",
     "output_type": "stream",
     "text": [
      "The dimension of train_x is (1199, 11)\n",
      "The dimension of train_y is (1199,)\n",
      "The dimension of test_x is (400, 11)\n",
      "The dimension of train_x is (400,)\n"
     ]
    }
   ],
   "source": [
    "print(f\"The dimension of train_x is {train_x.shape}\")\n",
    "print(f\"The dimension of train_y is {train_y.shape}\")\n",
    "print(f\"The dimension of test_x is {test_x.shape}\")\n",
    "print(f\"The dimension of train_x is {test_y.shape}\")"
   ]
  },
  {
   "cell_type": "markdown",
   "id": "c1805063",
   "metadata": {},
   "source": [
    "## Assignment 1: The basic use of Optuna (2 points)\n",
    "Train a [LightGBM regression model](https://lightgbm.readthedocs.io/en/latest/pythonapi/lightgbm.LGBMRegressor.html) to predict red wine quality and use Optuna to find the optimal hyperparameter combination for the model. **Please use the sklearn API as you did in the first week's assignments.**\n",
    "\n",
    "This assignment has the following requirements:\n",
    "\n",
    "1) Create an Optuna study named ***lgbm-wine-1***. The target of the optimization is to minimize the MAE (mean absolute error) of the model when evaluating the model against the testing dataset. The hyperparameters to be tuned and their search ranges are shown below. Some of the hyperparameter values are fixed. The hyperparameter values should be sampled in a linear domain if not separately specified. \n",
    "\n",
    "| Hyperparameter    | Explanation                                                                 | type    | range                                                                    |\n",
    "|:-------------------|:-----------------------------------------------------------------------------|:---------|:--------------------------------------------------------------------------|\n",
    "| n_estimators      | The number of decision trees.                                               | integer | 1000 (fixed value)                                                       |\n",
    "| learning_rate     | The step size of the gradient descent. It controls how quickly the model fits and then overfits the training data.              | float   | [0.001, 0.1] (sampled from the logarithmic domain) |\n",
    "| subsample         | The percentage of training samples to be used to train each tree. `subsample*100%` of the training samples will be randomly selected for training.        | float   | [0.05, 0.5]                                                              |\n",
    "| subsample_freq    | Subsampling frequency. The subsampling will be performed again after `subsample_freq` trees have been trained.                                                     | integer | 1 (fixed value)                                                          |\n",
    "| colsample_bytree  | The percentage of features to use when training each tree.                | float   | [0.05, 0.5]                                                              |\n",
    "| min_child_samples | A leaf node should have `min_child_samples` data points to be further splitted. | integer | [20, 100]                                                                |\n",
    "| num_leaves        | Max number of nodes in a single tree.                                       | integer | [2, 2^10]                                                                |\n",
    "| random_state      | The seed for random number generation for reproducibility.                                   | integer | RANDOM_SEED (fixed value, RANDOM_SEED has been defined as a variable in a previous cell)                                                |\n",
    "\n",
    "2) Use [TPESampler](https://optuna.readthedocs.io/en/stable/reference/samplers/generated/optuna.samplers.TPESampler.html) as the sampler for the hyperparameter sampling and use `RANDOM_SEED` as the seed of the sampler. \n",
    "\n",
    "3) The Optuna study should perform 100 trials.\n",
    "\n",
    "4) The study history should be persisted in a relational database (`optuna.sqlite3`) so that the study can be loaded and analyzed later. \n",
    "\n",
    "Hints:\n",
    "- [How to sample hyperparameter values in the logarithmic domain?](https://optuna.readthedocs.io/en/stable/reference/generated/optuna.trial.Trial.html#optuna.trial.Trial.suggest_float)\n",
    "- [How to configure a study to use a specific sampler and persist study history in a specific database?](https://optuna.readthedocs.io/en/stable/reference/generated/optuna.create_study.html#optuna-create-study)\n",
    "- It may take some time run 100 trials, so you could test your code using a smaller number of trials and increase the number to 100 after you're sure your code works. Remember to delete the study before rerunning the study to avoid the error of duplicated study. The code for deleting an existing study from a database can be found after the assignment code cell of this assignment. \n",
    "\n",
    "\n",
    "*More reading material: If you are interested, [the LightGBM documentation](https://lightgbm.readthedocs.io/en/latest/Parameters.html#core-parameters) explains the use of each hyperparameter in more details.*"
   ]
  },
  {
   "cell_type": "code",
   "execution_count": 12,
   "id": "f39b96c3",
   "metadata": {
    "nbgrader": {
     "grade": true,
     "grade_id": "cell-15d27f8fdf5190ad",
     "locked": false,
     "points": 1,
     "schema_version": 3,
     "solution": true,
     "task": false
    }
   },
   "outputs": [
    {
     "name": "stderr",
     "output_type": "stream",
     "text": [
      "[I 2023-11-22 14:47:33,190] A new study created in RDB with name: lgbm-wine-1\n"
     ]
    },
    {
     "name": "stderr",
     "output_type": "stream",
     "text": [
      "[I 2023-11-22 14:47:34,384] Trial 0 finished with value: 0.48305757514051956 and parameters: {'learning_rate': 0.005611516415334507, 'subsample': 0.4778214378844623, 'colsample_bytree': 0.3793972738151323, 'min_child_samples': 68, 'num_leaves': 161}. Best is trial 0 with value: 0.48305757514051956.\n",
      "[I 2023-11-22 14:47:37,496] Trial 1 finished with value: 0.6685091743119267 and parameters: {'learning_rate': 0.002051110418843397, 'subsample': 0.07613762547568977, 'colsample_bytree': 0.4397792655987208, 'min_child_samples': 68, 'num_leaves': 726}. Best is trial 0 with value: 0.48305757514051956.\n",
      "[I 2023-11-22 14:47:38,359] Trial 2 finished with value: 0.5330860406894041 and parameters: {'learning_rate': 0.0010994335574766201, 'subsample': 0.48645943347289744, 'colsample_bytree': 0.4245991883601898, 'min_child_samples': 37, 'num_leaves': 188}. Best is trial 0 with value: 0.48305757514051956.\n",
      "[I 2023-11-22 14:47:38,923] Trial 3 finished with value: 0.5338040960963436 and parameters: {'learning_rate': 0.002327067708383781, 'subsample': 0.186909009331792, 'colsample_bytree': 0.28614039423450705, 'min_child_samples': 54, 'num_leaves': 299}. Best is trial 0 with value: 0.48305757514051956.\n",
      "[I 2023-11-22 14:47:39,403] Trial 4 finished with value: 0.5076269460531386 and parameters: {'learning_rate': 0.01673808578875214, 'subsample': 0.11277223729341883, 'colsample_bytree': 0.1814650918408482, 'min_child_samples': 49, 'num_leaves': 468}. Best is trial 0 with value: 0.48305757514051956.\n",
      "[I 2023-11-22 14:47:39,876] Trial 5 finished with value: 0.5076748898380093 and parameters: {'learning_rate': 0.037183641805732096, 'subsample': 0.1398532019712619, 'colsample_bytree': 0.28140549728612524, 'min_child_samples': 67, 'num_leaves': 49}. Best is trial 0 with value: 0.48305757514051956.\n",
      "[I 2023-11-22 14:47:41,960] Trial 6 finished with value: 0.6685091743119267 and parameters: {'learning_rate': 0.016409286730647923, 'subsample': 0.1267358556592812, 'colsample_bytree': 0.0792732168433758, 'min_child_samples': 96, 'num_leaves': 989}. Best is trial 0 with value: 0.48305757514051956.\n",
      "[I 2023-11-22 14:47:43,073] Trial 7 finished with value: 0.5051750796616936 and parameters: {'learning_rate': 0.041380401125610165, 'subsample': 0.1870761961280168, 'colsample_bytree': 0.09395245130287275, 'min_child_samples': 75, 'num_leaves': 452}. Best is trial 0 with value: 0.48305757514051956.\n",
      "[I 2023-11-22 14:47:44,211] Trial 8 finished with value: 0.602185209067021 and parameters: {'learning_rate': 0.0017541893487450805, 'subsample': 0.2728296095500716, 'colsample_bytree': 0.06547483450184828, 'min_child_samples': 93, 'num_leaves': 266}. Best is trial 0 with value: 0.48305757514051956.\n",
      "[I 2023-11-22 14:47:46,325] Trial 9 finished with value: 0.49454634175435186 and parameters: {'learning_rate': 0.02113705944064573, 'subsample': 0.19026998424023495, 'colsample_bytree': 0.28403060953001485, 'min_child_samples': 64, 'num_leaves': 191}. Best is trial 0 with value: 0.48305757514051956.\n",
      "[I 2023-11-22 14:47:49,872] Trial 10 finished with value: 0.45233172719956855 and parameters: {'learning_rate': 0.0059057803847388166, 'subsample': 0.46978789997535003, 'colsample_bytree': 0.48629169985453957, 'min_child_samples': 21, 'num_leaves': 17}. Best is trial 10 with value: 0.45233172719956855.\n",
      "[I 2023-11-22 14:47:50,826] Trial 11 finished with value: 0.47633974214588887 and parameters: {'learning_rate': 0.0055881031669443425, 'subsample': 0.48995674302519066, 'colsample_bytree': 0.49091454950925223, 'min_child_samples': 26, 'num_leaves': 5}. Best is trial 10 with value: 0.45233172719956855.\n",
      "[I 2023-11-22 14:47:52,122] Trial 12 finished with value: 0.457045974419484 and parameters: {'learning_rate': 0.005615594319846422, 'subsample': 0.4001693423687098, 'colsample_bytree': 0.48811588618406093, 'min_child_samples': 22, 'num_leaves': 18}. Best is trial 10 with value: 0.45233172719956855.\n",
      "[I 2023-11-22 14:47:55,121] Trial 13 finished with value: 0.45228641223565036 and parameters: {'learning_rate': 0.006708985402155976, 'subsample': 0.4019317030502952, 'colsample_bytree': 0.4995196756302996, 'min_child_samples': 20, 'num_leaves': 662}. Best is trial 13 with value: 0.45228641223565036.\n",
      "[I 2023-11-22 14:47:57,872] Trial 14 finished with value: 0.4679703012775917 and parameters: {'learning_rate': 0.009110013355620833, 'subsample': 0.40587610919957545, 'colsample_bytree': 0.3625713537543647, 'min_child_samples': 36, 'num_leaves': 687}. Best is trial 13 with value: 0.45228641223565036.\n",
      "[I 2023-11-22 14:47:58,898] Trial 15 finished with value: 0.44491889961791514 and parameters: {'learning_rate': 0.08538648795388477, 'subsample': 0.38404037985013173, 'colsample_bytree': 0.498207439286346, 'min_child_samples': 35, 'num_leaves': 678}. Best is trial 15 with value: 0.44491889961791514.\n",
      "[I 2023-11-22 14:48:00,870] Trial 16 finished with value: 0.4534286733960903 and parameters: {'learning_rate': 0.09970682275036434, 'subsample': 0.3593416108926655, 'colsample_bytree': 0.4166526735522039, 'min_child_samples': 35, 'num_leaves': 710}. Best is trial 15 with value: 0.44491889961791514.\n",
      "[I 2023-11-22 14:48:01,905] Trial 17 finished with value: 0.4666925709424738 and parameters: {'learning_rate': 0.09909565063638189, 'subsample': 0.3280054759452771, 'colsample_bytree': 0.3743826674083961, 'min_child_samples': 44, 'num_leaves': 885}. Best is trial 15 with value: 0.44491889961791514.\n",
      "[I 2023-11-22 14:48:02,910] Trial 18 finished with value: 0.46710965135785415 and parameters: {'learning_rate': 0.06437647701272971, 'subsample': 0.2936018218648819, 'colsample_bytree': 0.34383239283437844, 'min_child_samples': 30, 'num_leaves': 565}. Best is trial 15 with value: 0.44491889961791514.\n",
      "[I 2023-11-22 14:48:04,548] Trial 19 finished with value: 0.4537187518710503 and parameters: {'learning_rate': 0.029960624806812438, 'subsample': 0.4135757771377759, 'colsample_bytree': 0.48617143342192304, 'min_child_samples': 43, 'num_leaves': 835}. Best is trial 15 with value: 0.44491889961791514.\n",
      "[I 2023-11-22 14:48:06,022] Trial 20 finished with value: 0.447940897337388 and parameters: {'learning_rate': 0.010722926587551451, 'subsample': 0.433902354799973, 'colsample_bytree': 0.45015459185509876, 'min_child_samples': 30, 'num_leaves': 584}. Best is trial 15 with value: 0.44491889961791514.\n",
      "[I 2023-11-22 14:48:07,190] Trial 21 finished with value: 0.4516003748922974 and parameters: {'learning_rate': 0.011206719773903487, 'subsample': 0.43524358052312223, 'colsample_bytree': 0.44511714041588407, 'min_child_samples': 31, 'num_leaves': 592}. Best is trial 15 with value: 0.44491889961791514.\n",
      "[I 2023-11-22 14:48:08,492] Trial 22 finished with value: 0.4489556716781 and parameters: {'learning_rate': 0.01244390082823864, 'subsample': 0.44218419993494124, 'colsample_bytree': 0.4454279495542907, 'min_child_samples': 29, 'num_leaves': 532}. Best is trial 15 with value: 0.44491889961791514.\n",
      "[I 2023-11-22 14:48:09,367] Trial 23 finished with value: 0.4623308057706593 and parameters: {'learning_rate': 0.024946832736474595, 'subsample': 0.4379199559044892, 'colsample_bytree': 0.4529755655591175, 'min_child_samples': 55, 'num_leaves': 363}. Best is trial 15 with value: 0.44491889961791514.\n",
      "[I 2023-11-22 14:48:12,051] Trial 24 finished with value: 0.46122172738328937 and parameters: {'learning_rate': 0.043393934601476405, 'subsample': 0.3520566353077483, 'colsample_bytree': 0.3949906793765289, 'min_child_samples': 43, 'num_leaves': 793}. Best is trial 15 with value: 0.44491889961791514.\n",
      "[I 2023-11-22 14:48:14,388] Trial 25 finished with value: 0.4342331555289691 and parameters: {'learning_rate': 0.05913905272326255, 'subsample': 0.45031259532779655, 'colsample_bytree': 0.45559473938434125, 'min_child_samples': 28, 'num_leaves': 520}. Best is trial 25 with value: 0.4342331555289691.\n",
      "[I 2023-11-22 14:48:15,287] Trial 26 finished with value: 0.4684920769871428 and parameters: {'learning_rate': 0.06349947862234823, 'subsample': 0.4978238756541076, 'colsample_bytree': 0.4070831257980554, 'min_child_samples': 86, 'num_leaves': 400}. Best is trial 25 with value: 0.4342331555289691.\n",
      "[I 2023-11-22 14:48:16,152] Trial 27 finished with value: 0.4602439747018141 and parameters: {'learning_rate': 0.05753110952080387, 'subsample': 0.379904787194608, 'colsample_bytree': 0.33468367674304317, 'min_child_samples': 39, 'num_leaves': 624}. Best is trial 25 with value: 0.4342331555289691.\n",
      "[I 2023-11-22 14:48:17,002] Trial 28 finished with value: 0.45822004063085203 and parameters: {'learning_rate': 0.027616105352891038, 'subsample': 0.4260205449783876, 'colsample_bytree': 0.46619988624829567, 'min_child_samples': 48, 'num_leaves': 509}. Best is trial 25 with value: 0.4342331555289691.\n",
      "[I 2023-11-22 14:48:18,108] Trial 29 finished with value: 0.44806583391439925 and parameters: {'learning_rate': 0.07724833057753773, 'subsample': 0.46236799124240197, 'colsample_bytree': 0.395533806404369, 'min_child_samples': 27, 'num_leaves': 795}. Best is trial 25 with value: 0.4342331555289691.\n",
      "[I 2023-11-22 14:48:19,340] Trial 30 finished with value: 0.46823287131172575 and parameters: {'learning_rate': 0.053991160415325694, 'subsample': 0.44797219120502024, 'colsample_bytree': 0.42843842525265574, 'min_child_samples': 76, 'num_leaves': 919}. Best is trial 25 with value: 0.4342331555289691.\n",
      "[I 2023-11-22 14:48:20,242] Trial 31 finished with value: 0.4445983514656934 and parameters: {'learning_rate': 0.07230087884538487, 'subsample': 0.4507615905473845, 'colsample_bytree': 0.3950430134574376, 'min_child_samples': 26, 'num_leaves': 619}. Best is trial 25 with value: 0.4342331555289691.\n",
      "[I 2023-11-22 14:48:21,092] Trial 32 finished with value: 0.4402175677984128 and parameters: {'learning_rate': 0.07388919727589129, 'subsample': 0.4662571397680406, 'colsample_bytree': 0.46171942265511695, 'min_child_samples': 34, 'num_leaves': 646}. Best is trial 25 with value: 0.4342331555289691.\n",
      "[I 2023-11-22 14:48:22,011] Trial 33 finished with value: 0.4533557329196081 and parameters: {'learning_rate': 0.08026816350786252, 'subsample': 0.474522796777465, 'colsample_bytree': 0.46380079851149847, 'min_child_samples': 34, 'num_leaves': 725}. Best is trial 25 with value: 0.4342331555289691.\n",
      "[I 2023-11-22 14:48:23,084] Trial 34 finished with value: 0.42965076984451656 and parameters: {'learning_rate': 0.052552056156990906, 'subsample': 0.463491458124007, 'colsample_bytree': 0.42373067592669533, 'min_child_samples': 25, 'num_leaves': 646}. Best is trial 34 with value: 0.42965076984451656.\n",
      "[I 2023-11-22 14:48:26,164] Trial 35 finished with value: 0.43220440949326205 and parameters: {'learning_rate': 0.04716520440085523, 'subsample': 0.49523373514285723, 'colsample_bytree': 0.4137788714503278, 'min_child_samples': 25, 'num_leaves': 470}. Best is trial 34 with value: 0.42965076984451656.\n",
      "[I 2023-11-22 14:48:29,975] Trial 36 finished with value: 0.43398724655866266 and parameters: {'learning_rate': 0.049806423742470726, 'subsample': 0.4929917703501335, 'colsample_bytree': 0.4239966896405894, 'min_child_samples': 25, 'num_leaves': 442}. Best is trial 34 with value: 0.42965076984451656.\n",
      "[I 2023-11-22 14:48:31,205] Trial 37 finished with value: 0.43619076085413055 and parameters: {'learning_rate': 0.042321513672650204, 'subsample': 0.4936108267298752, 'colsample_bytree': 0.42451923059293306, 'min_child_samples': 24, 'num_leaves': 350}. Best is trial 34 with value: 0.42965076984451656.\n",
      "[I 2023-11-22 14:48:32,389] Trial 38 finished with value: 0.45651220522616326 and parameters: {'learning_rate': 0.05066521196633169, 'subsample': 0.4961136017675955, 'colsample_bytree': 0.314490050654138, 'min_child_samples': 40, 'num_leaves': 458}. Best is trial 34 with value: 0.42965076984451656.\n",
      "[I 2023-11-22 14:48:33,086] Trial 39 finished with value: 0.4631976644848161 and parameters: {'learning_rate': 0.03570734361430684, 'subsample': 0.47072672543292043, 'colsample_bytree': 0.38474015915781096, 'min_child_samples': 51, 'num_leaves': 507}. Best is trial 34 with value: 0.42965076984451656.\n",
      "[I 2023-11-22 14:48:34,155] Trial 40 finished with value: 0.42419066258170246 and parameters: {'learning_rate': 0.05154594962883767, 'subsample': 0.4598121663033559, 'colsample_bytree': 0.4171881546022748, 'min_child_samples': 20, 'num_leaves': 255}. Best is trial 40 with value: 0.42419066258170246.\n",
      "[I 2023-11-22 14:48:35,711] Trial 41 finished with value: 0.42909073841273526 and parameters: {'learning_rate': 0.050392051361916976, 'subsample': 0.46543483050439177, 'colsample_bytree': 0.42013781364978237, 'min_child_samples': 24, 'num_leaves': 266}. Best is trial 40 with value: 0.42419066258170246.\n",
      "[I 2023-11-22 14:48:37,003] Trial 42 finished with value: 0.4226681296589453 and parameters: {'learning_rate': 0.04770626576261023, 'subsample': 0.4691471215531713, 'colsample_bytree': 0.4237429377975127, 'min_child_samples': 20, 'num_leaves': 113}. Best is trial 42 with value: 0.4226681296589453.\n",
      "[I 2023-11-22 14:48:38,227] Trial 43 finished with value: 0.4327282718696499 and parameters: {'learning_rate': 0.033543756001998506, 'subsample': 0.4720077919405392, 'colsample_bytree': 0.3641533452750781, 'min_child_samples': 20, 'num_leaves': 113}. Best is trial 42 with value: 0.4226681296589453.\n",
      "[I 2023-11-22 14:48:39,098] Trial 44 finished with value: 0.43769211081988246 and parameters: {'learning_rate': 0.03830408490319354, 'subsample': 0.4624991830778099, 'colsample_bytree': 0.4056704971809904, 'min_child_samples': 24, 'num_leaves': 203}. Best is trial 42 with value: 0.4226681296589453.\n",
      "[I 2023-11-22 14:48:40,131] Trial 45 finished with value: 0.4266611840502412 and parameters: {'learning_rate': 0.022992859099597925, 'subsample': 0.41226154880404103, 'colsample_bytree': 0.4335061492881147, 'min_child_samples': 20, 'num_leaves': 108}. Best is trial 42 with value: 0.4226681296589453.\n",
      "[I 2023-11-22 14:48:41,681] Trial 46 finished with value: 0.4298177792276609 and parameters: {'learning_rate': 0.021979530481551875, 'subsample': 0.4187121121283618, 'colsample_bytree': 0.4344874444022684, 'min_child_samples': 20, 'num_leaves': 104}. Best is trial 42 with value: 0.4226681296589453.\n",
      "[I 2023-11-22 14:48:42,919] Trial 47 finished with value: 0.4538440144997527 and parameters: {'learning_rate': 0.02879675288326685, 'subsample': 0.4198232874948399, 'colsample_bytree': 0.3784225604022436, 'min_child_samples': 31, 'num_leaves': 254}. Best is trial 42 with value: 0.4226681296589453.\n",
      "[I 2023-11-22 14:48:43,813] Trial 48 finished with value: 0.43761396236543093 and parameters: {'learning_rate': 0.03526245629083986, 'subsample': 0.45454141727850805, 'colsample_bytree': 0.353773516239124, 'min_child_samples': 23, 'num_leaves': 100}. Best is trial 42 with value: 0.4226681296589453.\n",
      "[I 2023-11-22 14:48:44,795] Trial 49 finished with value: 0.4402955674228977 and parameters: {'learning_rate': 0.04367117287181349, 'subsample': 0.3926893887324634, 'colsample_bytree': 0.37783161180098424, 'min_child_samples': 20, 'num_leaves': 157}. Best is trial 42 with value: 0.4226681296589453.\n",
      "[I 2023-11-22 14:48:45,502] Trial 50 finished with value: 0.4613701489191473 and parameters: {'learning_rate': 0.017464725573809445, 'subsample': 0.4246622801004741, 'colsample_bytree': 0.43140007843297473, 'min_child_samples': 60, 'num_leaves': 248}. Best is trial 42 with value: 0.4226681296589453.\n",
      "[I 2023-11-22 14:48:46,382] Trial 51 finished with value: 0.42636039057538583 and parameters: {'learning_rate': 0.023582625771989683, 'subsample': 0.4070661186293407, 'colsample_bytree': 0.4339315470736534, 'min_child_samples': 20, 'num_leaves': 88}. Best is trial 42 with value: 0.4226681296589453.\n",
      "[I 2023-11-22 14:48:47,362] Trial 52 finished with value: 0.44322530389163534 and parameters: {'learning_rate': 0.023335283650491673, 'subsample': 0.48047335635610433, 'colsample_bytree': 0.4016232642053001, 'min_child_samples': 23, 'num_leaves': 63}. Best is trial 42 with value: 0.4226681296589453.\n",
      "[I 2023-11-22 14:48:48,683] Trial 53 finished with value: 0.44339849231757855 and parameters: {'learning_rate': 0.029300232001461406, 'subsample': 0.3997687837962434, 'colsample_bytree': 0.4761939009138587, 'min_child_samples': 28, 'num_leaves': 158}. Best is trial 42 with value: 0.4226681296589453.\n",
      "[I 2023-11-22 14:48:49,947] Trial 54 finished with value: 0.44186026776461845 and parameters: {'learning_rate': 0.033183191831209526, 'subsample': 0.4386434612009684, 'colsample_bytree': 0.417872988489677, 'min_child_samples': 32, 'num_leaves': 216}. Best is trial 42 with value: 0.4226681296589453.\n",
      "[I 2023-11-22 14:48:50,875] Trial 55 finished with value: 0.4296981509456157 and parameters: {'learning_rate': 0.02009698924434777, 'subsample': 0.4788722788982728, 'colsample_bytree': 0.47256158138576343, 'min_child_samples': 22, 'num_leaves': 293}. Best is trial 42 with value: 0.4226681296589453.\n",
      "[I 2023-11-22 14:48:51,801] Trial 56 finished with value: 0.4363994430071348 and parameters: {'learning_rate': 0.0402681734065825, 'subsample': 0.4164589646260864, 'colsample_bytree': 0.44313984671507356, 'min_child_samples': 27, 'num_leaves': 52}. Best is trial 42 with value: 0.4226681296589453.\n",
      "[I 2023-11-22 14:48:52,867] Trial 57 finished with value: 0.4355081565842231 and parameters: {'learning_rate': 0.05275840892605679, 'subsample': 0.4554765354726644, 'colsample_bytree': 0.4366639477598994, 'min_child_samples': 20, 'num_leaves': 123}. Best is trial 42 with value: 0.4226681296589453.\n",
      "[I 2023-11-22 14:48:54,182] Trial 58 finished with value: 0.46512268785019695 and parameters: {'learning_rate': 0.06806768599137311, 'subsample': 0.43071995690174636, 'colsample_bytree': 0.24689756568350085, 'min_child_samples': 71, 'num_leaves': 322}. Best is trial 42 with value: 0.4226681296589453.\n",
      "[I 2023-11-22 14:48:54,896] Trial 59 finished with value: 0.4489618346840534 and parameters: {'learning_rate': 0.04598034804147859, 'subsample': 0.3772839267318349, 'colsample_bytree': 0.47877068003622253, 'min_child_samples': 38, 'num_leaves': 74}. Best is trial 42 with value: 0.4226681296589453.\n",
      "[I 2023-11-22 14:48:55,750] Trial 60 finished with value: 0.44448660047129196 and parameters: {'learning_rate': 0.06208493910914696, 'subsample': 0.403712062622279, 'colsample_bytree': 0.49737065313848816, 'min_child_samples': 33, 'num_leaves': 155}. Best is trial 42 with value: 0.4226681296589453.\n",
      "[I 2023-11-22 14:48:56,750] Trial 61 finished with value: 0.43744015251764623 and parameters: {'learning_rate': 0.019887454654753344, 'subsample': 0.477061832260812, 'colsample_bytree': 0.471584968491029, 'min_child_samples': 25, 'num_leaves': 304}. Best is trial 42 with value: 0.4226681296589453.\n",
      "[I 2023-11-22 14:48:58,133] Trial 62 finished with value: 0.4295886927390826 and parameters: {'learning_rate': 0.02586805355706382, 'subsample': 0.47794521710052723, 'colsample_bytree': 0.45549744510923945, 'min_child_samples': 23, 'num_leaves': 237}. Best is trial 42 with value: 0.4226681296589453.\n",
      "[I 2023-11-22 14:48:59,242] Trial 63 finished with value: 0.4430506124629058 and parameters: {'learning_rate': 0.024205051075636492, 'subsample': 0.44550294457196554, 'colsample_bytree': 0.4548479409915838, 'min_child_samples': 29, 'num_leaves': 231}. Best is trial 42 with value: 0.4226681296589453.\n",
      "[I 2023-11-22 14:49:00,126] Trial 64 finished with value: 0.4245870058766461 and parameters: {'learning_rate': 0.026716714653710758, 'subsample': 0.4582896636042023, 'colsample_bytree': 0.4161822863952031, 'min_child_samples': 22, 'num_leaves': 26}. Best is trial 42 with value: 0.4226681296589453.\n",
      "[I 2023-11-22 14:49:01,136] Trial 65 finished with value: 0.4341528862440165 and parameters: {'learning_rate': 0.014524708465271144, 'subsample': 0.48503009161651944, 'colsample_bytree': 0.4097984731150061, 'min_child_samples': 22, 'num_leaves': 198}. Best is trial 42 with value: 0.4226681296589453.\n",
      "[I 2023-11-22 14:49:03,136] Trial 66 finished with value: 0.47708691666915415 and parameters: {'learning_rate': 0.02665312328606197, 'subsample': 0.4352632297009374, 'colsample_bytree': 0.44753196376074744, 'min_child_samples': 100, 'num_leaves': 13}. Best is trial 42 with value: 0.4226681296589453.\n",
      "[I 2023-11-22 14:49:04,017] Trial 67 finished with value: 0.4488371875768975 and parameters: {'learning_rate': 0.03276423743742234, 'subsample': 0.41501664969237345, 'colsample_bytree': 0.38811814931596217, 'min_child_samples': 28, 'num_leaves': 134}. Best is trial 42 with value: 0.4226681296589453.\n",
      "[I 2023-11-22 14:49:05,004] Trial 68 finished with value: 0.4327715511427279 and parameters: {'learning_rate': 0.025151253443944716, 'subsample': 0.44854953779468815, 'colsample_bytree': 0.43508418591847087, 'min_child_samples': 23, 'num_leaves': 88}. Best is trial 42 with value: 0.4226681296589453.\n",
      "[I 2023-11-22 14:49:06,059] Trial 69 finished with value: 0.43638820127372313 and parameters: {'learning_rate': 0.03982228369726725, 'subsample': 0.4825403061525888, 'colsample_bytree': 0.4603824630696539, 'min_child_samples': 31, 'num_leaves': 27}. Best is trial 42 with value: 0.4226681296589453.\n",
      "[I 2023-11-22 14:49:07,241] Trial 70 finished with value: 0.42618079687999627 and parameters: {'learning_rate': 0.03167069298754709, 'subsample': 0.4338521793962059, 'colsample_bytree': 0.4865138128652159, 'min_child_samples': 22, 'num_leaves': 171}. Best is trial 42 with value: 0.4226681296589453.\n",
      "[I 2023-11-22 14:49:08,239] Trial 71 finished with value: 0.42536110485327583 and parameters: {'learning_rate': 0.0315036998169653, 'subsample': 0.4595180169158516, 'colsample_bytree': 0.4917425137388524, 'min_child_samples': 20, 'num_leaves': 178}. Best is trial 42 with value: 0.4226681296589453.\n",
      "[I 2023-11-22 14:49:09,183] Trial 72 finished with value: 0.42819206233839213 and parameters: {'learning_rate': 0.031626416718896225, 'subsample': 0.45927266709881426, 'colsample_bytree': 0.49872481053499274, 'min_child_samples': 20, 'num_leaves': 187}. Best is trial 42 with value: 0.4226681296589453.\n",
      "[I 2023-11-22 14:49:10,248] Trial 73 finished with value: 0.42789012446088137 and parameters: {'learning_rate': 0.03126812148976232, 'subsample': 0.42919002644633464, 'colsample_bytree': 0.48656178836561464, 'min_child_samples': 20, 'num_leaves': 181}. Best is trial 42 with value: 0.4226681296589453.\n",
      "[I 2023-11-22 14:49:11,477] Trial 74 finished with value: 0.44149358332047994 and parameters: {'learning_rate': 0.029989830511546606, 'subsample': 0.4297389329326861, 'colsample_bytree': 0.4869246201142529, 'min_child_samples': 27, 'num_leaves': 37}. Best is trial 42 with value: 0.4226681296589453.\n",
      "[I 2023-11-22 14:49:12,777] Trial 75 finished with value: 0.4331601325730113 and parameters: {'learning_rate': 0.03767002083681472, 'subsample': 0.4108450502478128, 'colsample_bytree': 0.48245910573976464, 'min_child_samples': 22, 'num_leaves': 174}. Best is trial 42 with value: 0.4226681296589453.\n",
      "[I 2023-11-22 14:49:13,717] Trial 76 finished with value: 0.4391053054827172 and parameters: {'learning_rate': 0.017530419975095513, 'subsample': 0.4418707405207565, 'colsample_bytree': 0.46917682176440073, 'min_child_samples': 26, 'num_leaves': 71}. Best is trial 42 with value: 0.4226681296589453.\n",
      "[I 2023-11-22 14:49:14,327] Trial 77 finished with value: 0.47876926568828515 and parameters: {'learning_rate': 0.022202618080255056, 'subsample': 0.38776969411071827, 'colsample_bytree': 0.48229813732157667, 'min_child_samples': 83, 'num_leaves': 134}. Best is trial 42 with value: 0.4226681296589453.\n",
      "[I 2023-11-22 14:49:14,913] Trial 78 finished with value: 0.45438072730155626 and parameters: {'learning_rate': 0.02763205692190752, 'subsample': 0.42552626200826826, 'colsample_bytree': 0.45002519906496813, 'min_child_samples': 20, 'num_leaves': 6}. Best is trial 42 with value: 0.4226681296589453.\n",
      "[I 2023-11-22 14:49:15,857] Trial 79 finished with value: 0.4451079933856662 and parameters: {'learning_rate': 0.03640082165332323, 'subsample': 0.3701589579844144, 'colsample_bytree': 0.4880904601976474, 'min_child_samples': 30, 'num_leaves': 131}. Best is trial 42 with value: 0.4226681296589453.\n",
      "[I 2023-11-22 14:49:16,841] Trial 80 finished with value: 0.4395572730259136 and parameters: {'learning_rate': 0.05900563618202071, 'subsample': 0.39815394615641203, 'colsample_bytree': 0.44144394193317843, 'min_child_samples': 25, 'num_leaves': 47}. Best is trial 42 with value: 0.4226681296589453.\n",
      "[I 2023-11-22 14:49:17,841] Trial 81 finished with value: 0.42049257783045446 and parameters: {'learning_rate': 0.044003653606792495, 'subsample': 0.46109394814578664, 'colsample_bytree': 0.49833000276908107, 'min_child_samples': 20, 'num_leaves': 183}. Best is trial 81 with value: 0.42049257783045446.\n",
      "[I 2023-11-22 14:49:19,006] Trial 82 finished with value: 0.4305684241619697 and parameters: {'learning_rate': 0.045170908086908663, 'subsample': 0.4570745992152243, 'colsample_bytree': 0.4646962056960105, 'min_child_samples': 22, 'num_leaves': 170}. Best is trial 81 with value: 0.42049257783045446.\n",
      "[I 2023-11-22 14:49:20,360] Trial 83 finished with value: 0.4265701289511831 and parameters: {'learning_rate': 0.03018578879760998, 'subsample': 0.4391691182730356, 'colsample_bytree': 0.4994906161429482, 'min_child_samples': 21, 'num_leaves': 91}. Best is trial 81 with value: 0.42049257783045446.\n",
      "[I 2023-11-22 14:49:22,895] Trial 84 finished with value: 0.4298433359056496 and parameters: {'learning_rate': 0.04199049424873716, 'subsample': 0.49963821474250003, 'colsample_bytree': 0.49524120282955403, 'min_child_samples': 22, 'num_leaves': 99}. Best is trial 81 with value: 0.42049257783045446.\n",
      "[I 2023-11-22 14:49:24,137] Trial 85 finished with value: 0.43416996758524645 and parameters: {'learning_rate': 0.035653055982900354, 'subsample': 0.4459536090235274, 'colsample_bytree': 0.4645821048782592, 'min_child_samples': 27, 'num_leaves': 73}. Best is trial 81 with value: 0.42049257783045446.\n",
      "[I 2023-11-22 14:49:25,385] Trial 86 finished with value: 0.44960491372024974 and parameters: {'learning_rate': 0.020362540276913494, 'subsample': 0.4685235760233759, 'colsample_bytree': 0.49943242436818613, 'min_child_samples': 36, 'num_leaves': 143}. Best is trial 81 with value: 0.42049257783045446.\n",
      "[I 2023-11-22 14:49:26,273] Trial 87 finished with value: 0.4355447889104087 and parameters: {'learning_rate': 0.028153763470141577, 'subsample': 0.40586688904974677, 'colsample_bytree': 0.4782911807325536, 'min_child_samples': 24, 'num_leaves': 218}. Best is trial 81 with value: 0.42049257783045446.\n",
      "[I 2023-11-22 14:49:27,175] Trial 88 finished with value: 0.4384064746038379 and parameters: {'learning_rate': 0.022898875996480973, 'subsample': 0.45920043685384143, 'colsample_bytree': 0.4284814109759944, 'min_child_samples': 29, 'num_leaves': 281}. Best is trial 81 with value: 0.42049257783045446.\n",
      "[I 2023-11-22 14:49:28,037] Trial 89 finished with value: 0.4362049203992794 and parameters: {'learning_rate': 0.04863649844335354, 'subsample': 0.44265110870600094, 'colsample_bytree': 0.44477450214997805, 'min_child_samples': 26, 'num_leaves': 44}. Best is trial 81 with value: 0.42049257783045446.\n",
      "[I 2023-11-22 14:49:30,113] Trial 90 finished with value: 0.431829347680489 and parameters: {'learning_rate': 0.05581242236780793, 'subsample': 0.46901841440567854, 'colsample_bytree': 0.4142754237876334, 'min_child_samples': 23, 'num_leaves': 98}. Best is trial 81 with value: 0.42049257783045446.\n",
      "[I 2023-11-22 14:49:31,845] Trial 91 finished with value: 0.42483434246348123 and parameters: {'learning_rate': 0.03274124022282287, 'subsample': 0.43331390034195055, 'colsample_bytree': 0.4877454896258292, 'min_child_samples': 20, 'num_leaves': 174}. Best is trial 81 with value: 0.42049257783045446.\n",
      "[I 2023-11-22 14:49:33,410] Trial 92 finished with value: 0.4239572238947213 and parameters: {'learning_rate': 0.038706804341228467, 'subsample': 0.4878997745216252, 'colsample_bytree': 0.4744215544221646, 'min_child_samples': 21, 'num_leaves': 209}. Best is trial 81 with value: 0.42049257783045446.\n",
      "[I 2023-11-22 14:49:34,691] Trial 93 finished with value: 0.4320354547125245 and parameters: {'learning_rate': 0.04065731460365937, 'subsample': 0.4873980497828688, 'colsample_bytree': 0.4724005077894611, 'min_child_samples': 22, 'num_leaves': 201}. Best is trial 81 with value: 0.42049257783045446.\n",
      "[I 2023-11-22 14:49:35,850] Trial 94 finished with value: 0.4277906900798588 and parameters: {'learning_rate': 0.03549373724618361, 'subsample': 0.4521198514904643, 'colsample_bytree': 0.4887515296808077, 'min_child_samples': 25, 'num_leaves': 265}. Best is trial 81 with value: 0.42049257783045446.\n",
      "[I 2023-11-22 14:49:37,485] Trial 95 finished with value: 0.42477953272689334 and parameters: {'learning_rate': 0.03164086317829024, 'subsample': 0.48581915856400637, 'colsample_bytree': 0.45623764083045826, 'min_child_samples': 21, 'num_leaves': 153}. Best is trial 81 with value: 0.42049257783045446.\n",
      "[I 2023-11-22 14:49:38,936] Trial 96 finished with value: 0.43343467860813967 and parameters: {'learning_rate': 0.04535634456638468, 'subsample': 0.4843417395392632, 'colsample_bytree': 0.4560908455003562, 'min_child_samples': 24, 'num_leaves': 332}. Best is trial 81 with value: 0.42049257783045446.\n",
      "[I 2023-11-22 14:49:40,861] Trial 97 finished with value: 0.422700257515868 and parameters: {'learning_rate': 0.03987034865879906, 'subsample': 0.4883591445330426, 'colsample_bytree': 0.47174575186919915, 'min_child_samples': 21, 'num_leaves': 387}. Best is trial 81 with value: 0.42049257783045446.\n",
      "[I 2023-11-22 14:49:42,242] Trial 98 finished with value: 0.43673367187812345 and parameters: {'learning_rate': 0.03881951770769323, 'subsample': 0.4880347457480092, 'colsample_bytree': 0.4689258387325086, 'min_child_samples': 29, 'num_leaves': 1022}. Best is trial 81 with value: 0.42049257783045446.\n",
      "[I 2023-11-22 14:49:44,068] Trial 99 finished with value: 0.43881606055110195 and parameters: {'learning_rate': 0.06560807407088874, 'subsample': 0.4721428649308395, 'colsample_bytree': 0.46027291584023433, 'min_child_samples': 26, 'num_leaves': 405}. Best is trial 81 with value: 0.42049257783045446.\n"
     ]
    },
    {
     "name": "stdout",
     "output_type": "stream",
     "text": [
      "Best MAE 0.42049257783045446\n",
      "Best params: {'learning_rate': 0.044003653606792495, 'subsample': 0.46109394814578664, 'colsample_bytree': 0.49833000276908107, 'min_child_samples': 20, 'num_leaves': 183}\n"
     ]
    }
   ],
   "source": [
    "# Define the objective function\n",
    "def objective(trial):\n",
    "    ### START CODE HERE\n",
    "    params = {\n",
    "        \"n_estimators\": 1000,\n",
    "        \"learning_rate\": trial.suggest_float(\"learning_rate\", 0.001, 0.1, log=True),\n",
    "        \"subsample\": trial.suggest_float(\"subsample\", 0.05, 0.5),\n",
    "        \"subsample_freq\": 1,\n",
    "        \"colsample_bytree\": trial.suggest_float(\"colsample_bytree\", 0.05, 0.5),\n",
    "        \"min_child_samples\": trial.suggest_int(\"min_child_samples\", 20, 100),\n",
    "        \"num_leaves\": trial.suggest_int(\"num_leaves\", 2, 2**10),\n",
    "        \"random_state\": RANDOM_SEED\n",
    "    }\n",
    "\n",
    "    model = lgb.LGBMRegressor(**params)\n",
    "    model.fit(train_x, train_y)\n",
    "\n",
    "    predictions = model.predict(test_x)\n",
    "\n",
    "    score = mean_absolute_error(test_y, predictions)\n",
    "    return score\n",
    "    ### END CODE HERE\n",
    "\n",
    "# Remember to assign \"lgbm-wine-1\" as the study_name to your Optuna study. \n",
    "study_name = \"lgbm-wine-1\"\n",
    "\n",
    "# For this assignment, it is enough to use a simple sqlite3 database for persisting study history\n",
    "storage = \"sqlite:///optuna.sqlite3\"\n",
    "\n",
    "# Create (and run) the study and record the history in the SQlite3 database file\n",
    "### START CODE HERE\n",
    "study = optuna.create_study(\n",
    "    direction=\"minimize\",\n",
    "    sampler=TPESampler(seed=RANDOM_SEED),\n",
    "    storage=storage,\n",
    "    study_name=study_name,\n",
    "    load_if_exists=True\n",
    ")\n",
    "study.optimize(objective, n_trials=100)\n",
    "### END CODE HERE\n",
    "\n",
    "print(\"Best MAE\", study.best_value)\n",
    "print(\"Best params:\", study.best_trial.params)"
   ]
  },
  {
   "cell_type": "markdown",
   "id": "2e76dd15",
   "metadata": {},
   "source": [
    "Expected output:\n",
    "\n",
    "Best MAE 0.42049257783045446\n",
    "\n",
    "Best params: {'colsample_bytree': 0.49833000276908107, 'learning_rate': 0.044003653606792495, 'min_child_samples': 20, 'num_leaves': 183, 'subsample': 0.46109394814578664}\n",
    "\n",
    "\n"
   ]
  },
  {
   "cell_type": "code",
   "execution_count": 11,
   "id": "0cd34fc8",
   "metadata": {},
   "outputs": [],
   "source": [
    "# Uncomment the code below and run this cell if you want to delete the study created in assignment 1 in the database\n",
    "\n",
    "optuna.delete_study(study_name=\"lgbm-wine-1\", storage=\"sqlite:///optuna.sqlite3\")"
   ]
  },
  {
   "cell_type": "markdown",
   "id": "3ff141c0",
   "metadata": {},
   "source": [
    "## Assignment 2: Analyzing an Optuna study (2 points)\n",
    "Optuna offers utility functions for visualizing the optimization process (i.e., study history). For example, it can plot the hyperparameter importance and the relationship between a hyperparameter and the objective. In this assignment, you need to analyze the study created in Assignment 1, adjust the search ranges of some hyperparameters to obtain better MAE.\n",
    "\n",
    "This assignment is divided into three parts and you need to answer a question after completing the coding in each part. For each question, **please put your answer to the same Markdown cell as the question.** Detailed instructions of each part can be found below. (There is not a single correct answer to these questions, so any reasonable answer will be considered for points.)"
   ]
  },
  {
   "cell_type": "code",
   "execution_count": 8,
   "id": "ffedc3bf",
   "metadata": {
    "scrolled": true
   },
   "outputs": [],
   "source": [
    "import plotly.io as pio\n",
    "\n",
    "# Configure Jupyter Notebook to render plotly figures drawn by Optuna\n",
    "pio.renderers.default = \"notebook\""
   ]
  },
  {
   "cell_type": "markdown",
   "id": "9b7db4ce",
   "metadata": {},
   "source": [
    "### 2a) Hyperparameter importance\n",
    "Load the \"lgbm-wine-1\" study created in Assignment 1 and plot the importance of the hyperparameters in the study. Similar to the tutorial, use the [FanovaImportanceEvaluator](https://optuna.readthedocs.io/en/stable/reference/generated/optuna.importance.FanovaImportanceEvaluator.html#optuna.importance.FanovaImportanceEvaluator) as the importance evaluator and set `RANDOM_STATE` as the seed for the evaluator for reproducibility. "
   ]
  },
  {
   "cell_type": "code",
   "execution_count": 13,
   "id": "88de9c8f",
   "metadata": {
    "nbgrader": {
     "grade": true,
     "grade_id": "cell-56495b0b9ae677e4",
     "locked": false,
     "points": 1,
     "schema_version": 3,
     "solution": true,
     "task": false
    }
   },
   "outputs": [
    {
     "data": {
      "application/vnd.plotly.v1+json": {
       "config": {
        "plotlyServerURL": "https://plot.ly"
       },
       "data": [
        {
         "cliponaxis": false,
         "hovertemplate": [
          "num_leaves (IntDistribution): 0.02577034330292129<extra></extra>",
          "learning_rate (FloatDistribution): 0.14355685930604103<extra></extra>",
          "colsample_bytree (FloatDistribution): 0.1685897380387733<extra></extra>",
          "min_child_samples (IntDistribution): 0.1753255813656782<extra></extra>",
          "subsample (FloatDistribution): 0.4867574779865862<extra></extra>"
         ],
         "marker": {
          "color": "rgb(66,146,198)"
         },
         "orientation": "h",
         "text": [
          "0.03",
          "0.14",
          "0.17",
          "0.18",
          "0.49"
         ],
         "textposition": "outside",
         "type": "bar",
         "x": [
          0.02577034330292129,
          0.14355685930604103,
          0.1685897380387733,
          0.1753255813656782,
          0.4867574779865862
         ],
         "y": [
          "num_leaves",
          "learning_rate",
          "colsample_bytree",
          "min_child_samples",
          "subsample"
         ]
        }
       ],
       "layout": {
        "showlegend": false,
        "template": {
         "data": {
          "bar": [
           {
            "error_x": {
             "color": "#2a3f5f"
            },
            "error_y": {
             "color": "#2a3f5f"
            },
            "marker": {
             "line": {
              "color": "#E5ECF6",
              "width": 0.5
             },
             "pattern": {
              "fillmode": "overlay",
              "size": 10,
              "solidity": 0.2
             }
            },
            "type": "bar"
           }
          ],
          "barpolar": [
           {
            "marker": {
             "line": {
              "color": "#E5ECF6",
              "width": 0.5
             },
             "pattern": {
              "fillmode": "overlay",
              "size": 10,
              "solidity": 0.2
             }
            },
            "type": "barpolar"
           }
          ],
          "carpet": [
           {
            "aaxis": {
             "endlinecolor": "#2a3f5f",
             "gridcolor": "white",
             "linecolor": "white",
             "minorgridcolor": "white",
             "startlinecolor": "#2a3f5f"
            },
            "baxis": {
             "endlinecolor": "#2a3f5f",
             "gridcolor": "white",
             "linecolor": "white",
             "minorgridcolor": "white",
             "startlinecolor": "#2a3f5f"
            },
            "type": "carpet"
           }
          ],
          "choropleth": [
           {
            "colorbar": {
             "outlinewidth": 0,
             "ticks": ""
            },
            "type": "choropleth"
           }
          ],
          "contour": [
           {
            "colorbar": {
             "outlinewidth": 0,
             "ticks": ""
            },
            "colorscale": [
             [
              0,
              "#0d0887"
             ],
             [
              0.1111111111111111,
              "#46039f"
             ],
             [
              0.2222222222222222,
              "#7201a8"
             ],
             [
              0.3333333333333333,
              "#9c179e"
             ],
             [
              0.4444444444444444,
              "#bd3786"
             ],
             [
              0.5555555555555556,
              "#d8576b"
             ],
             [
              0.6666666666666666,
              "#ed7953"
             ],
             [
              0.7777777777777778,
              "#fb9f3a"
             ],
             [
              0.8888888888888888,
              "#fdca26"
             ],
             [
              1,
              "#f0f921"
             ]
            ],
            "type": "contour"
           }
          ],
          "contourcarpet": [
           {
            "colorbar": {
             "outlinewidth": 0,
             "ticks": ""
            },
            "type": "contourcarpet"
           }
          ],
          "heatmap": [
           {
            "colorbar": {
             "outlinewidth": 0,
             "ticks": ""
            },
            "colorscale": [
             [
              0,
              "#0d0887"
             ],
             [
              0.1111111111111111,
              "#46039f"
             ],
             [
              0.2222222222222222,
              "#7201a8"
             ],
             [
              0.3333333333333333,
              "#9c179e"
             ],
             [
              0.4444444444444444,
              "#bd3786"
             ],
             [
              0.5555555555555556,
              "#d8576b"
             ],
             [
              0.6666666666666666,
              "#ed7953"
             ],
             [
              0.7777777777777778,
              "#fb9f3a"
             ],
             [
              0.8888888888888888,
              "#fdca26"
             ],
             [
              1,
              "#f0f921"
             ]
            ],
            "type": "heatmap"
           }
          ],
          "heatmapgl": [
           {
            "colorbar": {
             "outlinewidth": 0,
             "ticks": ""
            },
            "colorscale": [
             [
              0,
              "#0d0887"
             ],
             [
              0.1111111111111111,
              "#46039f"
             ],
             [
              0.2222222222222222,
              "#7201a8"
             ],
             [
              0.3333333333333333,
              "#9c179e"
             ],
             [
              0.4444444444444444,
              "#bd3786"
             ],
             [
              0.5555555555555556,
              "#d8576b"
             ],
             [
              0.6666666666666666,
              "#ed7953"
             ],
             [
              0.7777777777777778,
              "#fb9f3a"
             ],
             [
              0.8888888888888888,
              "#fdca26"
             ],
             [
              1,
              "#f0f921"
             ]
            ],
            "type": "heatmapgl"
           }
          ],
          "histogram": [
           {
            "marker": {
             "pattern": {
              "fillmode": "overlay",
              "size": 10,
              "solidity": 0.2
             }
            },
            "type": "histogram"
           }
          ],
          "histogram2d": [
           {
            "colorbar": {
             "outlinewidth": 0,
             "ticks": ""
            },
            "colorscale": [
             [
              0,
              "#0d0887"
             ],
             [
              0.1111111111111111,
              "#46039f"
             ],
             [
              0.2222222222222222,
              "#7201a8"
             ],
             [
              0.3333333333333333,
              "#9c179e"
             ],
             [
              0.4444444444444444,
              "#bd3786"
             ],
             [
              0.5555555555555556,
              "#d8576b"
             ],
             [
              0.6666666666666666,
              "#ed7953"
             ],
             [
              0.7777777777777778,
              "#fb9f3a"
             ],
             [
              0.8888888888888888,
              "#fdca26"
             ],
             [
              1,
              "#f0f921"
             ]
            ],
            "type": "histogram2d"
           }
          ],
          "histogram2dcontour": [
           {
            "colorbar": {
             "outlinewidth": 0,
             "ticks": ""
            },
            "colorscale": [
             [
              0,
              "#0d0887"
             ],
             [
              0.1111111111111111,
              "#46039f"
             ],
             [
              0.2222222222222222,
              "#7201a8"
             ],
             [
              0.3333333333333333,
              "#9c179e"
             ],
             [
              0.4444444444444444,
              "#bd3786"
             ],
             [
              0.5555555555555556,
              "#d8576b"
             ],
             [
              0.6666666666666666,
              "#ed7953"
             ],
             [
              0.7777777777777778,
              "#fb9f3a"
             ],
             [
              0.8888888888888888,
              "#fdca26"
             ],
             [
              1,
              "#f0f921"
             ]
            ],
            "type": "histogram2dcontour"
           }
          ],
          "mesh3d": [
           {
            "colorbar": {
             "outlinewidth": 0,
             "ticks": ""
            },
            "type": "mesh3d"
           }
          ],
          "parcoords": [
           {
            "line": {
             "colorbar": {
              "outlinewidth": 0,
              "ticks": ""
             }
            },
            "type": "parcoords"
           }
          ],
          "pie": [
           {
            "automargin": true,
            "type": "pie"
           }
          ],
          "scatter": [
           {
            "fillpattern": {
             "fillmode": "overlay",
             "size": 10,
             "solidity": 0.2
            },
            "type": "scatter"
           }
          ],
          "scatter3d": [
           {
            "line": {
             "colorbar": {
              "outlinewidth": 0,
              "ticks": ""
             }
            },
            "marker": {
             "colorbar": {
              "outlinewidth": 0,
              "ticks": ""
             }
            },
            "type": "scatter3d"
           }
          ],
          "scattercarpet": [
           {
            "marker": {
             "colorbar": {
              "outlinewidth": 0,
              "ticks": ""
             }
            },
            "type": "scattercarpet"
           }
          ],
          "scattergeo": [
           {
            "marker": {
             "colorbar": {
              "outlinewidth": 0,
              "ticks": ""
             }
            },
            "type": "scattergeo"
           }
          ],
          "scattergl": [
           {
            "marker": {
             "colorbar": {
              "outlinewidth": 0,
              "ticks": ""
             }
            },
            "type": "scattergl"
           }
          ],
          "scattermapbox": [
           {
            "marker": {
             "colorbar": {
              "outlinewidth": 0,
              "ticks": ""
             }
            },
            "type": "scattermapbox"
           }
          ],
          "scatterpolar": [
           {
            "marker": {
             "colorbar": {
              "outlinewidth": 0,
              "ticks": ""
             }
            },
            "type": "scatterpolar"
           }
          ],
          "scatterpolargl": [
           {
            "marker": {
             "colorbar": {
              "outlinewidth": 0,
              "ticks": ""
             }
            },
            "type": "scatterpolargl"
           }
          ],
          "scatterternary": [
           {
            "marker": {
             "colorbar": {
              "outlinewidth": 0,
              "ticks": ""
             }
            },
            "type": "scatterternary"
           }
          ],
          "surface": [
           {
            "colorbar": {
             "outlinewidth": 0,
             "ticks": ""
            },
            "colorscale": [
             [
              0,
              "#0d0887"
             ],
             [
              0.1111111111111111,
              "#46039f"
             ],
             [
              0.2222222222222222,
              "#7201a8"
             ],
             [
              0.3333333333333333,
              "#9c179e"
             ],
             [
              0.4444444444444444,
              "#bd3786"
             ],
             [
              0.5555555555555556,
              "#d8576b"
             ],
             [
              0.6666666666666666,
              "#ed7953"
             ],
             [
              0.7777777777777778,
              "#fb9f3a"
             ],
             [
              0.8888888888888888,
              "#fdca26"
             ],
             [
              1,
              "#f0f921"
             ]
            ],
            "type": "surface"
           }
          ],
          "table": [
           {
            "cells": {
             "fill": {
              "color": "#EBF0F8"
             },
             "line": {
              "color": "white"
             }
            },
            "header": {
             "fill": {
              "color": "#C8D4E3"
             },
             "line": {
              "color": "white"
             }
            },
            "type": "table"
           }
          ]
         },
         "layout": {
          "annotationdefaults": {
           "arrowcolor": "#2a3f5f",
           "arrowhead": 0,
           "arrowwidth": 1
          },
          "autotypenumbers": "strict",
          "coloraxis": {
           "colorbar": {
            "outlinewidth": 0,
            "ticks": ""
           }
          },
          "colorscale": {
           "diverging": [
            [
             0,
             "#8e0152"
            ],
            [
             0.1,
             "#c51b7d"
            ],
            [
             0.2,
             "#de77ae"
            ],
            [
             0.3,
             "#f1b6da"
            ],
            [
             0.4,
             "#fde0ef"
            ],
            [
             0.5,
             "#f7f7f7"
            ],
            [
             0.6,
             "#e6f5d0"
            ],
            [
             0.7,
             "#b8e186"
            ],
            [
             0.8,
             "#7fbc41"
            ],
            [
             0.9,
             "#4d9221"
            ],
            [
             1,
             "#276419"
            ]
           ],
           "sequential": [
            [
             0,
             "#0d0887"
            ],
            [
             0.1111111111111111,
             "#46039f"
            ],
            [
             0.2222222222222222,
             "#7201a8"
            ],
            [
             0.3333333333333333,
             "#9c179e"
            ],
            [
             0.4444444444444444,
             "#bd3786"
            ],
            [
             0.5555555555555556,
             "#d8576b"
            ],
            [
             0.6666666666666666,
             "#ed7953"
            ],
            [
             0.7777777777777778,
             "#fb9f3a"
            ],
            [
             0.8888888888888888,
             "#fdca26"
            ],
            [
             1,
             "#f0f921"
            ]
           ],
           "sequentialminus": [
            [
             0,
             "#0d0887"
            ],
            [
             0.1111111111111111,
             "#46039f"
            ],
            [
             0.2222222222222222,
             "#7201a8"
            ],
            [
             0.3333333333333333,
             "#9c179e"
            ],
            [
             0.4444444444444444,
             "#bd3786"
            ],
            [
             0.5555555555555556,
             "#d8576b"
            ],
            [
             0.6666666666666666,
             "#ed7953"
            ],
            [
             0.7777777777777778,
             "#fb9f3a"
            ],
            [
             0.8888888888888888,
             "#fdca26"
            ],
            [
             1,
             "#f0f921"
            ]
           ]
          },
          "colorway": [
           "#636efa",
           "#EF553B",
           "#00cc96",
           "#ab63fa",
           "#FFA15A",
           "#19d3f3",
           "#FF6692",
           "#B6E880",
           "#FF97FF",
           "#FECB52"
          ],
          "font": {
           "color": "#2a3f5f"
          },
          "geo": {
           "bgcolor": "white",
           "lakecolor": "white",
           "landcolor": "#E5ECF6",
           "showlakes": true,
           "showland": true,
           "subunitcolor": "white"
          },
          "hoverlabel": {
           "align": "left"
          },
          "hovermode": "closest",
          "mapbox": {
           "style": "light"
          },
          "paper_bgcolor": "white",
          "plot_bgcolor": "#E5ECF6",
          "polar": {
           "angularaxis": {
            "gridcolor": "white",
            "linecolor": "white",
            "ticks": ""
           },
           "bgcolor": "#E5ECF6",
           "radialaxis": {
            "gridcolor": "white",
            "linecolor": "white",
            "ticks": ""
           }
          },
          "scene": {
           "xaxis": {
            "backgroundcolor": "#E5ECF6",
            "gridcolor": "white",
            "gridwidth": 2,
            "linecolor": "white",
            "showbackground": true,
            "ticks": "",
            "zerolinecolor": "white"
           },
           "yaxis": {
            "backgroundcolor": "#E5ECF6",
            "gridcolor": "white",
            "gridwidth": 2,
            "linecolor": "white",
            "showbackground": true,
            "ticks": "",
            "zerolinecolor": "white"
           },
           "zaxis": {
            "backgroundcolor": "#E5ECF6",
            "gridcolor": "white",
            "gridwidth": 2,
            "linecolor": "white",
            "showbackground": true,
            "ticks": "",
            "zerolinecolor": "white"
           }
          },
          "shapedefaults": {
           "line": {
            "color": "#2a3f5f"
           }
          },
          "ternary": {
           "aaxis": {
            "gridcolor": "white",
            "linecolor": "white",
            "ticks": ""
           },
           "baxis": {
            "gridcolor": "white",
            "linecolor": "white",
            "ticks": ""
           },
           "bgcolor": "#E5ECF6",
           "caxis": {
            "gridcolor": "white",
            "linecolor": "white",
            "ticks": ""
           }
          },
          "title": {
           "x": 0.05
          },
          "xaxis": {
           "automargin": true,
           "gridcolor": "white",
           "linecolor": "white",
           "ticks": "",
           "title": {
            "standoff": 15
           },
           "zerolinecolor": "white",
           "zerolinewidth": 2
          },
          "yaxis": {
           "automargin": true,
           "gridcolor": "white",
           "linecolor": "white",
           "ticks": "",
           "title": {
            "standoff": 15
           },
           "zerolinecolor": "white",
           "zerolinewidth": 2
          }
         }
        },
        "title": {
         "text": "Hyperparameter Importances"
        },
        "xaxis": {
         "title": {
          "text": "Importance for Objective Value"
         }
        },
        "yaxis": {
         "title": {
          "text": "Hyperparameter"
         }
        }
       }
      }
     },
     "metadata": {},
     "output_type": "display_data"
    }
   ],
   "source": [
    "# Plot the hyperparameter importance\n",
    "study_name = \"lgbm-wine-1\"\n",
    "storage = \"sqlite:///optuna.sqlite3\"\n",
    "\n",
    "### START CODE HERE\n",
    "study = optuna.load_study(study_name=study_name, storage=storage)\n",
    "fig = optuna.visualization.plot_param_importances(study, evaluator=optuna.importance.FanovaImportanceEvaluator(seed=RANDOM_SEED))\n",
    "fig.show()\n",
    "### END CODE HERE"
   ]
  },
  {
   "cell_type": "markdown",
   "id": "5f056c23",
   "metadata": {},
   "source": [
    "### Question for Assignment 2a\n",
    "What are the most two important hyperparameters in the \"lgbm-wine-1\" study created in Assignment 1?"
   ]
  },
  {
   "cell_type": "markdown",
   "metadata": {},
   "source": [
    "Answer: \"min_child_samples\" and \"subsample\""
   ]
  },
  {
   "cell_type": "markdown",
   "id": "6c4a8161",
   "metadata": {},
   "source": [
    "### 2b) The impact of hyperparameters\n",
    "Plot the relationships of the most two important hyperparameters and the objective in a slice plot. \n",
    "\n",
    "Hint: [How to plot the relationship between a hyperparameter and the objective?](https://optuna.readthedocs.io/en/stable/reference/visualization/generated/optuna.visualization.plot_slice.html)"
   ]
  },
  {
   "cell_type": "code",
   "execution_count": 14,
   "id": "f13dd0bf",
   "metadata": {
    "nbgrader": {
     "grade": true,
     "grade_id": "cell-cd0ab0fecac2d570",
     "locked": false,
     "points": 1,
     "schema_version": 3,
     "solution": true,
     "task": false
    },
    "scrolled": true
   },
   "outputs": [
    {
     "data": {
      "application/vnd.plotly.v1+json": {
       "config": {
        "plotlyServerURL": "https://plot.ly"
       },
       "data": [
        {
         "marker": {
          "color": [
           0,
           1,
           2,
           3,
           4,
           5,
           6,
           7,
           8,
           9,
           10,
           11,
           12,
           13,
           14,
           15,
           16,
           17,
           18,
           19,
           20,
           21,
           22,
           23,
           24,
           25,
           26,
           27,
           28,
           29,
           30,
           31,
           32,
           33,
           34,
           35,
           36,
           37,
           38,
           39,
           40,
           41,
           42,
           43,
           44,
           45,
           46,
           47,
           48,
           49,
           50,
           51,
           52,
           53,
           54,
           55,
           56,
           57,
           58,
           59,
           60,
           61,
           62,
           63,
           64,
           65,
           66,
           67,
           68,
           69,
           70,
           71,
           72,
           73,
           74,
           75,
           76,
           77,
           78,
           79,
           80,
           81,
           82,
           83,
           84,
           85,
           86,
           87,
           88,
           89,
           90,
           91,
           92,
           93,
           94,
           95,
           96,
           97,
           98,
           99
          ],
          "colorbar": {
           "title": {
            "text": "Trial"
           },
           "x": 1,
           "xpad": 40
          },
          "colorscale": [
           [
            0,
            "rgb(247,251,255)"
           ],
           [
            0.125,
            "rgb(222,235,247)"
           ],
           [
            0.25,
            "rgb(198,219,239)"
           ],
           [
            0.375,
            "rgb(158,202,225)"
           ],
           [
            0.5,
            "rgb(107,174,214)"
           ],
           [
            0.625,
            "rgb(66,146,198)"
           ],
           [
            0.75,
            "rgb(33,113,181)"
           ],
           [
            0.875,
            "rgb(8,81,156)"
           ],
           [
            1,
            "rgb(8,48,107)"
           ]
          ],
          "line": {
           "color": "Grey",
           "width": 0.5
          },
          "showscale": true
         },
         "mode": "markers",
         "showlegend": false,
         "type": "scatter",
         "x": [
          68,
          68,
          37,
          54,
          49,
          67,
          96,
          75,
          93,
          64,
          21,
          26,
          22,
          20,
          36,
          35,
          35,
          44,
          30,
          43,
          30,
          31,
          29,
          55,
          43,
          28,
          86,
          39,
          48,
          27,
          76,
          26,
          34,
          34,
          25,
          25,
          25,
          24,
          40,
          51,
          20,
          24,
          20,
          20,
          24,
          20,
          20,
          31,
          23,
          20,
          60,
          20,
          23,
          28,
          32,
          22,
          27,
          20,
          71,
          38,
          33,
          25,
          23,
          29,
          22,
          22,
          100,
          28,
          23,
          31,
          22,
          20,
          20,
          20,
          27,
          22,
          26,
          83,
          20,
          30,
          25,
          20,
          22,
          21,
          22,
          27,
          36,
          24,
          29,
          26,
          23,
          20,
          21,
          22,
          25,
          21,
          24,
          21,
          29,
          26
         ],
         "xaxis": "x",
         "y": [
          0.48305757514051956,
          0.6685091743119267,
          0.5330860406894041,
          0.5338040960963436,
          0.5076269460531386,
          0.5076748898380093,
          0.6685091743119267,
          0.5051750796616936,
          0.602185209067021,
          0.49454634175435186,
          0.45233172719956855,
          0.47633974214588887,
          0.457045974419484,
          0.45228641223565036,
          0.4679703012775917,
          0.44491889961791514,
          0.4534286733960903,
          0.4666925709424738,
          0.46710965135785415,
          0.4537187518710503,
          0.447940897337388,
          0.4516003748922974,
          0.4489556716781,
          0.4623308057706593,
          0.46122172738328937,
          0.4342331555289691,
          0.4684920769871428,
          0.4602439747018141,
          0.45822004063085203,
          0.44806583391439925,
          0.46823287131172575,
          0.4445983514656934,
          0.4402175677984128,
          0.4533557329196081,
          0.42965076984451656,
          0.43220440949326205,
          0.43398724655866266,
          0.43619076085413055,
          0.45651220522616326,
          0.4631976644848161,
          0.42419066258170246,
          0.42909073841273526,
          0.4226681296589453,
          0.4327282718696499,
          0.43769211081988246,
          0.4266611840502412,
          0.4298177792276609,
          0.4538440144997527,
          0.43761396236543093,
          0.4402955674228977,
          0.4613701489191473,
          0.42636039057538583,
          0.44322530389163534,
          0.44339849231757855,
          0.44186026776461845,
          0.4296981509456157,
          0.4363994430071348,
          0.4355081565842231,
          0.46512268785019695,
          0.4489618346840534,
          0.44448660047129196,
          0.43744015251764623,
          0.4295886927390826,
          0.4430506124629058,
          0.4245870058766461,
          0.4341528862440165,
          0.47708691666915415,
          0.4488371875768975,
          0.4327715511427279,
          0.43638820127372313,
          0.42618079687999627,
          0.42536110485327583,
          0.42819206233839213,
          0.42789012446088137,
          0.44149358332047994,
          0.4331601325730113,
          0.4391053054827172,
          0.47876926568828515,
          0.45438072730155626,
          0.4451079933856662,
          0.4395572730259136,
          0.42049257783045446,
          0.4305684241619697,
          0.4265701289511831,
          0.4298433359056496,
          0.43416996758524645,
          0.44960491372024974,
          0.4355447889104087,
          0.4384064746038379,
          0.4362049203992794,
          0.431829347680489,
          0.42483434246348123,
          0.4239572238947213,
          0.4320354547125245,
          0.4277906900798588,
          0.42477953272689334,
          0.43343467860813967,
          0.422700257515868,
          0.43673367187812345,
          0.43881606055110195
         ],
         "yaxis": "y"
        },
        {
         "marker": {
          "color": [
           0,
           1,
           2,
           3,
           4,
           5,
           6,
           7,
           8,
           9,
           10,
           11,
           12,
           13,
           14,
           15,
           16,
           17,
           18,
           19,
           20,
           21,
           22,
           23,
           24,
           25,
           26,
           27,
           28,
           29,
           30,
           31,
           32,
           33,
           34,
           35,
           36,
           37,
           38,
           39,
           40,
           41,
           42,
           43,
           44,
           45,
           46,
           47,
           48,
           49,
           50,
           51,
           52,
           53,
           54,
           55,
           56,
           57,
           58,
           59,
           60,
           61,
           62,
           63,
           64,
           65,
           66,
           67,
           68,
           69,
           70,
           71,
           72,
           73,
           74,
           75,
           76,
           77,
           78,
           79,
           80,
           81,
           82,
           83,
           84,
           85,
           86,
           87,
           88,
           89,
           90,
           91,
           92,
           93,
           94,
           95,
           96,
           97,
           98,
           99
          ],
          "colorbar": {
           "title": {
            "text": "Trial"
           },
           "x": 1,
           "xpad": 40
          },
          "colorscale": [
           [
            0,
            "rgb(247,251,255)"
           ],
           [
            0.125,
            "rgb(222,235,247)"
           ],
           [
            0.25,
            "rgb(198,219,239)"
           ],
           [
            0.375,
            "rgb(158,202,225)"
           ],
           [
            0.5,
            "rgb(107,174,214)"
           ],
           [
            0.625,
            "rgb(66,146,198)"
           ],
           [
            0.75,
            "rgb(33,113,181)"
           ],
           [
            0.875,
            "rgb(8,81,156)"
           ],
           [
            1,
            "rgb(8,48,107)"
           ]
          ],
          "line": {
           "color": "Grey",
           "width": 0.5
          },
          "showscale": false
         },
         "mode": "markers",
         "showlegend": false,
         "type": "scatter",
         "x": [
          0.4778214378844623,
          0.07613762547568977,
          0.48645943347289744,
          0.186909009331792,
          0.11277223729341883,
          0.1398532019712619,
          0.1267358556592812,
          0.1870761961280168,
          0.2728296095500716,
          0.19026998424023495,
          0.46978789997535003,
          0.48995674302519066,
          0.4001693423687098,
          0.4019317030502952,
          0.40587610919957545,
          0.38404037985013173,
          0.3593416108926655,
          0.3280054759452771,
          0.2936018218648819,
          0.4135757771377759,
          0.433902354799973,
          0.43524358052312223,
          0.44218419993494124,
          0.4379199559044892,
          0.3520566353077483,
          0.45031259532779655,
          0.4978238756541076,
          0.379904787194608,
          0.4260205449783876,
          0.46236799124240197,
          0.44797219120502024,
          0.4507615905473845,
          0.4662571397680406,
          0.474522796777465,
          0.463491458124007,
          0.49523373514285723,
          0.4929917703501335,
          0.4936108267298752,
          0.4961136017675955,
          0.47072672543292043,
          0.4598121663033559,
          0.46543483050439177,
          0.4691471215531713,
          0.4720077919405392,
          0.4624991830778099,
          0.41226154880404103,
          0.4187121121283618,
          0.4198232874948399,
          0.45454141727850805,
          0.3926893887324634,
          0.4246622801004741,
          0.4070661186293407,
          0.48047335635610433,
          0.3997687837962434,
          0.4386434612009684,
          0.4788722788982728,
          0.4164589646260864,
          0.4554765354726644,
          0.43071995690174636,
          0.3772839267318349,
          0.403712062622279,
          0.477061832260812,
          0.47794521710052723,
          0.44550294457196554,
          0.4582896636042023,
          0.48503009161651944,
          0.4352632297009374,
          0.41501664969237345,
          0.44854953779468815,
          0.4825403061525888,
          0.4338521793962059,
          0.4595180169158516,
          0.45927266709881426,
          0.42919002644633464,
          0.4297389329326861,
          0.4108450502478128,
          0.4418707405207565,
          0.38776969411071827,
          0.42552626200826826,
          0.3701589579844144,
          0.39815394615641203,
          0.46109394814578664,
          0.4570745992152243,
          0.4391691182730356,
          0.49963821474250003,
          0.4459536090235274,
          0.4685235760233759,
          0.40586688904974677,
          0.45920043685384143,
          0.44265110870600094,
          0.46901841440567854,
          0.43331390034195055,
          0.4878997745216252,
          0.4873980497828688,
          0.4521198514904643,
          0.48581915856400637,
          0.4843417395392632,
          0.4883591445330426,
          0.4880347457480092,
          0.4721428649308395
         ],
         "xaxis": "x2",
         "y": [
          0.48305757514051956,
          0.6685091743119267,
          0.5330860406894041,
          0.5338040960963436,
          0.5076269460531386,
          0.5076748898380093,
          0.6685091743119267,
          0.5051750796616936,
          0.602185209067021,
          0.49454634175435186,
          0.45233172719956855,
          0.47633974214588887,
          0.457045974419484,
          0.45228641223565036,
          0.4679703012775917,
          0.44491889961791514,
          0.4534286733960903,
          0.4666925709424738,
          0.46710965135785415,
          0.4537187518710503,
          0.447940897337388,
          0.4516003748922974,
          0.4489556716781,
          0.4623308057706593,
          0.46122172738328937,
          0.4342331555289691,
          0.4684920769871428,
          0.4602439747018141,
          0.45822004063085203,
          0.44806583391439925,
          0.46823287131172575,
          0.4445983514656934,
          0.4402175677984128,
          0.4533557329196081,
          0.42965076984451656,
          0.43220440949326205,
          0.43398724655866266,
          0.43619076085413055,
          0.45651220522616326,
          0.4631976644848161,
          0.42419066258170246,
          0.42909073841273526,
          0.4226681296589453,
          0.4327282718696499,
          0.43769211081988246,
          0.4266611840502412,
          0.4298177792276609,
          0.4538440144997527,
          0.43761396236543093,
          0.4402955674228977,
          0.4613701489191473,
          0.42636039057538583,
          0.44322530389163534,
          0.44339849231757855,
          0.44186026776461845,
          0.4296981509456157,
          0.4363994430071348,
          0.4355081565842231,
          0.46512268785019695,
          0.4489618346840534,
          0.44448660047129196,
          0.43744015251764623,
          0.4295886927390826,
          0.4430506124629058,
          0.4245870058766461,
          0.4341528862440165,
          0.47708691666915415,
          0.4488371875768975,
          0.4327715511427279,
          0.43638820127372313,
          0.42618079687999627,
          0.42536110485327583,
          0.42819206233839213,
          0.42789012446088137,
          0.44149358332047994,
          0.4331601325730113,
          0.4391053054827172,
          0.47876926568828515,
          0.45438072730155626,
          0.4451079933856662,
          0.4395572730259136,
          0.42049257783045446,
          0.4305684241619697,
          0.4265701289511831,
          0.4298433359056496,
          0.43416996758524645,
          0.44960491372024974,
          0.4355447889104087,
          0.4384064746038379,
          0.4362049203992794,
          0.431829347680489,
          0.42483434246348123,
          0.4239572238947213,
          0.4320354547125245,
          0.4277906900798588,
          0.42477953272689334,
          0.43343467860813967,
          0.422700257515868,
          0.43673367187812345,
          0.43881606055110195
         ],
         "yaxis": "y2"
        }
       ],
       "layout": {
        "template": {
         "data": {
          "bar": [
           {
            "error_x": {
             "color": "#2a3f5f"
            },
            "error_y": {
             "color": "#2a3f5f"
            },
            "marker": {
             "line": {
              "color": "#E5ECF6",
              "width": 0.5
             },
             "pattern": {
              "fillmode": "overlay",
              "size": 10,
              "solidity": 0.2
             }
            },
            "type": "bar"
           }
          ],
          "barpolar": [
           {
            "marker": {
             "line": {
              "color": "#E5ECF6",
              "width": 0.5
             },
             "pattern": {
              "fillmode": "overlay",
              "size": 10,
              "solidity": 0.2
             }
            },
            "type": "barpolar"
           }
          ],
          "carpet": [
           {
            "aaxis": {
             "endlinecolor": "#2a3f5f",
             "gridcolor": "white",
             "linecolor": "white",
             "minorgridcolor": "white",
             "startlinecolor": "#2a3f5f"
            },
            "baxis": {
             "endlinecolor": "#2a3f5f",
             "gridcolor": "white",
             "linecolor": "white",
             "minorgridcolor": "white",
             "startlinecolor": "#2a3f5f"
            },
            "type": "carpet"
           }
          ],
          "choropleth": [
           {
            "colorbar": {
             "outlinewidth": 0,
             "ticks": ""
            },
            "type": "choropleth"
           }
          ],
          "contour": [
           {
            "colorbar": {
             "outlinewidth": 0,
             "ticks": ""
            },
            "colorscale": [
             [
              0,
              "#0d0887"
             ],
             [
              0.1111111111111111,
              "#46039f"
             ],
             [
              0.2222222222222222,
              "#7201a8"
             ],
             [
              0.3333333333333333,
              "#9c179e"
             ],
             [
              0.4444444444444444,
              "#bd3786"
             ],
             [
              0.5555555555555556,
              "#d8576b"
             ],
             [
              0.6666666666666666,
              "#ed7953"
             ],
             [
              0.7777777777777778,
              "#fb9f3a"
             ],
             [
              0.8888888888888888,
              "#fdca26"
             ],
             [
              1,
              "#f0f921"
             ]
            ],
            "type": "contour"
           }
          ],
          "contourcarpet": [
           {
            "colorbar": {
             "outlinewidth": 0,
             "ticks": ""
            },
            "type": "contourcarpet"
           }
          ],
          "heatmap": [
           {
            "colorbar": {
             "outlinewidth": 0,
             "ticks": ""
            },
            "colorscale": [
             [
              0,
              "#0d0887"
             ],
             [
              0.1111111111111111,
              "#46039f"
             ],
             [
              0.2222222222222222,
              "#7201a8"
             ],
             [
              0.3333333333333333,
              "#9c179e"
             ],
             [
              0.4444444444444444,
              "#bd3786"
             ],
             [
              0.5555555555555556,
              "#d8576b"
             ],
             [
              0.6666666666666666,
              "#ed7953"
             ],
             [
              0.7777777777777778,
              "#fb9f3a"
             ],
             [
              0.8888888888888888,
              "#fdca26"
             ],
             [
              1,
              "#f0f921"
             ]
            ],
            "type": "heatmap"
           }
          ],
          "heatmapgl": [
           {
            "colorbar": {
             "outlinewidth": 0,
             "ticks": ""
            },
            "colorscale": [
             [
              0,
              "#0d0887"
             ],
             [
              0.1111111111111111,
              "#46039f"
             ],
             [
              0.2222222222222222,
              "#7201a8"
             ],
             [
              0.3333333333333333,
              "#9c179e"
             ],
             [
              0.4444444444444444,
              "#bd3786"
             ],
             [
              0.5555555555555556,
              "#d8576b"
             ],
             [
              0.6666666666666666,
              "#ed7953"
             ],
             [
              0.7777777777777778,
              "#fb9f3a"
             ],
             [
              0.8888888888888888,
              "#fdca26"
             ],
             [
              1,
              "#f0f921"
             ]
            ],
            "type": "heatmapgl"
           }
          ],
          "histogram": [
           {
            "marker": {
             "pattern": {
              "fillmode": "overlay",
              "size": 10,
              "solidity": 0.2
             }
            },
            "type": "histogram"
           }
          ],
          "histogram2d": [
           {
            "colorbar": {
             "outlinewidth": 0,
             "ticks": ""
            },
            "colorscale": [
             [
              0,
              "#0d0887"
             ],
             [
              0.1111111111111111,
              "#46039f"
             ],
             [
              0.2222222222222222,
              "#7201a8"
             ],
             [
              0.3333333333333333,
              "#9c179e"
             ],
             [
              0.4444444444444444,
              "#bd3786"
             ],
             [
              0.5555555555555556,
              "#d8576b"
             ],
             [
              0.6666666666666666,
              "#ed7953"
             ],
             [
              0.7777777777777778,
              "#fb9f3a"
             ],
             [
              0.8888888888888888,
              "#fdca26"
             ],
             [
              1,
              "#f0f921"
             ]
            ],
            "type": "histogram2d"
           }
          ],
          "histogram2dcontour": [
           {
            "colorbar": {
             "outlinewidth": 0,
             "ticks": ""
            },
            "colorscale": [
             [
              0,
              "#0d0887"
             ],
             [
              0.1111111111111111,
              "#46039f"
             ],
             [
              0.2222222222222222,
              "#7201a8"
             ],
             [
              0.3333333333333333,
              "#9c179e"
             ],
             [
              0.4444444444444444,
              "#bd3786"
             ],
             [
              0.5555555555555556,
              "#d8576b"
             ],
             [
              0.6666666666666666,
              "#ed7953"
             ],
             [
              0.7777777777777778,
              "#fb9f3a"
             ],
             [
              0.8888888888888888,
              "#fdca26"
             ],
             [
              1,
              "#f0f921"
             ]
            ],
            "type": "histogram2dcontour"
           }
          ],
          "mesh3d": [
           {
            "colorbar": {
             "outlinewidth": 0,
             "ticks": ""
            },
            "type": "mesh3d"
           }
          ],
          "parcoords": [
           {
            "line": {
             "colorbar": {
              "outlinewidth": 0,
              "ticks": ""
             }
            },
            "type": "parcoords"
           }
          ],
          "pie": [
           {
            "automargin": true,
            "type": "pie"
           }
          ],
          "scatter": [
           {
            "fillpattern": {
             "fillmode": "overlay",
             "size": 10,
             "solidity": 0.2
            },
            "type": "scatter"
           }
          ],
          "scatter3d": [
           {
            "line": {
             "colorbar": {
              "outlinewidth": 0,
              "ticks": ""
             }
            },
            "marker": {
             "colorbar": {
              "outlinewidth": 0,
              "ticks": ""
             }
            },
            "type": "scatter3d"
           }
          ],
          "scattercarpet": [
           {
            "marker": {
             "colorbar": {
              "outlinewidth": 0,
              "ticks": ""
             }
            },
            "type": "scattercarpet"
           }
          ],
          "scattergeo": [
           {
            "marker": {
             "colorbar": {
              "outlinewidth": 0,
              "ticks": ""
             }
            },
            "type": "scattergeo"
           }
          ],
          "scattergl": [
           {
            "marker": {
             "colorbar": {
              "outlinewidth": 0,
              "ticks": ""
             }
            },
            "type": "scattergl"
           }
          ],
          "scattermapbox": [
           {
            "marker": {
             "colorbar": {
              "outlinewidth": 0,
              "ticks": ""
             }
            },
            "type": "scattermapbox"
           }
          ],
          "scatterpolar": [
           {
            "marker": {
             "colorbar": {
              "outlinewidth": 0,
              "ticks": ""
             }
            },
            "type": "scatterpolar"
           }
          ],
          "scatterpolargl": [
           {
            "marker": {
             "colorbar": {
              "outlinewidth": 0,
              "ticks": ""
             }
            },
            "type": "scatterpolargl"
           }
          ],
          "scatterternary": [
           {
            "marker": {
             "colorbar": {
              "outlinewidth": 0,
              "ticks": ""
             }
            },
            "type": "scatterternary"
           }
          ],
          "surface": [
           {
            "colorbar": {
             "outlinewidth": 0,
             "ticks": ""
            },
            "colorscale": [
             [
              0,
              "#0d0887"
             ],
             [
              0.1111111111111111,
              "#46039f"
             ],
             [
              0.2222222222222222,
              "#7201a8"
             ],
             [
              0.3333333333333333,
              "#9c179e"
             ],
             [
              0.4444444444444444,
              "#bd3786"
             ],
             [
              0.5555555555555556,
              "#d8576b"
             ],
             [
              0.6666666666666666,
              "#ed7953"
             ],
             [
              0.7777777777777778,
              "#fb9f3a"
             ],
             [
              0.8888888888888888,
              "#fdca26"
             ],
             [
              1,
              "#f0f921"
             ]
            ],
            "type": "surface"
           }
          ],
          "table": [
           {
            "cells": {
             "fill": {
              "color": "#EBF0F8"
             },
             "line": {
              "color": "white"
             }
            },
            "header": {
             "fill": {
              "color": "#C8D4E3"
             },
             "line": {
              "color": "white"
             }
            },
            "type": "table"
           }
          ]
         },
         "layout": {
          "annotationdefaults": {
           "arrowcolor": "#2a3f5f",
           "arrowhead": 0,
           "arrowwidth": 1
          },
          "autotypenumbers": "strict",
          "coloraxis": {
           "colorbar": {
            "outlinewidth": 0,
            "ticks": ""
           }
          },
          "colorscale": {
           "diverging": [
            [
             0,
             "#8e0152"
            ],
            [
             0.1,
             "#c51b7d"
            ],
            [
             0.2,
             "#de77ae"
            ],
            [
             0.3,
             "#f1b6da"
            ],
            [
             0.4,
             "#fde0ef"
            ],
            [
             0.5,
             "#f7f7f7"
            ],
            [
             0.6,
             "#e6f5d0"
            ],
            [
             0.7,
             "#b8e186"
            ],
            [
             0.8,
             "#7fbc41"
            ],
            [
             0.9,
             "#4d9221"
            ],
            [
             1,
             "#276419"
            ]
           ],
           "sequential": [
            [
             0,
             "#0d0887"
            ],
            [
             0.1111111111111111,
             "#46039f"
            ],
            [
             0.2222222222222222,
             "#7201a8"
            ],
            [
             0.3333333333333333,
             "#9c179e"
            ],
            [
             0.4444444444444444,
             "#bd3786"
            ],
            [
             0.5555555555555556,
             "#d8576b"
            ],
            [
             0.6666666666666666,
             "#ed7953"
            ],
            [
             0.7777777777777778,
             "#fb9f3a"
            ],
            [
             0.8888888888888888,
             "#fdca26"
            ],
            [
             1,
             "#f0f921"
            ]
           ],
           "sequentialminus": [
            [
             0,
             "#0d0887"
            ],
            [
             0.1111111111111111,
             "#46039f"
            ],
            [
             0.2222222222222222,
             "#7201a8"
            ],
            [
             0.3333333333333333,
             "#9c179e"
            ],
            [
             0.4444444444444444,
             "#bd3786"
            ],
            [
             0.5555555555555556,
             "#d8576b"
            ],
            [
             0.6666666666666666,
             "#ed7953"
            ],
            [
             0.7777777777777778,
             "#fb9f3a"
            ],
            [
             0.8888888888888888,
             "#fdca26"
            ],
            [
             1,
             "#f0f921"
            ]
           ]
          },
          "colorway": [
           "#636efa",
           "#EF553B",
           "#00cc96",
           "#ab63fa",
           "#FFA15A",
           "#19d3f3",
           "#FF6692",
           "#B6E880",
           "#FF97FF",
           "#FECB52"
          ],
          "font": {
           "color": "#2a3f5f"
          },
          "geo": {
           "bgcolor": "white",
           "lakecolor": "white",
           "landcolor": "#E5ECF6",
           "showlakes": true,
           "showland": true,
           "subunitcolor": "white"
          },
          "hoverlabel": {
           "align": "left"
          },
          "hovermode": "closest",
          "mapbox": {
           "style": "light"
          },
          "paper_bgcolor": "white",
          "plot_bgcolor": "#E5ECF6",
          "polar": {
           "angularaxis": {
            "gridcolor": "white",
            "linecolor": "white",
            "ticks": ""
           },
           "bgcolor": "#E5ECF6",
           "radialaxis": {
            "gridcolor": "white",
            "linecolor": "white",
            "ticks": ""
           }
          },
          "scene": {
           "xaxis": {
            "backgroundcolor": "#E5ECF6",
            "gridcolor": "white",
            "gridwidth": 2,
            "linecolor": "white",
            "showbackground": true,
            "ticks": "",
            "zerolinecolor": "white"
           },
           "yaxis": {
            "backgroundcolor": "#E5ECF6",
            "gridcolor": "white",
            "gridwidth": 2,
            "linecolor": "white",
            "showbackground": true,
            "ticks": "",
            "zerolinecolor": "white"
           },
           "zaxis": {
            "backgroundcolor": "#E5ECF6",
            "gridcolor": "white",
            "gridwidth": 2,
            "linecolor": "white",
            "showbackground": true,
            "ticks": "",
            "zerolinecolor": "white"
           }
          },
          "shapedefaults": {
           "line": {
            "color": "#2a3f5f"
           }
          },
          "ternary": {
           "aaxis": {
            "gridcolor": "white",
            "linecolor": "white",
            "ticks": ""
           },
           "baxis": {
            "gridcolor": "white",
            "linecolor": "white",
            "ticks": ""
           },
           "bgcolor": "#E5ECF6",
           "caxis": {
            "gridcolor": "white",
            "linecolor": "white",
            "ticks": ""
           }
          },
          "title": {
           "x": 0.05
          },
          "xaxis": {
           "automargin": true,
           "gridcolor": "white",
           "linecolor": "white",
           "ticks": "",
           "title": {
            "standoff": 15
           },
           "zerolinecolor": "white",
           "zerolinewidth": 2
          },
          "yaxis": {
           "automargin": true,
           "gridcolor": "white",
           "linecolor": "white",
           "ticks": "",
           "title": {
            "standoff": 15
           },
           "zerolinecolor": "white",
           "zerolinewidth": 2
          }
         }
        },
        "title": {
         "text": "Slice Plot"
        },
        "xaxis": {
         "anchor": "y",
         "domain": [
          0,
          0.45
         ],
         "title": {
          "text": "min_child_samples"
         }
        },
        "xaxis2": {
         "anchor": "y2",
         "domain": [
          0.55,
          1
         ],
         "title": {
          "text": "subsample"
         }
        },
        "yaxis": {
         "anchor": "x",
         "domain": [
          0,
          1
         ],
         "title": {
          "text": "Objective Value"
         }
        },
        "yaxis2": {
         "anchor": "x2",
         "domain": [
          0,
          1
         ],
         "matches": "y",
         "showticklabels": false
        }
       }
      }
     },
     "metadata": {},
     "output_type": "display_data"
    }
   ],
   "source": [
    "# Plot the relationships between the most two important hyperparameters and the objective\n",
    "\n",
    "### START CODE HERE\n",
    "fig = optuna.visualization.plot_slice(study, params=[\"subsample\", \"min_child_samples\"])\n",
    "fig.show()\n",
    "### END CODE HERE"
   ]
  },
  {
   "cell_type": "markdown",
   "id": "2c55828f",
   "metadata": {},
   "source": [
    "### Question for Assignment 2b\n",
    "Now you know the most two important hyperparameters that affect the objective value. Looking at the positions of the points in the slice plot, which area the points that resulted in better MAE are concentrated on? How would you adjust the search ranges of these two hyperparameters in the next study?\n",
    "\n",
    "Answer: For min_child_samples value, the perfect area is from 20 to 40. For subsample value, the perfect area is from 0.4 to 0.5. I will adjust the search ranges of these two hyperparamenters into the perfect value ranges we got from this slice plot."
   ]
  },
  {
   "cell_type": "markdown",
   "id": "38c7b6a3",
   "metadata": {},
   "source": [
    "### 2c) An improved Optuna study\n",
    "Create a new study named ***lgbm-wine-2*** and use your observation in Assignment 2b to adjust the search ranges of the most two important hyperparameters to improve MAE (keep values/search ranges of other hyperparameters as the same as in Assignment 1).\n",
    "\n",
    "In this assignment, you need to:\n",
    "1. run 20 trials in this study, starting with the best hyperparameter combination of the previous study.\n",
    "1. use TPESampler (with `RANDOM_SEED` as the seed) for hyperparameter sampling,\n",
    "1. track the trials in an MLflow experiment,\n",
    "1. persist the study history in the \"optuna.sqlite3\" database file,\n",
    "\n",
    "**Hints**: \n",
    "- [How to log Optuna trials to MLflow?](https://optuna.readthedocs.io/en/stable/reference/generated/optuna.integration.MLflowCallback.html)\n",
    "- To start the new study using the best hyperparameter combination of the previous study, you can 1) load the previous study named \"lgbm-wine-1\", 2) retrieve the optimal hyperparameters combination of the \"lgbm-wine-1\" study, 3) create a new study, and 4) start the new study from the optimal hyperparameters combination of the previous study. \n",
    "\n",
    "You may also find the following links helpful:\n",
    "- [optuna.load_study](https://optuna.readthedocs.io/en/stable/reference/generated/optuna.load_study.html)\n",
    "- [study.best_params](https://optuna.readthedocs.io/en/stable/reference/generated/optuna.study.Study.html#optuna.study.Study.best_params)\n",
    "- [enqueue_trial](https://optuna.readthedocs.io/en/stable/reference/generated/optuna.study.Study.html#optuna.study.Study.enqueue_trial). \n",
    "\n",
    "**Note**:\n",
    "- You will find two approaches for logging trials to an MLflow service: 1) using a callback or 2) using a decorator. The code skeleton has been designed for the first approach but feel free to modify the code if you prefer the second one.  \n",
    "- If you want to redo this assignment, please remember to first delete the study from the database as well as the trials logged to MLflow. If you want to delete all the trials in MLflow, don't delete the experiment, as deleting the experiment using the UI will not really delete the experiment in the PostgreSQL database used by MLflow, which will cause problems when recording trials under an experiment with the same name as the deleted experiment. Instead, you can keep the experiment and delete the trials, as shown in the image below. (If you feel like permanently deleting MLflow experiments from the PostgreSQL database, please check [here](https://version.helsinki.fi/luoyumo/engineering_of_ml_systems/-/blob/master/mlflow.md?ref_type=heads)).\n",
    "\n",
    "![](./images/mlflow-delete-trials.jpg)\n",
    "\n",
    "<details>\n",
    "    <summary>If callback and decorator are new to you...</summary>\n",
    "    <p>Briefly speaking, both callbacks and decorators are used to modify or enhance the behavior of another function without modifying its original source code. A callback is a function that is typically provided as an argument to another function. A decorator typically takes another function as an argument. Feel free to google more about them. </p>\n",
    "</details>\n"
   ]
  },
  {
   "cell_type": "code",
   "execution_count": 19,
   "id": "63ee89bc",
   "metadata": {
    "nbgrader": {
     "grade": true,
     "grade_id": "cell-a0685c1f324066ae",
     "locked": false,
     "points": 1,
     "schema_version": 3,
     "solution": true,
     "task": false
    }
   },
   "outputs": [
    {
     "name": "stderr",
     "output_type": "stream",
     "text": [
      "/tmp/ipykernel_6735/3873564527.py:42: ExperimentalWarning:\n",
      "\n",
      "MLflowCallback is experimental (supported from v1.4.0). The interface can change in the future.\n",
      "\n",
      "[I 2023-11-22 14:56:23,541] A new study created in RDB with name: lgbm-wine-2\n"
     ]
    },
    {
     "name": "stderr",
     "output_type": "stream",
     "text": [
      "[I 2023-11-22 14:56:28,070] Trial 0 finished with value: 0.42049257783045446 and parameters: {'learning_rate': 0.044003653606792495, 'subsample': 0.46109394814578664, 'colsample_bytree': 0.49833000276908107, 'min_child_samples': 20, 'num_leaves': 183}. Best is trial 0 with value: 0.42049257783045446.\n",
      "[I 2023-11-22 14:56:29,290] Trial 1 finished with value: 0.4460252932336216 and parameters: {'learning_rate': 0.03807947176588889, 'subsample': 0.4950714306409916, 'colsample_bytree': 0.3793972738151323, 'min_child_samples': 32, 'num_leaves': 161}. Best is trial 0 with value: 0.42049257783045446.\n",
      "[I 2023-11-22 14:56:30,685] Trial 2 finished with value: 0.4526702800600073 and parameters: {'learning_rate': 0.016443457513284063, 'subsample': 0.40580836121681996, 'colsample_bytree': 0.4397792655987208, 'min_child_samples': 32, 'num_leaves': 726}. Best is trial 0 with value: 0.42049257783045446.\n",
      "[I 2023-11-22 14:56:32,521] Trial 3 finished with value: 0.4715303724212911 and parameters: {'learning_rate': 0.0030378649352844423, 'subsample': 0.49699098521619944, 'colsample_bytree': 0.4245991883601898, 'min_child_samples': 24, 'num_leaves': 188}. Best is trial 0 with value: 0.42049257783045446.\n",
      "[I 2023-11-22 14:56:33,795] Trial 4 finished with value: 0.4559389913138604 and parameters: {'learning_rate': 0.01915704647548995, 'subsample': 0.4304242242959538, 'colsample_bytree': 0.28614039423450705, 'min_child_samples': 29, 'num_leaves': 299}. Best is trial 0 with value: 0.42049257783045446.\n",
      "[I 2023-11-22 14:56:35,333] Trial 5 finished with value: 0.4760983786607757 and parameters: {'learning_rate': 0.06157343657751557, 'subsample': 0.4139493860652042, 'colsample_bytree': 0.1814650918408482, 'min_child_samples': 27, 'num_leaves': 468}. Best is trial 0 with value: 0.42049257783045446.\n",
      "[I 2023-11-22 14:56:36,474] Trial 6 finished with value: 0.4529226689484055 and parameters: {'learning_rate': 0.07873242017790835, 'subsample': 0.41996737821583596, 'colsample_bytree': 0.28140549728612524, 'min_child_samples': 32, 'num_leaves': 49}. Best is trial 0 with value: 0.42049257783045446.\n",
      "[I 2023-11-22 14:56:37,754] Trial 7 finished with value: 0.5178828693521543 and parameters: {'learning_rate': 0.0611469403382424, 'subsample': 0.4170524123687292, 'colsample_bytree': 0.0792732168433758, 'min_child_samples': 39, 'num_leaves': 989}. Best is trial 0 with value: 0.42049257783045446.\n",
      "[I 2023-11-22 14:56:38,980] Trial 8 finished with value: 0.5352185512163179 and parameters: {'learning_rate': 0.08103133746352965, 'subsample': 0.4304613769173371, 'colsample_bytree': 0.09395245130287275, 'min_child_samples': 34, 'num_leaves': 452}. Best is trial 0 with value: 0.42049257783045446.\n",
      "[I 2023-11-22 14:56:41,240] Trial 9 finished with value: 0.506140176070232 and parameters: {'learning_rate': 0.013081785249633104, 'subsample': 0.44951769101112704, 'colsample_bytree': 0.06547483450184828, 'min_child_samples': 39, 'num_leaves': 266}. Best is trial 0 with value: 0.42049257783045446.\n",
      "[I 2023-11-22 14:56:42,875] Trial 10 finished with value: 0.4258417649198193 and parameters: {'learning_rate': 0.0945685178788083, 'subsample': 0.47061336519557295, 'colsample_bytree': 0.48629169985453957, 'min_child_samples': 20, 'num_leaves': 668}. Best is trial 0 with value: 0.42049257783045446.\n",
      "[I 2023-11-22 14:56:44,621] Trial 11 finished with value: 0.430786309167233 and parameters: {'learning_rate': 0.09085881473296925, 'subsample': 0.4711703759900858, 'colsample_bytree': 0.49446269017822464, 'min_child_samples': 20, 'num_leaves': 757}. Best is trial 0 with value: 0.42049257783045446.\n",
      "[I 2023-11-22 14:56:47,447] Trial 12 finished with value: 0.4217846999096102 and parameters: {'learning_rate': 0.09924706399234227, 'subsample': 0.46248241999194384, 'colsample_bytree': 0.4819067360702566, 'min_child_samples': 20, 'num_leaves': 691}. Best is trial 0 with value: 0.42049257783045446.\n",
      "[I 2023-11-22 14:56:49,657] Trial 13 finished with value: 0.44042195701977294 and parameters: {'learning_rate': 0.04707598730737314, 'subsample': 0.45654824830020135, 'colsample_bytree': 0.36694099799892144, 'min_child_samples': 24, 'num_leaves': 932}. Best is trial 0 with value: 0.42049257783045446.\n",
      "[I 2023-11-22 14:56:50,944] Trial 14 finished with value: 0.4299950985672254 and parameters: {'learning_rate': 0.03986401108406264, 'subsample': 0.45157795232525316, 'colsample_bytree': 0.4976267350343989, 'min_child_samples': 24, 'num_leaves': 554}. Best is trial 0 with value: 0.42049257783045446.\n",
      "[I 2023-11-22 14:56:51,992] Trial 15 finished with value: 0.46820655327727173 and parameters: {'learning_rate': 0.09905194665613222, 'subsample': 0.4726202920923181, 'colsample_bytree': 0.353238867023226, 'min_child_samples': 22, 'num_leaves': 5}. Best is trial 0 with value: 0.42049257783045446.\n",
      "[I 2023-11-22 14:56:53,689] Trial 16 finished with value: 0.4407968801656647 and parameters: {'learning_rate': 0.06454276182398534, 'subsample': 0.44169246083275004, 'colsample_bytree': 0.4316211587140693, 'min_child_samples': 27, 'num_leaves': 865}. Best is trial 0 with value: 0.42049257783045446.\n",
      "[I 2023-11-22 14:56:55,379] Trial 17 finished with value: 0.43852882609235133 and parameters: {'learning_rate': 0.03169368548345453, 'subsample': 0.4598992448733863, 'colsample_bytree': 0.3247668674679801, 'min_child_samples': 22, 'num_leaves': 597}. Best is trial 0 with value: 0.42049257783045446.\n",
      "[I 2023-11-22 14:56:57,642] Trial 18 finished with value: 0.44385411613293596 and parameters: {'learning_rate': 0.04917293669206431, 'subsample': 0.4775224893284364, 'colsample_bytree': 0.40990255288053473, 'min_child_samples': 36, 'num_leaves': 405}. Best is trial 0 with value: 0.42049257783045446.\n",
      "[I 2023-11-22 14:56:59,145] Trial 19 finished with value: 0.4419017175476535 and parameters: {'learning_rate': 0.07008523311378544, 'subsample': 0.4844834537862892, 'colsample_bytree': 0.23847544652962807, 'min_child_samples': 27, 'num_leaves': 835}. Best is trial 0 with value: 0.42049257783045446.\n"
     ]
    },
    {
     "name": "stdout",
     "output_type": "stream",
     "text": [
      "Best MAE 0.42049257783045446\n",
      "Best params: {'learning_rate': 0.044003653606792495, 'subsample': 0.46109394814578664, 'colsample_bytree': 0.49833000276908107, 'min_child_samples': 20, 'num_leaves': 183}\n"
     ]
    }
   ],
   "source": [
    "# Define the objective function\n",
    "def objective(trial):\n",
    "    ### START CODE HERE\n",
    "    params = {\n",
    "        \"n_estimators\": 1000,\n",
    "        \"learning_rate\": trial.suggest_float(\"learning_rate\", 0.001, 0.1),\n",
    "        \"subsample\": trial.suggest_float(\"subsample\", 0.4, 0.5),\n",
    "        \"subsample_freq\": 1,\n",
    "        \"colsample_bytree\": trial.suggest_float(\"colsample_bytree\", 0.05, 0.5),\n",
    "        \"min_child_samples\": trial.suggest_int(\"min_child_samples\", 20, 40),\n",
    "        \"num_leaves\": trial.suggest_int(\"num_leaves\", 2, 2**10),\n",
    "        \"random_state\": RANDOM_SEED\n",
    "    }\n",
    "    \n",
    "    model = lgb.LGBMRegressor(**params)\n",
    "    model.fit(train_x, train_y)\n",
    "\n",
    "    predictions = model.predict(test_x)\n",
    "\n",
    "    score = mean_absolute_error(test_y, predictions)\n",
    "    return score\n",
    "    ### END CODE HERE\n",
    "\n",
    "storage = \"sqlite:///optuna.sqlite3\"\n",
    "\n",
    "# name of the previous study in Assignment 1\n",
    "prev_study_name = \"lgbm-wine-1\"\n",
    "\n",
    "# name of the new study\n",
    "new_study_name = \"lgbm-wine-2\"\n",
    "\n",
    "# Load the \"lgbm-wine-1\" study created in Assignment 1, create a new study that performs 20 trials, starting with the optimal hyperparameter combination \n",
    "# of the \"lgbm-wine-1\" study. You also need to log the trials to MLflow while running the new study\n",
    "### START CODE HERE\n",
    "# Load the previous study\n",
    "prev_study = optuna.load_study(\n",
    "    storage=storage,\n",
    "    study_name=prev_study_name,\n",
    ")\n",
    "\n",
    "# define the callback function that logs trials to MLflow\n",
    "mlflc = MLflowCallback(\n",
    "    tracking_uri=mlflow_tracking_uri,\n",
    "    metric_name=\"my metric score\"\n",
    ")\n",
    "\n",
    "# Create a new study\n",
    "study = optuna.create_study(\n",
    "    direction=\"minimize\",\n",
    "    sampler=TPESampler(seed=RANDOM_SEED),\n",
    "    study_name=new_study_name,\n",
    "    storage=storage,\n",
    ")\n",
    "\n",
    "# Run 20 trials, starting with the best combination of the previous study\n",
    "study.enqueue_trial(prev_study.best_params)\n",
    "study.optimize(objective, n_trials=20, callbacks=[mlflc])\n",
    "### END CODE HERE\n",
    "\n",
    "print(\"Best MAE\", study.best_value)\n",
    "print(\"Best params:\", study.best_trial.params)"
   ]
  },
  {
   "cell_type": "code",
   "execution_count": 18,
   "id": "0418e914",
   "metadata": {},
   "outputs": [],
   "source": [
    "# Uncomment the code below and run this cell if you want to delete the study created in assignment 2 in the database\n",
    "\n",
    "optuna.delete_study(study_name=\"lgbm-wine-2\", storage=\"sqlite:///optuna.sqlite3\")"
   ]
  },
  {
   "cell_type": "markdown",
   "id": "a58366bb",
   "metadata": {},
   "source": [
    "### Question for Assignment 2c\n",
    "What are the best MAE and the best hyperparameter combination obtained from the new study (lgbm-wine-2)?"
   ]
  },
  {
   "cell_type": "markdown",
   "metadata": {},
   "source": [
    "THe best MAE I got is 0.42049257783045446;\n",
    "The best hyperparameter combination:<br>\n",
    "    params = {<br>\n",
    "        \"n_estimators\": 1000, <br>\n",
    "        \"learning_rate\": trial.suggest_float(\"learning_rate\", 0.001, 0.1),<br>\n",
    "        \"subsample\": trial.suggest_float(\"subsample\", 0.4, 0.5),<br>\n",
    "        \"subsample_freq\": 1,<br>\n",
    "        \"colsample_bytree\": trial.suggest_float(\"colsample_bytree\", 0.05, 0.5),<br>\n",
    "        \"min_child_samples\": trial.suggest_int(\"min_child_samples\", 20, 40),<br>\n",
    "        \"num_leaves\": trial.suggest_int(\"num_leaves\", 2, 2**10),<br>\n",
    "        \"random_state\": RANDOM_SEED<br>\n",
    "    }"
   ]
  },
  {
   "cell_type": "markdown",
   "id": "f929df5b",
   "metadata": {},
   "source": [
    "### Screenshot for Assignment 2c\n",
    "Submit a screenshot of the trails of the \"lgbm-wine-2\" study in MLflow UI. **Please put the screenshot into your PDF file.**\n",
    "\n",
    "<details>\n",
    "    <summary>Example:</summary>\n",
    "    <img src=\"./images/trials-mlflow.png\" width=1000/>\n",
    "</details>\n"
   ]
  },
  {
   "attachments": {
    "Screenshot from 2023-11-22 11-36-53.png": {
     "image/png": "[encoded data removed]"
    }
   },
   "cell_type": "markdown",
   "metadata": {},
   "source": [
    "![Screenshot from 2023-11-22 11-36-53.png](<attachment:Screenshot from 2023-11-22 11-36-53.png>)"
   ]
  },
  {
   "cell_type": "markdown",
   "id": "46a66a70",
   "metadata": {},
   "source": [
    "## Assignment 3: More about MLflow (2 points)\n",
    "### 3a) Find the MLflow run with the best hyperparameter combination\n",
    "In assignment 2c), you found the best hyperparameter combination for your model. Now, your task is to complete the `find_best_run_id` function. The function receives an MLflow Experiment name as the argument and returns the best MLflow Run ID that resulted in the best hyperparameter combination. In other words, this function should find the MLflow Run with the smallest MAE. \n",
    "\n",
    "You may find the following MLflow docs useful:\n",
    "- [How to retrieve an MLflow experiment given an experiment name?](https://mlflow.org/docs/2.3.2/python_api/mlflow.html?highlight=get_experiment_by_name#mlflow.get_experiment_by_name)\n",
    "- [How to search runs inside an experiment?](https://mlflow.org/docs/2.3.2/python_api/mlflow.html?highlight=search_runs#mlflow.search_runs)"
   ]
  },
  {
   "cell_type": "code",
   "execution_count": 7,
   "id": "5700a4a5",
   "metadata": {
    "nbgrader": {
     "grade": true,
     "grade_id": "cell-5167cdef32da16d4",
     "locked": false,
     "points": 1,
     "schema_version": 3,
     "solution": true,
     "task": false
    }
   },
   "outputs": [],
   "source": [
    "os.environ[\"MLFLOW_S3_ENDPOINT_URL\"] = \"http://mlflow-minio.local\"\n",
    "os.environ[\"AWS_ACCESS_KEY_ID\"] = \"minioadmin\"\n",
    "os.environ[\"AWS_SECRET_ACCESS_KEY\"] = \"minioadmin\"\n",
    "\n",
    "mlflow.set_tracking_uri(mlflow_tracking_uri)\n",
    "\n",
    "def find_best_run_id(mlflow_experiment_name: str) -> str:\n",
    "    \"\"\"\n",
    "    Find the ID of the MLflow run with the smallest MAE\n",
    "    Args:\n",
    "        mlflow_experiment_name (str): The name of the MLflow experiment where the run should be found\n",
    "    Return:\n",
    "        An MLflow run ID\n",
    "    \"\"\"\n",
    "    ### START CODE HERE\n",
    "    experiment_id = mlflow.get_experiment_by_name(mlflow_experiment_name).experiment_id\n",
    "\n",
    "    runs = mlflow.search_runs(experiment_ids=[experiment_id])\n",
    "    print(runs.loc[runs[\"metrics.my metric score\"].idxmin()])\n",
    "    best_run = runs.loc[runs[\"metrics.my metric score\"].idxmin()]\n",
    "    best_run_id = best_run.run_id\n",
    "    return best_run_id\n",
    "    ### END CODE HERE"
   ]
  },
  {
   "cell_type": "code",
   "execution_count": 9,
   "metadata": {},
   "outputs": [
    {
     "name": "stdout",
     "output_type": "stream",
     "text": [
      "run_id                                                  540aac97e0854c19a67d22dbceebc0fa\n",
      "experiment_id                                                                          5\n",
      "status                                                                          FINISHED\n",
      "artifact_uri                           s3://mlflow/5/540aac97e0854c19a67d22dbceebc0fa...\n",
      "start_time                                              2023-11-22 12:55:32.859000+00:00\n",
      "end_time                                                2023-11-22 13:11:45.530000+00:00\n",
      "metrics.my metric score                                                           0.3375\n",
      "params.learning_rate                                                0.026952683463793786\n",
      "params.num_leaves                                                                    325\n",
      "params.subsample                                                      0.4873061848346192\n",
      "params.colsample_bytree                                               0.3252127306571775\n",
      "params.min_child_samples                                                              28\n",
      "tags.datetime_start                                           2023-11-22 14:55:28.219046\n",
      "tags.mlflow.source.type                                                            LOCAL\n",
      "tags.num_leaves_distribution           IntDistribution(high=1024, log=False, low=2, s...\n",
      "tags.mlflow.user                                                                    user\n",
      "tags.mlflow.source.name                /home/user/.local/lib/python3.10/site-packages...\n",
      "tags.mlflow.runName                                                                   19\n",
      "tags.state                                                                      COMPLETE\n",
      "tags.learning_rate_distribution        FloatDistribution(high=0.1, log=False, low=0.0...\n",
      "tags.min_child_samples_distribution    IntDistribution(high=40, log=False, low=20, st...\n",
      "tags.datetime_complete                                        2023-11-22 14:55:32.727063\n",
      "tags.number                                                                           19\n",
      "tags.colsample_bytree_distribution     FloatDistribution(high=0.5, log=False, low=0.0...\n",
      "tags.direction                                                                  MINIMIZE\n",
      "tags.subsample_distribution            FloatDistribution(high=0.5, log=False, low=0.4...\n",
      "tags.mlflow.log-model.history          [{\"run_id\": \"540aac97e0854c19a67d22dbceebc0fa\"...\n",
      "Name: 20, dtype: object\n",
      "540aac97e0854c19a67d22dbceebc0fa\n"
     ]
    }
   ],
   "source": [
    "mlflow_experiment_name = \"lgbm-wine-2\" # same as the Optuna study name \n",
    "best_run_id = find_best_run_id(mlflow_experiment_name)\n",
    "print(best_run_id)"
   ]
  },
  {
   "cell_type": "markdown",
   "metadata": {},
   "source": [
    "### 3b) Train a model using the best hyperparameter combination\n",
    "Your task is to train a model using the best hyperparameter combination found in Assignment 2c). You also need to upload and register the model to MLflow, the model needs to be associated with the MLflow Run where the optimal hyperparameter combination was found.\n",
    "\n",
    "For example, suppose running the \"lgbm-wine-2\" study of Assignment 2 created an MLflow Run 14 where the best hyperparameter combination was found, the model created in this assignment needs to be associated with MLflow Run 14, as shown below:\n",
    "\n",
    "<img src=\"./images/mlflow-best-run.png\" width=1000/>\n",
    "\n",
    "<img src=\"./images/mlflow-best-model.png\" width=1000/>\n",
    "\n",
    "Hints:\n",
    "- You may find the following function helpful: [mlflow.start_run](https://mlflow.org/docs/2.3.2/python_api/mlflow.html#mlflow.start_run) (Pay attention to the use of the `run_id` parameter).\n",
    "- It would probably be more convenient to retrieve the best hyperparameter combination using `optuna.load_study` rather than from the Mlflow Run. "
   ]
  },
  {
   "cell_type": "code",
   "execution_count": 10,
   "metadata": {},
   "outputs": [
    {
     "name": "stderr",
     "output_type": "stream",
     "text": [
      "/home/user/anaconda3/envs/mlops_eng/lib/python3.10/site-packages/_distutils_hack/__init__.py:33: UserWarning: Setuptools is replacing distutils.\n",
      "  warnings.warn(\"Setuptools is replacing distutils.\")\n",
      "Registered model 'optuna-lgbm-wine' already exists. Creating a new version of this model...\n",
      "2023/11/24 22:26:12 INFO mlflow.tracking._model_registry.client: Waiting up to 300 seconds for model version to finish creation. Model name: optuna-lgbm-wine, version 2\n",
      "Created version '2' of model 'optuna-lgbm-wine'.\n"
     ]
    }
   ],
   "source": [
    "study_name = \"lgbm-wine-2\"\n",
    "storage = \"sqlite:///optuna.sqlite3\"\n",
    "\n",
    "### START CODE HERE\n",
    "study = optuna.load_study(study_name=study_name, storage=storage)\n",
    "best_params = study.best_params\n",
    "model = lgb.LGBMRegressor(**best_params)\n",
    "model.fit(train_x, train_y)\n",
    "predictions = model.predict(test_x)\n",
    "mae = mean_absolute_error(test_y, predictions)\n",
    "\n",
    "with mlflow.start_run(run_id=best_run_id, nested=True):\n",
    "    #mlflow.log_params(best_params)\n",
    "    #mlflow.log_metric(\"mean_absolute_error\", mae)\n",
    "    mlflow.sklearn.log_model(model, artifact_path=\"model\",registered_model_name=\"optuna-lgbm-wine\")\n",
    "### END CODE HERE"
   ]
  },
  {
   "cell_type": "markdown",
   "id": "71744984",
   "metadata": {},
   "source": [
    "### Screenshots for Assignment 3b)\n",
    "Submit the screenshots of the registered model version info and the corresponding MLflow run. You can take the images in the assignment instructions above as an example. \n"
   ]
  },
  {
   "attachments": {
    "Screenshot from 2023-11-22 11-58-58.png": {
     "image/png": "[encoded data removed]"
    },
    "Screenshot from 2023-11-22 11-59-05.png": {
     "image/png": "[encoded data removed]"
    },
    "Screenshot from 2023-11-22 14-19-04.png": {
     "image/png": "[encoded data removed]"
    }
   },
   "cell_type": "markdown",
   "metadata": {},
   "source": [
    "![Screenshot from 2023-11-22 11-58-58.png](<attachment:Screenshot from 2023-11-22 11-58-58.png>) ![Screenshot from 2023-11-22 11-59-05.png](<attachment:Screenshot from 2023-11-22 11-59-05.png>) ![Screenshot from 2023-11-22 14-19-04.png](<attachment:Screenshot from 2023-11-22 14-19-04.png>)"
   ]
  },
  {
   "cell_type": "markdown",
   "id": "fc1dfc29",
   "metadata": {},
   "source": [
    "## Assignment 4: Conditional search spaces with Optuna (2 points)\n",
    "Similar to Example 2 in the Optuna tutorial, your task is to create a new study named \"multimodel-wine\" that optimizes the hyperparameters of a LightGBM and an [XGBoost](https://xgboost.readthedocs.io/en/stable/python/python_api.html#xgboost.XGBRegressor) regression model for the red wine quality prediction use case and see which library is better in the use case. Similar to the previous assignments, the objective is also a smaller MAE. The hyperparameters to be tuned and their search ranges are given below. Use TPESampler with `RANDOM_SEED` as the random seed. You don't need to track the trials in MLflow or persist them in a relational database. This study should perform 20 trials. \n",
    "\n",
    "**LightGBM**: \n",
    "| Hyperparameter    | Explanation                                                                 | type    | range                                                                    |\n",
    "|:-------------------|:-----------------------------------------------------------------------------|:---------|:--------------------------------------------------------------------------|\n",
    "| n_estimators      | The number of decision trees.                                               | integer | 1000 (fixed value)                                                       |\n",
    "| learning_rate     | The step size of the gradient descent. It controls how quickly the model fits and then overfits the training data.              | float   | [0.001, 0.1] (sampled from the logarithmic domain) |\n",
    "| subsample         | The percentage of training samples to be used to train each tree. `subsample*100%` of the training samples will be randomly selected for training.        | float   | [0.05, 1.0]                                                              |\n",
    "| subsample_freq    | Subsampling frequency. The subsampling will be performed again after `subsample_freq` trees have been trained.                                                     | integer | 1 (fixed value)                                                          |\n",
    "| colsample_bytree  | The percentage of features to use when training each tree.                | float   | [0.05, 1.0]                                                              |\n",
    "| min_child_samples | A leaf node should have at least `min_child_samples` data points to be further splitted. | integer | [1, 100]                                                                |\n",
    "| num_leaves        | Max number of nodes in a single tree.                                       | integer | [2, 2^10]                                                                |\n",
    "| random_state      | The seed for random number generation for reproducibility.                                   | integer | RANDOM_SEED (fixed value) \n",
    "\n",
    "**XGBoost**\n",
    "| Hyperparameter    | Explanation                                                                 | type    | range                                                                    |\n",
    "|:-------------------|:-----------------------------------------------------------------------------|:---------|:--------------------------------------------------------------------------|\n",
    "| n_estimators      | Same as LightGBM.                                               | integer | 1000 (fixed value)                                                       |\n",
    "| learning_rate     | Same as LightGBM.             | float   | [0.001, 0.1] (sampled from the logarithmic domain) |\n",
    "| subsample         | Same as LightGBM.            | float   | [0.05, 1.0]                                                              |                                         \n",
    "| colsample_bytree  | Same as LightGBM.                | float   | [0.05, 1.0]                                                              |\n",
    "| min_child_weight | Minimum sum of instance weight needed for a leaf mode to be further splitted (similar to min_child_samples in LightGBN). | integer | [1, 100]                                                                |\n",
    "| max_depth        | Max depth of a single tree                                       | integer | [1, 10]                                                                |\n",
    "| random_state      | Same as LightGBM.                                   | integer | RANDOM_SEED (fixed value)    \n",
    "\n"
   ]
  },
  {
   "cell_type": "code",
   "execution_count": 33,
   "id": "0cd88b5a",
   "metadata": {
    "nbgrader": {
     "grade": true,
     "grade_id": "cell-a6549ecacde675f6",
     "locked": false,
     "points": 1,
     "schema_version": 3,
     "solution": true,
     "task": false
    }
   },
   "outputs": [
    {
     "name": "stderr",
     "output_type": "stream",
     "text": [
      "[I 2023-11-22 15:22:14,221] A new study created in memory with name: multimodel-wine\n"
     ]
    },
    {
     "name": "stderr",
     "output_type": "stream",
     "text": [
      "[I 2023-11-22 15:22:14,822] Trial 0 finished with value: 5.013129636198283 and parameters: {'classifier': 'xgb', 'xgb_learning_rate': 0.029106359131330698, 'xgb_subsample': 0.6187255599871848, 'xgb_colsample_bytree': 0.19821770842031466, 'min_child_weight': 16, 'max_depth': 1}. Best is trial 0 with value: 5.013129636198283.\n",
      "[I 2023-11-22 15:22:15,726] Trial 1 finished with value: 0.6685091743119267 and parameters: {'classifier': 'lgb', 'lgb_learning_rate': 0.02607024758370768, 'lgb_subsample': 0.06955526958101232, 'lgb_colsample_bytree': 0.9714143595538947, 'min_child_samples': 84, 'num_leaves': 219}. Best is trial 1 with value: 0.6685091743119267.\n",
      "[I 2023-11-22 15:22:20,179] Trial 2 finished with value: 5.141592980623245 and parameters: {'classifier': 'xgb', 'xgb_learning_rate': 0.0040596116104843075, 'xgb_subsample': 0.548518610050626, 'xgb_colsample_bytree': 0.46034776771000996, 'min_child_weight': 30, 'max_depth': 7}. Best is trial 1 with value: 0.6685091743119267.\n",
      "[I 2023-11-22 15:22:23,427] Trial 3 finished with value: 5.134661119878292 and parameters: {'classifier': 'xgb', 'xgb_learning_rate': 0.005404103854647328, 'xgb_subsample': 0.4832664850061841, 'xgb_colsample_bytree': 0.7959171633233629, 'min_child_weight': 20, 'max_depth': 6}. Best is trial 1 with value: 0.6685091743119267.\n",
      "[I 2023-11-22 15:22:24,312] Trial 4 finished with value: 0.5096934247165656 and parameters: {'classifier': 'lgb', 'lgb_learning_rate': 0.016409286730647923, 'lgb_subsample': 0.21199791750292696, 'lgb_colsample_bytree': 0.11179901333601554, 'min_child_samples': 95, 'num_leaves': 989}. Best is trial 4 with value: 0.5096934247165656.\n",
      "[I 2023-11-22 15:22:28,349] Trial 5 finished with value: 0.4859459510725019 and parameters: {'classifier': 'lgb', 'lgb_learning_rate': 0.0015679933916723015, 'lgb_subsample': 0.700021375186549, 'lgb_colsample_bytree': 0.4681448690526212, 'min_child_samples': 13, 'num_leaves': 508}. Best is trial 5 with value: 0.4859459510725019.\n",
      "[I 2023-11-22 15:22:29,545] Trial 6 finished with value: 5.145557105690241 and parameters: {'classifier': 'xgb', 'xgb_learning_rate': 0.0032927591344236173, 'xgb_subsample': 0.6793961701362828, 'xgb_colsample_bytree': 0.34612552228494037, 'min_child_weight': 53, 'max_depth': 6}. Best is trial 5 with value: 0.4859459510725019.\n",
      "[I 2023-11-22 15:22:32,722] Trial 7 finished with value: 4.979903842508793 and parameters: {'classifier': 'xgb', 'xgb_learning_rate': 0.035503048581283086, 'xgb_subsample': 0.9425239944859797, 'xgb_colsample_bytree': 0.9000859829062664, 'min_child_weight': 60, 'max_depth': 10}. Best is trial 5 with value: 0.4859459510725019.\n",
      "[I 2023-11-22 15:22:33,987] Trial 8 finished with value: 5.1561607059836385 and parameters: {'classifier': 'xgb', 'xgb_learning_rate': 0.0012315571723666018, 'xgb_subsample': 0.3590638142251011, 'xgb_colsample_bytree': 0.4192434252050079, 'min_child_weight': 28, 'max_depth': 9}. Best is trial 5 with value: 0.4859459510725019.\n",
      "[I 2023-11-22 15:22:35,834] Trial 9 finished with value: 0.42899067751612513 and parameters: {'classifier': 'lgb', 'lgb_learning_rate': 0.012172847081122434, 'lgb_subsample': 0.18387801372602453, 'lgb_colsample_bytree': 0.8120871317163377, 'min_child_samples': 8, 'num_leaves': 1011}. Best is trial 9 with value: 0.42899067751612513.\n",
      "[I 2023-11-22 15:22:50,953] Trial 10 finished with value: 0.4042715441220388 and parameters: {'classifier': 'lgb', 'lgb_learning_rate': 0.048927640741697455, 'lgb_subsample': 0.9710602552484724, 'lgb_colsample_bytree': 0.9341092592027076, 'min_child_samples': 2, 'num_leaves': 930}. Best is trial 10 with value: 0.4042715441220388.\n",
      "[I 2023-11-22 15:23:12,477] Trial 11 finished with value: 0.41067891911199944 and parameters: {'classifier': 'lgb', 'lgb_learning_rate': 0.08544665526013348, 'lgb_subsample': 0.9496137825706417, 'lgb_colsample_bytree': 0.9515263513757507, 'min_child_samples': 1, 'num_leaves': 969}. Best is trial 10 with value: 0.4042715441220388.\n",
      "[I 2023-11-22 15:23:28,353] Trial 12 finished with value: 0.4072088980893087 and parameters: {'classifier': 'lgb', 'lgb_learning_rate': 0.09613916619640932, 'lgb_subsample': 0.9967002877444882, 'lgb_colsample_bytree': 0.9673392554317102, 'min_child_samples': 2, 'num_leaves': 787}. Best is trial 10 with value: 0.4042715441220388.\n",
      "[I 2023-11-22 15:23:29,148] Trial 13 finished with value: 0.4255048541191166 and parameters: {'classifier': 'lgb', 'lgb_learning_rate': 0.08806296491711556, 'lgb_subsample': 0.9718037716329584, 'lgb_colsample_bytree': 0.732789828278615, 'min_child_samples': 40, 'num_leaves': 683}. Best is trial 10 with value: 0.4042715441220388.\n",
      "[I 2023-11-22 15:23:31,589] Trial 14 finished with value: 0.40981452924149453 and parameters: {'classifier': 'lgb', 'lgb_learning_rate': 0.09765245510150126, 'lgb_subsample': 0.9924361613612266, 'lgb_colsample_bytree': 0.9962157051600636, 'min_child_samples': 28, 'num_leaves': 693}. Best is trial 10 with value: 0.4042715441220388.\n",
      "[I 2023-11-22 15:23:32,317] Trial 15 finished with value: 0.4450663006741732 and parameters: {'classifier': 'lgb', 'lgb_learning_rate': 0.03830354794817482, 'lgb_subsample': 0.7390017055435083, 'lgb_colsample_bytree': 0.6841087622288241, 'min_child_samples': 69, 'num_leaves': 703}. Best is trial 10 with value: 0.4042715441220388.\n",
      "[I 2023-11-22 15:23:34,294] Trial 16 finished with value: 0.4196539363210266 and parameters: {'classifier': 'lgb', 'lgb_learning_rate': 0.03602107175352502, 'lgb_subsample': 0.817662732724806, 'lgb_colsample_bytree': 0.7816967875535814, 'min_child_samples': 27, 'num_leaves': 806}. Best is trial 10 with value: 0.4042715441220388.\n",
      "[I 2023-11-22 15:23:35,406] Trial 17 finished with value: 0.4688127473893857 and parameters: {'classifier': 'lgb', 'lgb_learning_rate': 0.005887566238745403, 'lgb_subsample': 0.5197225470668564, 'lgb_colsample_bytree': 0.542103420849513, 'min_child_samples': 58, 'num_leaves': 514}. Best is trial 10 with value: 0.4042715441220388.\n",
      "[I 2023-11-22 15:23:37,292] Trial 18 finished with value: 0.4012413590510791 and parameters: {'classifier': 'lgb', 'lgb_learning_rate': 0.05240130774621666, 'lgb_subsample': 0.8538201176401907, 'lgb_colsample_bytree': 0.8697809557605902, 'min_child_samples': 23, 'num_leaves': 813}. Best is trial 18 with value: 0.4012413590510791.\n",
      "[I 2023-11-22 15:23:39,058] Trial 19 finished with value: 0.40788208661389774 and parameters: {'classifier': 'lgb', 'lgb_learning_rate': 0.04524540905246321, 'lgb_subsample': 0.818198685851412, 'lgb_colsample_bytree': 0.844269174038057, 'min_child_samples': 24, 'num_leaves': 494}. Best is trial 18 with value: 0.4012413590510791.\n"
     ]
    },
    {
     "name": "stdout",
     "output_type": "stream",
     "text": [
      "Best MAE 0.4012413590510791\n",
      "Best params: {'classifier': 'lgb', 'lgb_learning_rate': 0.05240130774621666, 'lgb_subsample': 0.8538201176401907, 'lgb_colsample_bytree': 0.8697809557605902, 'min_child_samples': 23, 'num_leaves': 813}\n"
     ]
    }
   ],
   "source": [
    "# Define the objective function\n",
    "def objective(trial):\n",
    "    ### START CODE HERE\n",
    "    classifier_name = trial.suggest_categorical(\"classifier\", [\"lgb\", \"xgb\"])\n",
    "\n",
    "    if classifier_name == \"lgb\":\n",
    "        params = {\n",
    "            \"n_estimators\": 1000,\n",
    "            \"learning_rate\": trial.suggest_float(\"lgb_learning_rate\", 0.001, 0.1, log=True),\n",
    "            \"subsample\": trial.suggest_float(\"lgb_subsample\", 0.05, 1.0),\n",
    "            \"subsample_freq\": 1,\n",
    "            \"colsample_bytree\": trial.suggest_float(\"lgb_colsample_bytree\", 0.05, 1.0),\n",
    "            \"min_child_samples\": trial.suggest_int(\"min_child_samples\", 1, 100),\n",
    "            \"num_leaves\": trial.suggest_int(\"num_leaves\", 2, 2**10),\n",
    "            \"random_state\": RANDOM_SEED\n",
    "        }\n",
    "\n",
    "        model = lgb.LGBMRegressor(**params)\n",
    "\n",
    "    elif classifier_name == \"xgb\":\n",
    "        params = {\n",
    "            \"n_estimators\": 1000,\n",
    "            \"learning_rate\": trial.suggest_float(\"xgb_learning_rate\", 0.001, 0.1, log=True),\n",
    "            \"subsample\": trial.suggest_float(\"xgb_subsample\", 0.05, 1.0),\n",
    "            \"colsample_bytree\": trial.suggest_float(\"xgb_colsample_bytree\", 0.05, 1.0),\n",
    "            \"min_child_weight\": trial.suggest_int(\"min_child_weight\", 1, 100),\n",
    "            \"max_depth\": trial.suggest_int(\"max_depth\", 1, 10),\n",
    "            \"random_state\": RANDOM_SEED\n",
    "        }\n",
    "\n",
    "        model = xgb.XGBRFRegressor(**params)\n",
    "\n",
    "    \n",
    "    model.fit(train_x, train_y)\n",
    "\n",
    "    predictions = model.predict(test_x)\n",
    "\n",
    "    score = mean_absolute_error(test_y, predictions)\n",
    "    return score\n",
    "    \n",
    "    ### END CODE HERE\n",
    "\n",
    "study_name = \"multimodel-wine\"\n",
    "\n",
    "# Create and run the study\n",
    "### START CODE HERE\n",
    "study = optuna.create_study(\n",
    "    direction=\"minimize\",\n",
    "    sampler=TPESampler(seed=RANDOM_SEED),\n",
    "    study_name=study_name\n",
    ")\n",
    "study.optimize(objective, n_trials=20)\n",
    "### END CODE HERE\n",
    "\n",
    "print(\"Best MAE\", study.best_value)\n",
    "print(\"Best params:\", study.best_trial.params)"
   ]
  },
  {
   "cell_type": "markdown",
   "id": "e519e22e",
   "metadata": {},
   "source": [
    "Expected output:\n",
    "\n",
    "Best MAE 0.41046696687679574\n",
    "\n",
    "Best params: {'regressor': 'lgbm', 'learning_rate': 0.08779135743847766, 'subsample': 0.9716999552570724, 'colsample_bytree': 0.9953849922441481, 'min_child_samples': 39, 'num_leaves': 633}\n",
    "\n",
    "or\n",
    "\n",
    "Best MAE 0.42251256346702576\n",
    "\n",
    "Best params: {'regressor': 'xgb', 'learning_rate': 0.08770632679265472, 'subsample': 0.9837224327754701, 'colsample_bytree': 0.9992869046800568, 'min_child_weight': 45, 'max_depth': 7}\n",
    "\n",
    "(This depends on the element order in the list that is used for configuring the search space for the model type.)"
   ]
  },
  {
   "cell_type": "markdown",
   "id": "e44eabfa",
   "metadata": {},
   "source": [
    "## Assignment 5: Ensemble averaging (2 points)\n",
    "Similar to Example 3 in the tutorial, use Optuna to find the optimal weight combination to combine the predictions of an Sklearn's RandomForest, a XGBoost, and a LightGBM model to obtain better predictions for the red wine quality us case. Detailed instructions are given below. "
   ]
  },
  {
   "cell_type": "markdown",
   "id": "66cdb0a7",
   "metadata": {},
   "source": [
    "Before going to the assignment, first train three models for the red wine quality use case using Sklearn's RandomForest, XGBoost, and LightGBM and evaluate MAE of each model. For simplicity, the default configurations of the hyperparameters are used except for \"random_state\" which is set as `RANDOM_SEED` as in the previous assignments. "
   ]
  },
  {
   "cell_type": "code",
   "execution_count": 11,
   "id": "dca98e6b",
   "metadata": {},
   "outputs": [
    {
     "name": "stdout",
     "output_type": "stream",
     "text": [
      "rf_model: 0.42284999999999995\n",
      "xgb_model: 0.4245686811208725\n",
      "lgbm_model: 0.43465539993381924\n"
     ]
    }
   ],
   "source": [
    "\n",
    "from sklearn.ensemble import RandomForestRegressor\n",
    "\n",
    "rf_model = RandomForestRegressor(random_state=RANDOM_SEED)\n",
    "xgb_model = xgb.XGBRegressor(random_state=RANDOM_SEED)\n",
    "lgbm_model = lgb.LGBMRegressor(random_state=RANDOM_SEED)\n",
    "\n",
    "model_names = [\"rf_model\", \"xgb_model\", \"lgbm_model\"]\n",
    "\n",
    "for name in model_names:\n",
    "    model = eval(name)\n",
    "    model.fit(train_x, train_y)\n",
    "    predictions = model.predict(test_x)\n",
    "    print(f\"{name}: {mean_absolute_error(test_y, predictions)}\")"
   ]
  },
  {
   "cell_type": "markdown",
   "id": "d5e656f5",
   "metadata": {},
   "source": [
    "You can see the best performing model is the random forest one, with an MAE of 0.4228.\n",
    "\n",
    "Now, it is time to combine the predictions of these models to improve the final prediction. In this assignment, your task is to create a new study named ***ensemble*** to find the best weight combination for the three models that have been trained in the cell above to obtain smaller MAE. Use 3 as the [step of discretization](https://optuna.readthedocs.io/en/stable/reference/generated/optuna.trial.Trial.html#optuna.trial.Trial.suggest_int) when searching weight for each model. Use TPESampler (with `RANDOM_SEED` as the seed) in the study. You don't need to track the trials in MLflow or persist the study history in a database in this assignment. Run 20 trials in the study. "
   ]
  },
  {
   "cell_type": "code",
   "execution_count": 7,
   "id": "e70ab33a",
   "metadata": {
    "nbgrader": {
     "grade": true,
     "grade_id": "cell-c58cfc6b2eb0a37f",
     "locked": false,
     "points": 1,
     "schema_version": 3,
     "solution": true,
     "task": false
    }
   },
   "outputs": [
    {
     "name": "stderr",
     "output_type": "stream",
     "text": [
      "[I 2023-11-22 22:35:56,845] A new study created in memory with name: ensemble\n",
      "[I 2023-11-22 22:35:56,863] Trial 0 finished with value: 0.41410587490442397 and parameters: {'rf_model': 38, 'xgb_model': 96, 'lgbm_model': 74}. Best is trial 0 with value: 0.41410587490442397.\n",
      "[I 2023-11-22 22:35:56,874] Trial 1 finished with value: 0.41482136853665097 and parameters: {'rf_model': 60, 'xgb_model': 16, 'lgbm_model': 16}. Best is trial 0 with value: 0.41410587490442397.\n",
      "[I 2023-11-22 22:35:56,881] Trial 2 finished with value: 0.4162518377428588 and parameters: {'rf_model': 6, 'xgb_model': 87, 'lgbm_model': 61}. Best is trial 0 with value: 0.41410587490442397.\n",
      "[I 2023-11-22 22:35:56,888] Trial 3 finished with value: 0.41964826619872286 and parameters: {'rf_model': 71, 'xgb_model': 3, 'lgbm_model': 97}. Best is trial 0 with value: 0.41410587490442397.\n",
      "[I 2023-11-22 22:35:56,892] Trial 4 finished with value: 0.4149558040950525 and parameters: {'rf_model': 84, 'xgb_model': 22, 'lgbm_model': 19}. Best is trial 0 with value: 0.41410587490442397.\n",
      "[I 2023-11-22 22:35:56,896] Trial 5 finished with value: 0.4171845160074488 and parameters: {'rf_model': 19, 'xgb_model': 31, 'lgbm_model': 53}. Best is trial 0 with value: 0.41410587490442397.\n",
      "[I 2023-11-22 22:35:56,900] Trial 6 finished with value: 0.41583159177782464 and parameters: {'rf_model': 44, 'xgb_model': 30, 'lgbm_model': 62}. Best is trial 0 with value: 0.41410587490442397.\n",
      "[I 2023-11-22 22:35:56,904] Trial 7 finished with value: 0.41595910694313804 and parameters: {'rf_model': 14, 'xgb_model': 30, 'lgbm_model': 37}. Best is trial 0 with value: 0.41410587490442397.\n",
      "[I 2023-11-22 22:35:56,909] Trial 8 finished with value: 0.41158242561275954 and parameters: {'rf_model': 46, 'xgb_model': 79, 'lgbm_model': 20}. Best is trial 8 with value: 0.41158242561275954.\n",
      "[I 2023-11-22 22:35:56,928] Trial 9 finished with value: 0.4116897089386813 and parameters: {'rf_model': 52, 'xgb_model': 60, 'lgbm_model': 5}. Best is trial 8 with value: 0.41158242561275954.\n",
      "[I 2023-11-22 22:35:57,000] Trial 10 finished with value: 0.41208218124202006 and parameters: {'rf_model': 95, 'xgb_model': 70, 'lgbm_model': 32}. Best is trial 8 with value: 0.41158242561275954.\n",
      "[I 2023-11-22 22:35:57,025] Trial 11 finished with value: 0.41237218782881385 and parameters: {'rf_model': 35, 'xgb_model': 59, 'lgbm_model': 4}. Best is trial 8 with value: 0.41158242561275954.\n",
      "[I 2023-11-22 22:35:57,058] Trial 12 finished with value: 0.411988579471095 and parameters: {'rf_model': 59, 'xgb_model': 75, 'lgbm_model': 4}. Best is trial 8 with value: 0.41158242561275954.\n",
      "[I 2023-11-22 22:35:57,077] Trial 13 finished with value: 0.4129206149223064 and parameters: {'rf_model': 24, 'xgb_model': 57, 'lgbm_model': 31}. Best is trial 8 with value: 0.41158242561275954.\n",
      "[I 2023-11-22 22:35:57,093] Trial 14 finished with value: 0.4117911975943776 and parameters: {'rf_model': 54, 'xgb_model': 45, 'lgbm_model': 18}. Best is trial 8 with value: 0.41158242561275954.\n",
      "[I 2023-11-22 22:35:57,119] Trial 15 finished with value: 0.41193151216297763 and parameters: {'rf_model': 76, 'xgb_model': 73, 'lgbm_model': 1}. Best is trial 8 with value: 0.41158242561275954.\n",
      "[I 2023-11-22 22:35:57,150] Trial 16 finished with value: 0.4128878467408741 and parameters: {'rf_model': 32, 'xgb_model': 85, 'lgbm_model': 41}. Best is trial 8 with value: 0.41158242561275954.\n",
      "[I 2023-11-22 22:35:57,170] Trial 17 finished with value: 0.41172479515156496 and parameters: {'rf_model': 49, 'xgb_model': 47, 'lgbm_model': 23}. Best is trial 8 with value: 0.41158242561275954.\n",
      "[I 2023-11-22 22:35:57,198] Trial 18 finished with value: 0.4115244867031656 and parameters: {'rf_model': 68, 'xgb_model': 60, 'lgbm_model': 13}. Best is trial 18 with value: 0.4115244867031656.\n",
      "[I 2023-11-22 22:35:57,226] Trial 19 finished with value: 0.411654168621878 and parameters: {'rf_model': 68, 'xgb_model': 98, 'lgbm_model': 46}. Best is trial 18 with value: 0.4115244867031656.\n"
     ]
    },
    {
     "name": "stdout",
     "output_type": "stream",
     "text": [
      "Best MAE 0.4115244867031656\n",
      "Best params: {'rf_model': 68, 'xgb_model': 60, 'lgbm_model': 13}\n"
     ]
    }
   ],
   "source": [
    "### START CODE HERE\n",
    "predictions = {name: (eval(name)).predict(test_x) for name in model_names}\n",
    "\n",
    "def objective(trial):\n",
    "    weights = {name: trial.suggest_int(name, 1, 100) for name in model_names}\n",
    "    probs = np.sum([weights[name] * predictions[name] for name in model_names], axis=0)/sum(weights.values())\n",
    "    score = mean_absolute_error(test_y, probs)\n",
    "    return score\n",
    "### END CODE HERE\n",
    "\n",
    "# Create and run the study\n",
    "### START CODE HERE\n",
    "study = optuna.create_study(\n",
    "    direction=\"minimize\",\n",
    "    sampler=TPESampler(seed=RANDOM_SEED),\n",
    "    study_name=\"ensemble\"\n",
    ")\n",
    "study.optimize(objective, n_trials=20)\n",
    "### END CODE HERE\n",
    "\n",
    "print(\"Best MAE\", study.best_value)\n",
    "print(\"Best params:\", study.best_trial.params)"
   ]
  },
  {
   "cell_type": "markdown",
   "id": "d1550bb0",
   "metadata": {},
   "source": [
    "Expected output:\n",
    "\n",
    "Best MAE 0.4111545941609471\n",
    "\n",
    "Best params: {'rf_model': 76, 'xgb_model': 82, 'lgbm_model': 19}"
   ]
  },
  {
   "cell_type": "markdown",
   "id": "05a01494",
   "metadata": {},
   "source": [
    "## Assignment 6: Parallelizing the optimization process (2 points)\n",
    "Let's go back to Assignment 1, where you tried to find the optimal hyperparameter combination for you LightGBM regression model."
   ]
  },
  {
   "cell_type": "markdown",
   "id": "a9c4763a",
   "metadata": {},
   "source": [
    "Let's load the \"lgbm-wine-1\" study created in Assignment 1 and use [optuna.visualization.plot_timeline](https://optuna.readthedocs.io/en/stable/reference/visualization/generated/optuna.visualization.plot_timeline.html) to show the timeline of the optimization process."
   ]
  },
  {
   "cell_type": "code",
   "execution_count": 12,
   "id": "02c2372e",
   "metadata": {},
   "outputs": [
    {
     "name": "stderr",
     "output_type": "stream",
     "text": [
      "/tmp/ipykernel_3761/3319565710.py:4: ExperimentalWarning: plot_timeline is experimental (supported from v3.2.0). The interface can change in the future.\n",
      "  fig = optuna.visualization.plot_timeline(study)\n"
     ]
    },
    {
     "data": {
      "application/vnd.plotly.v1+json": {
       "config": {
        "plotlyServerURL": "https://plot.ly"
       },
       "data": [
        {
         "base": [
          "2023-11-22T14:47:33.207793",
          "2023-11-22T14:47:34.414285",
          "2023-11-22T14:47:37.515540",
          "2023-11-22T14:47:38.374404",
          "2023-11-22T14:47:38.945486",
          "2023-11-22T14:47:39.422920",
          "2023-11-22T14:47:39.896232",
          "2023-11-22T14:47:41.998527",
          "2023-11-22T14:47:43.099988",
          "2023-11-22T14:47:44.232363",
          "2023-11-22T14:47:46.359013",
          "2023-11-22T14:47:49.899687",
          "2023-11-22T14:47:50.882457",
          "2023-11-22T14:47:52.134917",
          "2023-11-22T14:47:55.154405",
          "2023-11-22T14:47:57.900363",
          "2023-11-22T14:47:58.915070",
          "2023-11-22T14:48:00.947089",
          "2023-11-22T14:48:01.925616",
          "2023-11-22T14:48:02.935699",
          "2023-11-22T14:48:04.567785",
          "2023-11-22T14:48:06.049995",
          "2023-11-22T14:48:07.202051",
          "2023-11-22T14:48:08.514678",
          "2023-11-22T14:48:09.417342",
          "2023-11-22T14:48:12.068538",
          "2023-11-22T14:48:14.416386",
          "2023-11-22T14:48:15.302965",
          "2023-11-22T14:48:16.182129",
          "2023-11-22T14:48:17.022878",
          "2023-11-22T14:48:18.132773",
          "2023-11-22T14:48:19.355211",
          "2023-11-22T14:48:20.261994",
          "2023-11-22T14:48:21.118114",
          "2023-11-22T14:48:22.038539",
          "2023-11-22T14:48:23.105301",
          "2023-11-22T14:48:26.189439",
          "2023-11-22T14:48:30.002510",
          "2023-11-22T14:48:31.225548",
          "2023-11-22T14:48:32.408153",
          "2023-11-22T14:48:33.121566",
          "2023-11-22T14:48:34.184247",
          "2023-11-22T14:48:35.730284",
          "2023-11-22T14:48:37.058844",
          "2023-11-22T14:48:38.249054",
          "2023-11-22T14:48:39.125036",
          "2023-11-22T14:48:40.144610",
          "2023-11-22T14:48:41.713541",
          "2023-11-22T14:48:42.936846",
          "2023-11-22T14:48:43.832490",
          "2023-11-22T14:48:44.829901",
          "2023-11-22T14:48:45.528819",
          "2023-11-22T14:48:46.405727",
          "2023-11-22T14:48:47.376448",
          "2023-11-22T14:48:48.703271",
          "2023-11-22T14:48:49.965631",
          "2023-11-22T14:48:50.900978",
          "2023-11-22T14:48:51.822578",
          "2023-11-22T14:48:52.899936",
          "2023-11-22T14:48:54.209826",
          "2023-11-22T14:48:54.922033",
          "2023-11-22T14:48:55.786423",
          "2023-11-22T14:48:56.773087",
          "2023-11-22T14:48:58.150403",
          "2023-11-22T14:48:59.268499",
          "2023-11-22T14:49:00.149755",
          "2023-11-22T14:49:01.163953",
          "2023-11-22T14:49:03.176316",
          "2023-11-22T14:49:04.047933",
          "2023-11-22T14:49:05.027136",
          "2023-11-22T14:49:06.082428",
          "2023-11-22T14:49:07.261044",
          "2023-11-22T14:49:08.264960",
          "2023-11-22T14:49:09.203856",
          "2023-11-22T14:49:10.268131",
          "2023-11-22T14:49:11.506356",
          "2023-11-22T14:49:12.800418",
          "2023-11-22T14:49:13.747553",
          "2023-11-22T14:49:14.349867",
          "2023-11-22T14:49:14.940598",
          "2023-11-22T14:49:15.896220",
          "2023-11-22T14:49:16.858065",
          "2023-11-22T14:49:17.869636",
          "2023-11-22T14:49:19.027107",
          "2023-11-22T14:49:20.385240",
          "2023-11-22T14:49:22.928037",
          "2023-11-22T14:49:24.157861",
          "2023-11-22T14:49:25.418448",
          "2023-11-22T14:49:26.293924",
          "2023-11-22T14:49:27.205124",
          "2023-11-22T14:49:28.070866",
          "2023-11-22T14:49:30.128663",
          "2023-11-22T14:49:31.863848",
          "2023-11-22T14:49:33.432525",
          "2023-11-22T14:49:34.715102",
          "2023-11-22T14:49:35.863613",
          "2023-11-22T14:49:37.497649",
          "2023-11-22T14:49:38.959126",
          "2023-11-22T14:49:40.879761",
          "2023-11-22T14:49:42.267288"
         ],
         "hovertemplate": "%{text}<extra>COMPLETE</extra>",
         "marker": {
          "color": "blue"
         },
         "name": "COMPLETE",
         "orientation": "h",
         "text": [
          "{<br>  \"number\": 0,<br>  \"values\": [<br>    0.48305757514051956<br>  ],<br>  \"params\": {<br>    \"learning_rate\": 0.005611516415334507,<br>    \"subsample\": 0.4778214378844623,<br>    \"colsample_bytree\": 0.3793972738151323,<br>    \"min_child_samples\": 68,<br>    \"num_leaves\": 161<br>  }<br>}",
          "{<br>  \"number\": 1,<br>  \"values\": [<br>    0.6685091743119267<br>  ],<br>  \"params\": {<br>    \"learning_rate\": 0.002051110418843397,<br>    \"subsample\": 0.07613762547568977,<br>    \"colsample_bytree\": 0.4397792655987208,<br>    \"min_child_samples\": 68,<br>    \"num_leaves\": 726<br>  }<br>}",
          "{<br>  \"number\": 2,<br>  \"values\": [<br>    0.5330860406894041<br>  ],<br>  \"params\": {<br>    \"learning_rate\": 0.0010994335574766201,<br>    \"subsample\": 0.48645943347289744,<br>    \"colsample_bytree\": 0.4245991883601898,<br>    \"min_child_samples\": 37,<br>    \"num_leaves\": 188<br>  }<br>}",
          "{<br>  \"number\": 3,<br>  \"values\": [<br>    0.5338040960963436<br>  ],<br>  \"params\": {<br>    \"learning_rate\": 0.002327067708383781,<br>    \"subsample\": 0.186909009331792,<br>    \"colsample_bytree\": 0.28614039423450705,<br>    \"min_child_samples\": 54,<br>    \"num_leaves\": 299<br>  }<br>}",
          "{<br>  \"number\": 4,<br>  \"values\": [<br>    0.5076269460531386<br>  ],<br>  \"params\": {<br>    \"learning_rate\": 0.01673808578875214,<br>    \"subsample\": 0.11277223729341883,<br>    \"colsample_bytree\": 0.1814650918408482,<br>    \"min_child_samples\": 49,<br>    \"num_leaves\": 468<br>  }<br>}",
          "{<br>  \"number\": 5,<br>  \"values\": [<br>    0.5076748898380093<br>  ],<br>  \"params\": {<br>    \"learning_rate\": 0.037183641805732096,<br>    \"subsample\": 0.1398532019712619,<br>    \"colsample_bytree\": 0.28140549728612524,<br>    \"min_child_samples\": 67,<br>    \"num_leaves\": 49<br>  }<br>}",
          "{<br>  \"number\": 6,<br>  \"values\": [<br>    0.6685091743119267<br>  ],<br>  \"params\": {<br>    \"learning_rate\": 0.016409286730647923,<br>    \"subsample\": 0.1267358556592812,<br>    \"colsample_bytree\": 0.0792732168433758,<br>    \"min_child_samples\": 96,<br>    \"num_leaves\": 989<br>  }<br>}",
          "{<br>  \"number\": 7,<br>  \"values\": [<br>    0.5051750796616936<br>  ],<br>  \"params\": {<br>    \"learning_rate\": 0.041380401125610165,<br>    \"subsample\": 0.1870761961280168,<br>    \"colsample_bytree\": 0.09395245130287275,<br>    \"min_child_samples\": 75,<br>    \"num_leaves\": 452<br>  }<br>}",
          "{<br>  \"number\": 8,<br>  \"values\": [<br>    0.602185209067021<br>  ],<br>  \"params\": {<br>    \"learning_rate\": 0.0017541893487450805,<br>    \"subsample\": 0.2728296095500716,<br>    \"colsample_bytree\": 0.06547483450184828,<br>    \"min_child_samples\": 93,<br>    \"num_leaves\": 266<br>  }<br>}",
          "{<br>  \"number\": 9,<br>  \"values\": [<br>    0.49454634175435186<br>  ],<br>  \"params\": {<br>    \"learning_rate\": 0.02113705944064573,<br>    \"subsample\": 0.19026998424023495,<br>    \"colsample_bytree\": 0.28403060953001485,<br>    \"min_child_samples\": 64,<br>    \"num_leaves\": 191<br>  }<br>}",
          "{<br>  \"number\": 10,<br>  \"values\": [<br>    0.45233172719956855<br>  ],<br>  \"params\": {<br>    \"learning_rate\": 0.0059057803847388166,<br>    \"subsample\": 0.46978789997535003,<br>    \"colsample_bytree\": 0.48629169985453957,<br>    \"min_child_samples\": 21,<br>    \"num_leaves\": 17<br>  }<br>}",
          "{<br>  \"number\": 11,<br>  \"values\": [<br>    0.47633974214588887<br>  ],<br>  \"params\": {<br>    \"learning_rate\": 0.0055881031669443425,<br>    \"subsample\": 0.48995674302519066,<br>    \"colsample_bytree\": 0.49091454950925223,<br>    \"min_child_samples\": 26,<br>    \"num_leaves\": 5<br>  }<br>}",
          "{<br>  \"number\": 12,<br>  \"values\": [<br>    0.457045974419484<br>  ],<br>  \"params\": {<br>    \"learning_rate\": 0.005615594319846422,<br>    \"subsample\": 0.4001693423687098,<br>    \"colsample_bytree\": 0.48811588618406093,<br>    \"min_child_samples\": 22,<br>    \"num_leaves\": 18<br>  }<br>}",
          "{<br>  \"number\": 13,<br>  \"values\": [<br>    0.45228641223565036<br>  ],<br>  \"params\": {<br>    \"learning_rate\": 0.006708985402155976,<br>    \"subsample\": 0.4019317030502952,<br>    \"colsample_bytree\": 0.4995196756302996,<br>    \"min_child_samples\": 20,<br>    \"num_leaves\": 662<br>  }<br>}",
          "{<br>  \"number\": 14,<br>  \"values\": [<br>    0.4679703012775917<br>  ],<br>  \"params\": {<br>    \"learning_rate\": 0.009110013355620833,<br>    \"subsample\": 0.40587610919957545,<br>    \"colsample_bytree\": 0.3625713537543647,<br>    \"min_child_samples\": 36,<br>    \"num_leaves\": 687<br>  }<br>}",
          "{<br>  \"number\": 15,<br>  \"values\": [<br>    0.44491889961791514<br>  ],<br>  \"params\": {<br>    \"learning_rate\": 0.08538648795388477,<br>    \"subsample\": 0.38404037985013173,<br>    \"colsample_bytree\": 0.498207439286346,<br>    \"min_child_samples\": 35,<br>    \"num_leaves\": 678<br>  }<br>}",
          "{<br>  \"number\": 16,<br>  \"values\": [<br>    0.4534286733960903<br>  ],<br>  \"params\": {<br>    \"learning_rate\": 0.09970682275036434,<br>    \"subsample\": 0.3593416108926655,<br>    \"colsample_bytree\": 0.4166526735522039,<br>    \"min_child_samples\": 35,<br>    \"num_leaves\": 710<br>  }<br>}",
          "{<br>  \"number\": 17,<br>  \"values\": [<br>    0.4666925709424738<br>  ],<br>  \"params\": {<br>    \"learning_rate\": 0.09909565063638189,<br>    \"subsample\": 0.3280054759452771,<br>    \"colsample_bytree\": 0.3743826674083961,<br>    \"min_child_samples\": 44,<br>    \"num_leaves\": 885<br>  }<br>}",
          "{<br>  \"number\": 18,<br>  \"values\": [<br>    0.46710965135785415<br>  ],<br>  \"params\": {<br>    \"learning_rate\": 0.06437647701272971,<br>    \"subsample\": 0.2936018218648819,<br>    \"colsample_bytree\": 0.34383239283437844,<br>    \"min_child_samples\": 30,<br>    \"num_leaves\": 565<br>  }<br>}",
          "{<br>  \"number\": 19,<br>  \"values\": [<br>    0.4537187518710503<br>  ],<br>  \"params\": {<br>    \"learning_rate\": 0.029960624806812438,<br>    \"subsample\": 0.4135757771377759,<br>    \"colsample_bytree\": 0.48617143342192304,<br>    \"min_child_samples\": 43,<br>    \"num_leaves\": 835<br>  }<br>}",
          "{<br>  \"number\": 20,<br>  \"values\": [<br>    0.447940897337388<br>  ],<br>  \"params\": {<br>    \"learning_rate\": 0.010722926587551451,<br>    \"subsample\": 0.433902354799973,<br>    \"colsample_bytree\": 0.45015459185509876,<br>    \"min_child_samples\": 30,<br>    \"num_leaves\": 584<br>  }<br>}",
          "{<br>  \"number\": 21,<br>  \"values\": [<br>    0.4516003748922974<br>  ],<br>  \"params\": {<br>    \"learning_rate\": 0.011206719773903487,<br>    \"subsample\": 0.43524358052312223,<br>    \"colsample_bytree\": 0.44511714041588407,<br>    \"min_child_samples\": 31,<br>    \"num_leaves\": 592<br>  }<br>}",
          "{<br>  \"number\": 22,<br>  \"values\": [<br>    0.4489556716781<br>  ],<br>  \"params\": {<br>    \"learning_rate\": 0.01244390082823864,<br>    \"subsample\": 0.44218419993494124,<br>    \"colsample_bytree\": 0.4454279495542907,<br>    \"min_child_samples\": 29,<br>    \"num_leaves\": 532<br>  }<br>}",
          "{<br>  \"number\": 23,<br>  \"values\": [<br>    0.4623308057706593<br>  ],<br>  \"params\": {<br>    \"learning_rate\": 0.024946832736474595,<br>    \"subsample\": 0.4379199559044892,<br>    \"colsample_bytree\": 0.4529755655591175,<br>    \"min_child_samples\": 55,<br>    \"num_leaves\": 363<br>  }<br>}",
          "{<br>  \"number\": 24,<br>  \"values\": [<br>    0.46122172738328937<br>  ],<br>  \"params\": {<br>    \"learning_rate\": 0.043393934601476405,<br>    \"subsample\": 0.3520566353077483,<br>    \"colsample_bytree\": 0.3949906793765289,<br>    \"min_child_samples\": 43,<br>    \"num_leaves\": 793<br>  }<br>}",
          "{<br>  \"number\": 25,<br>  \"values\": [<br>    0.4342331555289691<br>  ],<br>  \"params\": {<br>    \"learning_rate\": 0.05913905272326255,<br>    \"subsample\": 0.45031259532779655,<br>    \"colsample_bytree\": 0.45559473938434125,<br>    \"min_child_samples\": 28,<br>    \"num_leaves\": 520<br>  }<br>}",
          "{<br>  \"number\": 26,<br>  \"values\": [<br>    0.4684920769871428<br>  ],<br>  \"params\": {<br>    \"learning_rate\": 0.06349947862234823,<br>    \"subsample\": 0.4978238756541076,<br>    \"colsample_bytree\": 0.4070831257980554,<br>    \"min_child_samples\": 86,<br>    \"num_leaves\": 400<br>  }<br>}",
          "{<br>  \"number\": 27,<br>  \"values\": [<br>    0.4602439747018141<br>  ],<br>  \"params\": {<br>    \"learning_rate\": 0.05753110952080387,<br>    \"subsample\": 0.379904787194608,<br>    \"colsample_bytree\": 0.33468367674304317,<br>    \"min_child_samples\": 39,<br>    \"num_leaves\": 624<br>  }<br>}",
          "{<br>  \"number\": 28,<br>  \"values\": [<br>    0.45822004063085203<br>  ],<br>  \"params\": {<br>    \"learning_rate\": 0.027616105352891038,<br>    \"subsample\": 0.4260205449783876,<br>    \"colsample_bytree\": 0.46619988624829567,<br>    \"min_child_samples\": 48,<br>    \"num_leaves\": 509<br>  }<br>}",
          "{<br>  \"number\": 29,<br>  \"values\": [<br>    0.44806583391439925<br>  ],<br>  \"params\": {<br>    \"learning_rate\": 0.07724833057753773,<br>    \"subsample\": 0.46236799124240197,<br>    \"colsample_bytree\": 0.395533806404369,<br>    \"min_child_samples\": 27,<br>    \"num_leaves\": 795<br>  }<br>}",
          "{<br>  \"number\": 30,<br>  \"values\": [<br>    0.46823287131172575<br>  ],<br>  \"params\": {<br>    \"learning_rate\": 0.053991160415325694,<br>    \"subsample\": 0.44797219120502024,<br>    \"colsample_bytree\": 0.42843842525265574,<br>    \"min_child_samples\": 76,<br>    \"num_leaves\": 919<br>  }<br>}",
          "{<br>  \"number\": 31,<br>  \"values\": [<br>    0.4445983514656934<br>  ],<br>  \"params\": {<br>    \"learning_rate\": 0.07230087884538487,<br>    \"subsample\": 0.4507615905473845,<br>    \"colsample_bytree\": 0.3950430134574376,<br>    \"min_child_samples\": 26,<br>    \"num_leaves\": 619<br>  }<br>}",
          "{<br>  \"number\": 32,<br>  \"values\": [<br>    0.4402175677984128<br>  ],<br>  \"params\": {<br>    \"learning_rate\": 0.07388919727589129,<br>    \"subsample\": 0.4662571397680406,<br>    \"colsample_bytree\": 0.46171942265511695,<br>    \"min_child_samples\": 34,<br>    \"num_leaves\": 646<br>  }<br>}",
          "{<br>  \"number\": 33,<br>  \"values\": [<br>    0.4533557329196081<br>  ],<br>  \"params\": {<br>    \"learning_rate\": 0.08026816350786252,<br>    \"subsample\": 0.474522796777465,<br>    \"colsample_bytree\": 0.46380079851149847,<br>    \"min_child_samples\": 34,<br>    \"num_leaves\": 725<br>  }<br>}",
          "{<br>  \"number\": 34,<br>  \"values\": [<br>    0.42965076984451656<br>  ],<br>  \"params\": {<br>    \"learning_rate\": 0.052552056156990906,<br>    \"subsample\": 0.463491458124007,<br>    \"colsample_bytree\": 0.42373067592669533,<br>    \"min_child_samples\": 25,<br>    \"num_leaves\": 646<br>  }<br>}",
          "{<br>  \"number\": 35,<br>  \"values\": [<br>    0.43220440949326205<br>  ],<br>  \"params\": {<br>    \"learning_rate\": 0.04716520440085523,<br>    \"subsample\": 0.49523373514285723,<br>    \"colsample_bytree\": 0.4137788714503278,<br>    \"min_child_samples\": 25,<br>    \"num_leaves\": 470<br>  }<br>}",
          "{<br>  \"number\": 36,<br>  \"values\": [<br>    0.43398724655866266<br>  ],<br>  \"params\": {<br>    \"learning_rate\": 0.049806423742470726,<br>    \"subsample\": 0.4929917703501335,<br>    \"colsample_bytree\": 0.4239966896405894,<br>    \"min_child_samples\": 25,<br>    \"num_leaves\": 442<br>  }<br>}",
          "{<br>  \"number\": 37,<br>  \"values\": [<br>    0.43619076085413055<br>  ],<br>  \"params\": {<br>    \"learning_rate\": 0.042321513672650204,<br>    \"subsample\": 0.4936108267298752,<br>    \"colsample_bytree\": 0.42451923059293306,<br>    \"min_child_samples\": 24,<br>    \"num_leaves\": 350<br>  }<br>}",
          "{<br>  \"number\": 38,<br>  \"values\": [<br>    0.45651220522616326<br>  ],<br>  \"params\": {<br>    \"learning_rate\": 0.05066521196633169,<br>    \"subsample\": 0.4961136017675955,<br>    \"colsample_bytree\": 0.314490050654138,<br>    \"min_child_samples\": 40,<br>    \"num_leaves\": 458<br>  }<br>}",
          "{<br>  \"number\": 39,<br>  \"values\": [<br>    0.4631976644848161<br>  ],<br>  \"params\": {<br>    \"learning_rate\": 0.03570734361430684,<br>    \"subsample\": 0.47072672543292043,<br>    \"colsample_bytree\": 0.38474015915781096,<br>    \"min_child_samples\": 51,<br>    \"num_leaves\": 507<br>  }<br>}",
          "{<br>  \"number\": 40,<br>  \"values\": [<br>    0.42419066258170246<br>  ],<br>  \"params\": {<br>    \"learning_rate\": 0.05154594962883767,<br>    \"subsample\": 0.4598121663033559,<br>    \"colsample_bytree\": 0.4171881546022748,<br>    \"min_child_samples\": 20,<br>    \"num_leaves\": 255<br>  }<br>}",
          "{<br>  \"number\": 41,<br>  \"values\": [<br>    0.42909073841273526<br>  ],<br>  \"params\": {<br>    \"learning_rate\": 0.050392051361916976,<br>    \"subsample\": 0.46543483050439177,<br>    \"colsample_bytree\": 0.42013781364978237,<br>    \"min_child_samples\": 24,<br>    \"num_leaves\": 266<br>  }<br>}",
          "{<br>  \"number\": 42,<br>  \"values\": [<br>    0.4226681296589453<br>  ],<br>  \"params\": {<br>    \"learning_rate\": 0.04770626576261023,<br>    \"subsample\": 0.4691471215531713,<br>    \"colsample_bytree\": 0.4237429377975127,<br>    \"min_child_samples\": 20,<br>    \"num_leaves\": 113<br>  }<br>}",
          "{<br>  \"number\": 43,<br>  \"values\": [<br>    0.4327282718696499<br>  ],<br>  \"params\": {<br>    \"learning_rate\": 0.033543756001998506,<br>    \"subsample\": 0.4720077919405392,<br>    \"colsample_bytree\": 0.3641533452750781,<br>    \"min_child_samples\": 20,<br>    \"num_leaves\": 113<br>  }<br>}",
          "{<br>  \"number\": 44,<br>  \"values\": [<br>    0.43769211081988246<br>  ],<br>  \"params\": {<br>    \"learning_rate\": 0.03830408490319354,<br>    \"subsample\": 0.4624991830778099,<br>    \"colsample_bytree\": 0.4056704971809904,<br>    \"min_child_samples\": 24,<br>    \"num_leaves\": 203<br>  }<br>}",
          "{<br>  \"number\": 45,<br>  \"values\": [<br>    0.4266611840502412<br>  ],<br>  \"params\": {<br>    \"learning_rate\": 0.022992859099597925,<br>    \"subsample\": 0.41226154880404103,<br>    \"colsample_bytree\": 0.4335061492881147,<br>    \"min_child_samples\": 20,<br>    \"num_leaves\": 108<br>  }<br>}",
          "{<br>  \"number\": 46,<br>  \"values\": [<br>    0.4298177792276609<br>  ],<br>  \"params\": {<br>    \"learning_rate\": 0.021979530481551875,<br>    \"subsample\": 0.4187121121283618,<br>    \"colsample_bytree\": 0.4344874444022684,<br>    \"min_child_samples\": 20,<br>    \"num_leaves\": 104<br>  }<br>}",
          "{<br>  \"number\": 47,<br>  \"values\": [<br>    0.4538440144997527<br>  ],<br>  \"params\": {<br>    \"learning_rate\": 0.02879675288326685,<br>    \"subsample\": 0.4198232874948399,<br>    \"colsample_bytree\": 0.3784225604022436,<br>    \"min_child_samples\": 31,<br>    \"num_leaves\": 254<br>  }<br>}",
          "{<br>  \"number\": 48,<br>  \"values\": [<br>    0.43761396236543093<br>  ],<br>  \"params\": {<br>    \"learning_rate\": 0.03526245629083986,<br>    \"subsample\": 0.45454141727850805,<br>    \"colsample_bytree\": 0.353773516239124,<br>    \"min_child_samples\": 23,<br>    \"num_leaves\": 100<br>  }<br>}",
          "{<br>  \"number\": 49,<br>  \"values\": [<br>    0.4402955674228977<br>  ],<br>  \"params\": {<br>    \"learning_rate\": 0.04367117287181349,<br>    \"subsample\": 0.3926893887324634,<br>    \"colsample_bytree\": 0.37783161180098424,<br>    \"min_child_samples\": 20,<br>    \"num_leaves\": 157<br>  }<br>}",
          "{<br>  \"number\": 50,<br>  \"values\": [<br>    0.4613701489191473<br>  ],<br>  \"params\": {<br>    \"learning_rate\": 0.017464725573809445,<br>    \"subsample\": 0.4246622801004741,<br>    \"colsample_bytree\": 0.43140007843297473,<br>    \"min_child_samples\": 60,<br>    \"num_leaves\": 248<br>  }<br>}",
          "{<br>  \"number\": 51,<br>  \"values\": [<br>    0.42636039057538583<br>  ],<br>  \"params\": {<br>    \"learning_rate\": 0.023582625771989683,<br>    \"subsample\": 0.4070661186293407,<br>    \"colsample_bytree\": 0.4339315470736534,<br>    \"min_child_samples\": 20,<br>    \"num_leaves\": 88<br>  }<br>}",
          "{<br>  \"number\": 52,<br>  \"values\": [<br>    0.44322530389163534<br>  ],<br>  \"params\": {<br>    \"learning_rate\": 0.023335283650491673,<br>    \"subsample\": 0.48047335635610433,<br>    \"colsample_bytree\": 0.4016232642053001,<br>    \"min_child_samples\": 23,<br>    \"num_leaves\": 63<br>  }<br>}",
          "{<br>  \"number\": 53,<br>  \"values\": [<br>    0.44339849231757855<br>  ],<br>  \"params\": {<br>    \"learning_rate\": 0.029300232001461406,<br>    \"subsample\": 0.3997687837962434,<br>    \"colsample_bytree\": 0.4761939009138587,<br>    \"min_child_samples\": 28,<br>    \"num_leaves\": 158<br>  }<br>}",
          "{<br>  \"number\": 54,<br>  \"values\": [<br>    0.44186026776461845<br>  ],<br>  \"params\": {<br>    \"learning_rate\": 0.033183191831209526,<br>    \"subsample\": 0.4386434612009684,<br>    \"colsample_bytree\": 0.417872988489677,<br>    \"min_child_samples\": 32,<br>    \"num_leaves\": 216<br>  }<br>}",
          "{<br>  \"number\": 55,<br>  \"values\": [<br>    0.4296981509456157<br>  ],<br>  \"params\": {<br>    \"learning_rate\": 0.02009698924434777,<br>    \"subsample\": 0.4788722788982728,<br>    \"colsample_bytree\": 0.47256158138576343,<br>    \"min_child_samples\": 22,<br>    \"num_leaves\": 293<br>  }<br>}",
          "{<br>  \"number\": 56,<br>  \"values\": [<br>    0.4363994430071348<br>  ],<br>  \"params\": {<br>    \"learning_rate\": 0.0402681734065825,<br>    \"subsample\": 0.4164589646260864,<br>    \"colsample_bytree\": 0.44313984671507356,<br>    \"min_child_samples\": 27,<br>    \"num_leaves\": 52<br>  }<br>}",
          "{<br>  \"number\": 57,<br>  \"values\": [<br>    0.4355081565842231<br>  ],<br>  \"params\": {<br>    \"learning_rate\": 0.05275840892605679,<br>    \"subsample\": 0.4554765354726644,<br>    \"colsample_bytree\": 0.4366639477598994,<br>    \"min_child_samples\": 20,<br>    \"num_leaves\": 123<br>  }<br>}",
          "{<br>  \"number\": 58,<br>  \"values\": [<br>    0.46512268785019695<br>  ],<br>  \"params\": {<br>    \"learning_rate\": 0.06806768599137311,<br>    \"subsample\": 0.43071995690174636,<br>    \"colsample_bytree\": 0.24689756568350085,<br>    \"min_child_samples\": 71,<br>    \"num_leaves\": 322<br>  }<br>}",
          "{<br>  \"number\": 59,<br>  \"values\": [<br>    0.4489618346840534<br>  ],<br>  \"params\": {<br>    \"learning_rate\": 0.04598034804147859,<br>    \"subsample\": 0.3772839267318349,<br>    \"colsample_bytree\": 0.47877068003622253,<br>    \"min_child_samples\": 38,<br>    \"num_leaves\": 74<br>  }<br>}",
          "{<br>  \"number\": 60,<br>  \"values\": [<br>    0.44448660047129196<br>  ],<br>  \"params\": {<br>    \"learning_rate\": 0.06208493910914696,<br>    \"subsample\": 0.403712062622279,<br>    \"colsample_bytree\": 0.49737065313848816,<br>    \"min_child_samples\": 33,<br>    \"num_leaves\": 155<br>  }<br>}",
          "{<br>  \"number\": 61,<br>  \"values\": [<br>    0.43744015251764623<br>  ],<br>  \"params\": {<br>    \"learning_rate\": 0.019887454654753344,<br>    \"subsample\": 0.477061832260812,<br>    \"colsample_bytree\": 0.471584968491029,<br>    \"min_child_samples\": 25,<br>    \"num_leaves\": 304<br>  }<br>}",
          "{<br>  \"number\": 62,<br>  \"values\": [<br>    0.4295886927390826<br>  ],<br>  \"params\": {<br>    \"learning_rate\": 0.02586805355706382,<br>    \"subsample\": 0.47794521710052723,<br>    \"colsample_bytree\": 0.45549744510923945,<br>    \"min_child_samples\": 23,<br>    \"num_leaves\": 237<br>  }<br>}",
          "{<br>  \"number\": 63,<br>  \"values\": [<br>    0.4430506124629058<br>  ],<br>  \"params\": {<br>    \"learning_rate\": 0.024205051075636492,<br>    \"subsample\": 0.44550294457196554,<br>    \"colsample_bytree\": 0.4548479409915838,<br>    \"min_child_samples\": 29,<br>    \"num_leaves\": 231<br>  }<br>}",
          "{<br>  \"number\": 64,<br>  \"values\": [<br>    0.4245870058766461<br>  ],<br>  \"params\": {<br>    \"learning_rate\": 0.026716714653710758,<br>    \"subsample\": 0.4582896636042023,<br>    \"colsample_bytree\": 0.4161822863952031,<br>    \"min_child_samples\": 22,<br>    \"num_leaves\": 26<br>  }<br>}",
          "{<br>  \"number\": 65,<br>  \"values\": [<br>    0.4341528862440165<br>  ],<br>  \"params\": {<br>    \"learning_rate\": 0.014524708465271144,<br>    \"subsample\": 0.48503009161651944,<br>    \"colsample_bytree\": 0.4097984731150061,<br>    \"min_child_samples\": 22,<br>    \"num_leaves\": 198<br>  }<br>}",
          "{<br>  \"number\": 66,<br>  \"values\": [<br>    0.47708691666915415<br>  ],<br>  \"params\": {<br>    \"learning_rate\": 0.02665312328606197,<br>    \"subsample\": 0.4352632297009374,<br>    \"colsample_bytree\": 0.44753196376074744,<br>    \"min_child_samples\": 100,<br>    \"num_leaves\": 13<br>  }<br>}",
          "{<br>  \"number\": 67,<br>  \"values\": [<br>    0.4488371875768975<br>  ],<br>  \"params\": {<br>    \"learning_rate\": 0.03276423743742234,<br>    \"subsample\": 0.41501664969237345,<br>    \"colsample_bytree\": 0.38811814931596217,<br>    \"min_child_samples\": 28,<br>    \"num_leaves\": 134<br>  }<br>}",
          "{<br>  \"number\": 68,<br>  \"values\": [<br>    0.4327715511427279<br>  ],<br>  \"params\": {<br>    \"learning_rate\": 0.025151253443944716,<br>    \"subsample\": 0.44854953779468815,<br>    \"colsample_bytree\": 0.43508418591847087,<br>    \"min_child_samples\": 23,<br>    \"num_leaves\": 88<br>  }<br>}",
          "{<br>  \"number\": 69,<br>  \"values\": [<br>    0.43638820127372313<br>  ],<br>  \"params\": {<br>    \"learning_rate\": 0.03982228369726725,<br>    \"subsample\": 0.4825403061525888,<br>    \"colsample_bytree\": 0.4603824630696539,<br>    \"min_child_samples\": 31,<br>    \"num_leaves\": 27<br>  }<br>}",
          "{<br>  \"number\": 70,<br>  \"values\": [<br>    0.42618079687999627<br>  ],<br>  \"params\": {<br>    \"learning_rate\": 0.03167069298754709,<br>    \"subsample\": 0.4338521793962059,<br>    \"colsample_bytree\": 0.4865138128652159,<br>    \"min_child_samples\": 22,<br>    \"num_leaves\": 171<br>  }<br>}",
          "{<br>  \"number\": 71,<br>  \"values\": [<br>    0.42536110485327583<br>  ],<br>  \"params\": {<br>    \"learning_rate\": 0.0315036998169653,<br>    \"subsample\": 0.4595180169158516,<br>    \"colsample_bytree\": 0.4917425137388524,<br>    \"min_child_samples\": 20,<br>    \"num_leaves\": 178<br>  }<br>}",
          "{<br>  \"number\": 72,<br>  \"values\": [<br>    0.42819206233839213<br>  ],<br>  \"params\": {<br>    \"learning_rate\": 0.031626416718896225,<br>    \"subsample\": 0.45927266709881426,<br>    \"colsample_bytree\": 0.49872481053499274,<br>    \"min_child_samples\": 20,<br>    \"num_leaves\": 187<br>  }<br>}",
          "{<br>  \"number\": 73,<br>  \"values\": [<br>    0.42789012446088137<br>  ],<br>  \"params\": {<br>    \"learning_rate\": 0.03126812148976232,<br>    \"subsample\": 0.42919002644633464,<br>    \"colsample_bytree\": 0.48656178836561464,<br>    \"min_child_samples\": 20,<br>    \"num_leaves\": 181<br>  }<br>}",
          "{<br>  \"number\": 74,<br>  \"values\": [<br>    0.44149358332047994<br>  ],<br>  \"params\": {<br>    \"learning_rate\": 0.029989830511546606,<br>    \"subsample\": 0.4297389329326861,<br>    \"colsample_bytree\": 0.4869246201142529,<br>    \"min_child_samples\": 27,<br>    \"num_leaves\": 37<br>  }<br>}",
          "{<br>  \"number\": 75,<br>  \"values\": [<br>    0.4331601325730113<br>  ],<br>  \"params\": {<br>    \"learning_rate\": 0.03767002083681472,<br>    \"subsample\": 0.4108450502478128,<br>    \"colsample_bytree\": 0.48245910573976464,<br>    \"min_child_samples\": 22,<br>    \"num_leaves\": 174<br>  }<br>}",
          "{<br>  \"number\": 76,<br>  \"values\": [<br>    0.4391053054827172<br>  ],<br>  \"params\": {<br>    \"learning_rate\": 0.017530419975095513,<br>    \"subsample\": 0.4418707405207565,<br>    \"colsample_bytree\": 0.46917682176440073,<br>    \"min_child_samples\": 26,<br>    \"num_leaves\": 71<br>  }<br>}",
          "{<br>  \"number\": 77,<br>  \"values\": [<br>    0.47876926568828515<br>  ],<br>  \"params\": {<br>    \"learning_rate\": 0.022202618080255056,<br>    \"subsample\": 0.38776969411071827,<br>    \"colsample_bytree\": 0.48229813732157667,<br>    \"min_child_samples\": 83,<br>    \"num_leaves\": 134<br>  }<br>}",
          "{<br>  \"number\": 78,<br>  \"values\": [<br>    0.45438072730155626<br>  ],<br>  \"params\": {<br>    \"learning_rate\": 0.02763205692190752,<br>    \"subsample\": 0.42552626200826826,<br>    \"colsample_bytree\": 0.45002519906496813,<br>    \"min_child_samples\": 20,<br>    \"num_leaves\": 6<br>  }<br>}",
          "{<br>  \"number\": 79,<br>  \"values\": [<br>    0.4451079933856662<br>  ],<br>  \"params\": {<br>    \"learning_rate\": 0.03640082165332323,<br>    \"subsample\": 0.3701589579844144,<br>    \"colsample_bytree\": 0.4880904601976474,<br>    \"min_child_samples\": 30,<br>    \"num_leaves\": 131<br>  }<br>}",
          "{<br>  \"number\": 80,<br>  \"values\": [<br>    0.4395572730259136<br>  ],<br>  \"params\": {<br>    \"learning_rate\": 0.05900563618202071,<br>    \"subsample\": 0.39815394615641203,<br>    \"colsample_bytree\": 0.44144394193317843,<br>    \"min_child_samples\": 25,<br>    \"num_leaves\": 47<br>  }<br>}",
          "{<br>  \"number\": 81,<br>  \"values\": [<br>    0.42049257783045446<br>  ],<br>  \"params\": {<br>    \"learning_rate\": 0.044003653606792495,<br>    \"subsample\": 0.46109394814578664,<br>    \"colsample_bytree\": 0.49833000276908107,<br>    \"min_child_samples\": 20,<br>    \"num_leaves\": 183<br>  }<br>}",
          "{<br>  \"number\": 82,<br>  \"values\": [<br>    0.4305684241619697<br>  ],<br>  \"params\": {<br>    \"learning_rate\": 0.045170908086908663,<br>    \"subsample\": 0.4570745992152243,<br>    \"colsample_bytree\": 0.4646962056960105,<br>    \"min_child_samples\": 22,<br>    \"num_leaves\": 170<br>  }<br>}",
          "{<br>  \"number\": 83,<br>  \"values\": [<br>    0.4265701289511831<br>  ],<br>  \"params\": {<br>    \"learning_rate\": 0.03018578879760998,<br>    \"subsample\": 0.4391691182730356,<br>    \"colsample_bytree\": 0.4994906161429482,<br>    \"min_child_samples\": 21,<br>    \"num_leaves\": 91<br>  }<br>}",
          "{<br>  \"number\": 84,<br>  \"values\": [<br>    0.4298433359056496<br>  ],<br>  \"params\": {<br>    \"learning_rate\": 0.04199049424873716,<br>    \"subsample\": 0.49963821474250003,<br>    \"colsample_bytree\": 0.49524120282955403,<br>    \"min_child_samples\": 22,<br>    \"num_leaves\": 99<br>  }<br>}",
          "{<br>  \"number\": 85,<br>  \"values\": [<br>    0.43416996758524645<br>  ],<br>  \"params\": {<br>    \"learning_rate\": 0.035653055982900354,<br>    \"subsample\": 0.4459536090235274,<br>    \"colsample_bytree\": 0.4645821048782592,<br>    \"min_child_samples\": 27,<br>    \"num_leaves\": 73<br>  }<br>}",
          "{<br>  \"number\": 86,<br>  \"values\": [<br>    0.44960491372024974<br>  ],<br>  \"params\": {<br>    \"learning_rate\": 0.020362540276913494,<br>    \"subsample\": 0.4685235760233759,<br>    \"colsample_bytree\": 0.49943242436818613,<br>    \"min_child_samples\": 36,<br>    \"num_leaves\": 143<br>  }<br>}",
          "{<br>  \"number\": 87,<br>  \"values\": [<br>    0.4355447889104087<br>  ],<br>  \"params\": {<br>    \"learning_rate\": 0.028153763470141577,<br>    \"subsample\": 0.40586688904974677,<br>    \"colsample_bytree\": 0.4782911807325536,<br>    \"min_child_samples\": 24,<br>    \"num_leaves\": 218<br>  }<br>}",
          "{<br>  \"number\": 88,<br>  \"values\": [<br>    0.4384064746038379<br>  ],<br>  \"params\": {<br>    \"learning_rate\": 0.022898875996480973,<br>    \"subsample\": 0.45920043685384143,<br>    \"colsample_bytree\": 0.4284814109759944,<br>    \"min_child_samples\": 29,<br>    \"num_leaves\": 281<br>  }<br>}",
          "{<br>  \"number\": 89,<br>  \"values\": [<br>    0.4362049203992794<br>  ],<br>  \"params\": {<br>    \"learning_rate\": 0.04863649844335354,<br>    \"subsample\": 0.44265110870600094,<br>    \"colsample_bytree\": 0.44477450214997805,<br>    \"min_child_samples\": 26,<br>    \"num_leaves\": 44<br>  }<br>}",
          "{<br>  \"number\": 90,<br>  \"values\": [<br>    0.431829347680489<br>  ],<br>  \"params\": {<br>    \"learning_rate\": 0.05581242236780793,<br>    \"subsample\": 0.46901841440567854,<br>    \"colsample_bytree\": 0.4142754237876334,<br>    \"min_child_samples\": 23,<br>    \"num_leaves\": 98<br>  }<br>}",
          "{<br>  \"number\": 91,<br>  \"values\": [<br>    0.42483434246348123<br>  ],<br>  \"params\": {<br>    \"learning_rate\": 0.03274124022282287,<br>    \"subsample\": 0.43331390034195055,<br>    \"colsample_bytree\": 0.4877454896258292,<br>    \"min_child_samples\": 20,<br>    \"num_leaves\": 174<br>  }<br>}",
          "{<br>  \"number\": 92,<br>  \"values\": [<br>    0.4239572238947213<br>  ],<br>  \"params\": {<br>    \"learning_rate\": 0.038706804341228467,<br>    \"subsample\": 0.4878997745216252,<br>    \"colsample_bytree\": 0.4744215544221646,<br>    \"min_child_samples\": 21,<br>    \"num_leaves\": 209<br>  }<br>}",
          "{<br>  \"number\": 93,<br>  \"values\": [<br>    0.4320354547125245<br>  ],<br>  \"params\": {<br>    \"learning_rate\": 0.04065731460365937,<br>    \"subsample\": 0.4873980497828688,<br>    \"colsample_bytree\": 0.4724005077894611,<br>    \"min_child_samples\": 22,<br>    \"num_leaves\": 201<br>  }<br>}",
          "{<br>  \"number\": 94,<br>  \"values\": [<br>    0.4277906900798588<br>  ],<br>  \"params\": {<br>    \"learning_rate\": 0.03549373724618361,<br>    \"subsample\": 0.4521198514904643,<br>    \"colsample_bytree\": 0.4887515296808077,<br>    \"min_child_samples\": 25,<br>    \"num_leaves\": 265<br>  }<br>}",
          "{<br>  \"number\": 95,<br>  \"values\": [<br>    0.42477953272689334<br>  ],<br>  \"params\": {<br>    \"learning_rate\": 0.03164086317829024,<br>    \"subsample\": 0.48581915856400637,<br>    \"colsample_bytree\": 0.45623764083045826,<br>    \"min_child_samples\": 21,<br>    \"num_leaves\": 153<br>  }<br>}",
          "{<br>  \"number\": 96,<br>  \"values\": [<br>    0.43343467860813967<br>  ],<br>  \"params\": {<br>    \"learning_rate\": 0.04535634456638468,<br>    \"subsample\": 0.4843417395392632,<br>    \"colsample_bytree\": 0.4560908455003562,<br>    \"min_child_samples\": 24,<br>    \"num_leaves\": 332<br>  }<br>}",
          "{<br>  \"number\": 97,<br>  \"values\": [<br>    0.422700257515868<br>  ],<br>  \"params\": {<br>    \"learning_rate\": 0.03987034865879906,<br>    \"subsample\": 0.4883591445330426,<br>    \"colsample_bytree\": 0.47174575186919915,<br>    \"min_child_samples\": 21,<br>    \"num_leaves\": 387<br>  }<br>}",
          "{<br>  \"number\": 98,<br>  \"values\": [<br>    0.43673367187812345<br>  ],<br>  \"params\": {<br>    \"learning_rate\": 0.03881951770769323,<br>    \"subsample\": 0.4880347457480092,<br>    \"colsample_bytree\": 0.4689258387325086,<br>    \"min_child_samples\": 29,<br>    \"num_leaves\": 1022<br>  }<br>}",
          "{<br>  \"number\": 99,<br>  \"values\": [<br>    0.43881606055110195<br>  ],<br>  \"params\": {<br>    \"learning_rate\": 0.06560807407088874,<br>    \"subsample\": 0.4721428649308395,<br>    \"colsample_bytree\": 0.46027291584023433,<br>    \"min_child_samples\": 26,<br>    \"num_leaves\": 405<br>  }<br>}"
         ],
         "textposition": "none",
         "type": "bar",
         "x": [
          1081.843,
          3030.372,
          756.401,
          456.02500000000003,
          370.909,
          374.264,
          1976.955,
          981.459,
          1026.181,
          2049.9809999999998,
          3405.148,
          831.737,
          1138.7050000000002,
          2891.728,
          2620.208,
          899.424,
          1874.136,
          847.269,
          890.984,
          1569.444,
          1373.566,
          1022.6729999999999,
          1168.758,
          755.559,
          2590.402,
          2220.249,
          789.825,
          760.088,
          726.602,
          988.4,
          1115.255,
          786.562,
          767.912,
          810.023,
          951.9100000000001,
          3024.2200000000003,
          3704.44,
          1107.244,
          1087.492,
          598.638,
          971.876,
          1443.519,
          1185.3519999999999,
          1127.427,
          752.378,
          916.3520000000001,
          1476.228,
          1124.603,
          788.922,
          869.097,
          571.215,
          781.2620000000001,
          875.094,
          1230.686,
          1149.7710000000002,
          814.093,
          851.402,
          936.307,
          1188.862,
          599.001,
          748.606,
          862.389,
          1274.273,
          1002.861,
          777.8629999999999,
          912.5020000000001,
          1891.3020000000001,
          765.861,
          881.9879999999999,
          928.672,
          1032.8200000000002,
          894.279,
          828.1800000000001,
          948.4240000000001,
          1106.4,
          1195.079,
          833.1129999999999,
          492.4,
          497.599,
          804.651,
          855.23,
          906.2,
          1089.319,
          1242.9060000000002,
          2405.2889999999998,
          1136.987,
          1140.604,
          768.87,
          790.32,
          734.21,
          1987.32,
          1623.583,
          1452.7559999999999,
          1160.115,
          1055.9270000000001,
          1521.522,
          1336.994,
          1857.9859999999999,
          1294.882,
          1723.7659999999998
         ],
         "y": [
          0,
          1,
          2,
          3,
          4,
          5,
          6,
          7,
          8,
          9,
          10,
          11,
          12,
          13,
          14,
          15,
          16,
          17,
          18,
          19,
          20,
          21,
          22,
          23,
          24,
          25,
          26,
          27,
          28,
          29,
          30,
          31,
          32,
          33,
          34,
          35,
          36,
          37,
          38,
          39,
          40,
          41,
          42,
          43,
          44,
          45,
          46,
          47,
          48,
          49,
          50,
          51,
          52,
          53,
          54,
          55,
          56,
          57,
          58,
          59,
          60,
          61,
          62,
          63,
          64,
          65,
          66,
          67,
          68,
          69,
          70,
          71,
          72,
          73,
          74,
          75,
          76,
          77,
          78,
          79,
          80,
          81,
          82,
          83,
          84,
          85,
          86,
          87,
          88,
          89,
          90,
          91,
          92,
          93,
          94,
          95,
          96,
          97,
          98,
          99
         ]
        }
       ],
       "layout": {
        "showlegend": true,
        "template": {
         "data": {
          "bar": [
           {
            "error_x": {
             "color": "#2a3f5f"
            },
            "error_y": {
             "color": "#2a3f5f"
            },
            "marker": {
             "line": {
              "color": "#E5ECF6",
              "width": 0.5
             },
             "pattern": {
              "fillmode": "overlay",
              "size": 10,
              "solidity": 0.2
             }
            },
            "type": "bar"
           }
          ],
          "barpolar": [
           {
            "marker": {
             "line": {
              "color": "#E5ECF6",
              "width": 0.5
             },
             "pattern": {
              "fillmode": "overlay",
              "size": 10,
              "solidity": 0.2
             }
            },
            "type": "barpolar"
           }
          ],
          "carpet": [
           {
            "aaxis": {
             "endlinecolor": "#2a3f5f",
             "gridcolor": "white",
             "linecolor": "white",
             "minorgridcolor": "white",
             "startlinecolor": "#2a3f5f"
            },
            "baxis": {
             "endlinecolor": "#2a3f5f",
             "gridcolor": "white",
             "linecolor": "white",
             "minorgridcolor": "white",
             "startlinecolor": "#2a3f5f"
            },
            "type": "carpet"
           }
          ],
          "choropleth": [
           {
            "colorbar": {
             "outlinewidth": 0,
             "ticks": ""
            },
            "type": "choropleth"
           }
          ],
          "contour": [
           {
            "colorbar": {
             "outlinewidth": 0,
             "ticks": ""
            },
            "colorscale": [
             [
              0,
              "#0d0887"
             ],
             [
              0.1111111111111111,
              "#46039f"
             ],
             [
              0.2222222222222222,
              "#7201a8"
             ],
             [
              0.3333333333333333,
              "#9c179e"
             ],
             [
              0.4444444444444444,
              "#bd3786"
             ],
             [
              0.5555555555555556,
              "#d8576b"
             ],
             [
              0.6666666666666666,
              "#ed7953"
             ],
             [
              0.7777777777777778,
              "#fb9f3a"
             ],
             [
              0.8888888888888888,
              "#fdca26"
             ],
             [
              1,
              "#f0f921"
             ]
            ],
            "type": "contour"
           }
          ],
          "contourcarpet": [
           {
            "colorbar": {
             "outlinewidth": 0,
             "ticks": ""
            },
            "type": "contourcarpet"
           }
          ],
          "heatmap": [
           {
            "colorbar": {
             "outlinewidth": 0,
             "ticks": ""
            },
            "colorscale": [
             [
              0,
              "#0d0887"
             ],
             [
              0.1111111111111111,
              "#46039f"
             ],
             [
              0.2222222222222222,
              "#7201a8"
             ],
             [
              0.3333333333333333,
              "#9c179e"
             ],
             [
              0.4444444444444444,
              "#bd3786"
             ],
             [
              0.5555555555555556,
              "#d8576b"
             ],
             [
              0.6666666666666666,
              "#ed7953"
             ],
             [
              0.7777777777777778,
              "#fb9f3a"
             ],
             [
              0.8888888888888888,
              "#fdca26"
             ],
             [
              1,
              "#f0f921"
             ]
            ],
            "type": "heatmap"
           }
          ],
          "heatmapgl": [
           {
            "colorbar": {
             "outlinewidth": 0,
             "ticks": ""
            },
            "colorscale": [
             [
              0,
              "#0d0887"
             ],
             [
              0.1111111111111111,
              "#46039f"
             ],
             [
              0.2222222222222222,
              "#7201a8"
             ],
             [
              0.3333333333333333,
              "#9c179e"
             ],
             [
              0.4444444444444444,
              "#bd3786"
             ],
             [
              0.5555555555555556,
              "#d8576b"
             ],
             [
              0.6666666666666666,
              "#ed7953"
             ],
             [
              0.7777777777777778,
              "#fb9f3a"
             ],
             [
              0.8888888888888888,
              "#fdca26"
             ],
             [
              1,
              "#f0f921"
             ]
            ],
            "type": "heatmapgl"
           }
          ],
          "histogram": [
           {
            "marker": {
             "pattern": {
              "fillmode": "overlay",
              "size": 10,
              "solidity": 0.2
             }
            },
            "type": "histogram"
           }
          ],
          "histogram2d": [
           {
            "colorbar": {
             "outlinewidth": 0,
             "ticks": ""
            },
            "colorscale": [
             [
              0,
              "#0d0887"
             ],
             [
              0.1111111111111111,
              "#46039f"
             ],
             [
              0.2222222222222222,
              "#7201a8"
             ],
             [
              0.3333333333333333,
              "#9c179e"
             ],
             [
              0.4444444444444444,
              "#bd3786"
             ],
             [
              0.5555555555555556,
              "#d8576b"
             ],
             [
              0.6666666666666666,
              "#ed7953"
             ],
             [
              0.7777777777777778,
              "#fb9f3a"
             ],
             [
              0.8888888888888888,
              "#fdca26"
             ],
             [
              1,
              "#f0f921"
             ]
            ],
            "type": "histogram2d"
           }
          ],
          "histogram2dcontour": [
           {
            "colorbar": {
             "outlinewidth": 0,
             "ticks": ""
            },
            "colorscale": [
             [
              0,
              "#0d0887"
             ],
             [
              0.1111111111111111,
              "#46039f"
             ],
             [
              0.2222222222222222,
              "#7201a8"
             ],
             [
              0.3333333333333333,
              "#9c179e"
             ],
             [
              0.4444444444444444,
              "#bd3786"
             ],
             [
              0.5555555555555556,
              "#d8576b"
             ],
             [
              0.6666666666666666,
              "#ed7953"
             ],
             [
              0.7777777777777778,
              "#fb9f3a"
             ],
             [
              0.8888888888888888,
              "#fdca26"
             ],
             [
              1,
              "#f0f921"
             ]
            ],
            "type": "histogram2dcontour"
           }
          ],
          "mesh3d": [
           {
            "colorbar": {
             "outlinewidth": 0,
             "ticks": ""
            },
            "type": "mesh3d"
           }
          ],
          "parcoords": [
           {
            "line": {
             "colorbar": {
              "outlinewidth": 0,
              "ticks": ""
             }
            },
            "type": "parcoords"
           }
          ],
          "pie": [
           {
            "automargin": true,
            "type": "pie"
           }
          ],
          "scatter": [
           {
            "fillpattern": {
             "fillmode": "overlay",
             "size": 10,
             "solidity": 0.2
            },
            "type": "scatter"
           }
          ],
          "scatter3d": [
           {
            "line": {
             "colorbar": {
              "outlinewidth": 0,
              "ticks": ""
             }
            },
            "marker": {
             "colorbar": {
              "outlinewidth": 0,
              "ticks": ""
             }
            },
            "type": "scatter3d"
           }
          ],
          "scattercarpet": [
           {
            "marker": {
             "colorbar": {
              "outlinewidth": 0,
              "ticks": ""
             }
            },
            "type": "scattercarpet"
           }
          ],
          "scattergeo": [
           {
            "marker": {
             "colorbar": {
              "outlinewidth": 0,
              "ticks": ""
             }
            },
            "type": "scattergeo"
           }
          ],
          "scattergl": [
           {
            "marker": {
             "colorbar": {
              "outlinewidth": 0,
              "ticks": ""
             }
            },
            "type": "scattergl"
           }
          ],
          "scattermapbox": [
           {
            "marker": {
             "colorbar": {
              "outlinewidth": 0,
              "ticks": ""
             }
            },
            "type": "scattermapbox"
           }
          ],
          "scatterpolar": [
           {
            "marker": {
             "colorbar": {
              "outlinewidth": 0,
              "ticks": ""
             }
            },
            "type": "scatterpolar"
           }
          ],
          "scatterpolargl": [
           {
            "marker": {
             "colorbar": {
              "outlinewidth": 0,
              "ticks": ""
             }
            },
            "type": "scatterpolargl"
           }
          ],
          "scatterternary": [
           {
            "marker": {
             "colorbar": {
              "outlinewidth": 0,
              "ticks": ""
             }
            },
            "type": "scatterternary"
           }
          ],
          "surface": [
           {
            "colorbar": {
             "outlinewidth": 0,
             "ticks": ""
            },
            "colorscale": [
             [
              0,
              "#0d0887"
             ],
             [
              0.1111111111111111,
              "#46039f"
             ],
             [
              0.2222222222222222,
              "#7201a8"
             ],
             [
              0.3333333333333333,
              "#9c179e"
             ],
             [
              0.4444444444444444,
              "#bd3786"
             ],
             [
              0.5555555555555556,
              "#d8576b"
             ],
             [
              0.6666666666666666,
              "#ed7953"
             ],
             [
              0.7777777777777778,
              "#fb9f3a"
             ],
             [
              0.8888888888888888,
              "#fdca26"
             ],
             [
              1,
              "#f0f921"
             ]
            ],
            "type": "surface"
           }
          ],
          "table": [
           {
            "cells": {
             "fill": {
              "color": "#EBF0F8"
             },
             "line": {
              "color": "white"
             }
            },
            "header": {
             "fill": {
              "color": "#C8D4E3"
             },
             "line": {
              "color": "white"
             }
            },
            "type": "table"
           }
          ]
         },
         "layout": {
          "annotationdefaults": {
           "arrowcolor": "#2a3f5f",
           "arrowhead": 0,
           "arrowwidth": 1
          },
          "autotypenumbers": "strict",
          "coloraxis": {
           "colorbar": {
            "outlinewidth": 0,
            "ticks": ""
           }
          },
          "colorscale": {
           "diverging": [
            [
             0,
             "#8e0152"
            ],
            [
             0.1,
             "#c51b7d"
            ],
            [
             0.2,
             "#de77ae"
            ],
            [
             0.3,
             "#f1b6da"
            ],
            [
             0.4,
             "#fde0ef"
            ],
            [
             0.5,
             "#f7f7f7"
            ],
            [
             0.6,
             "#e6f5d0"
            ],
            [
             0.7,
             "#b8e186"
            ],
            [
             0.8,
             "#7fbc41"
            ],
            [
             0.9,
             "#4d9221"
            ],
            [
             1,
             "#276419"
            ]
           ],
           "sequential": [
            [
             0,
             "#0d0887"
            ],
            [
             0.1111111111111111,
             "#46039f"
            ],
            [
             0.2222222222222222,
             "#7201a8"
            ],
            [
             0.3333333333333333,
             "#9c179e"
            ],
            [
             0.4444444444444444,
             "#bd3786"
            ],
            [
             0.5555555555555556,
             "#d8576b"
            ],
            [
             0.6666666666666666,
             "#ed7953"
            ],
            [
             0.7777777777777778,
             "#fb9f3a"
            ],
            [
             0.8888888888888888,
             "#fdca26"
            ],
            [
             1,
             "#f0f921"
            ]
           ],
           "sequentialminus": [
            [
             0,
             "#0d0887"
            ],
            [
             0.1111111111111111,
             "#46039f"
            ],
            [
             0.2222222222222222,
             "#7201a8"
            ],
            [
             0.3333333333333333,
             "#9c179e"
            ],
            [
             0.4444444444444444,
             "#bd3786"
            ],
            [
             0.5555555555555556,
             "#d8576b"
            ],
            [
             0.6666666666666666,
             "#ed7953"
            ],
            [
             0.7777777777777778,
             "#fb9f3a"
            ],
            [
             0.8888888888888888,
             "#fdca26"
            ],
            [
             1,
             "#f0f921"
            ]
           ]
          },
          "colorway": [
           "#636efa",
           "#EF553B",
           "#00cc96",
           "#ab63fa",
           "#FFA15A",
           "#19d3f3",
           "#FF6692",
           "#B6E880",
           "#FF97FF",
           "#FECB52"
          ],
          "font": {
           "color": "#2a3f5f"
          },
          "geo": {
           "bgcolor": "white",
           "lakecolor": "white",
           "landcolor": "#E5ECF6",
           "showlakes": true,
           "showland": true,
           "subunitcolor": "white"
          },
          "hoverlabel": {
           "align": "left"
          },
          "hovermode": "closest",
          "mapbox": {
           "style": "light"
          },
          "paper_bgcolor": "white",
          "plot_bgcolor": "#E5ECF6",
          "polar": {
           "angularaxis": {
            "gridcolor": "white",
            "linecolor": "white",
            "ticks": ""
           },
           "bgcolor": "#E5ECF6",
           "radialaxis": {
            "gridcolor": "white",
            "linecolor": "white",
            "ticks": ""
           }
          },
          "scene": {
           "xaxis": {
            "backgroundcolor": "#E5ECF6",
            "gridcolor": "white",
            "gridwidth": 2,
            "linecolor": "white",
            "showbackground": true,
            "ticks": "",
            "zerolinecolor": "white"
           },
           "yaxis": {
            "backgroundcolor": "#E5ECF6",
            "gridcolor": "white",
            "gridwidth": 2,
            "linecolor": "white",
            "showbackground": true,
            "ticks": "",
            "zerolinecolor": "white"
           },
           "zaxis": {
            "backgroundcolor": "#E5ECF6",
            "gridcolor": "white",
            "gridwidth": 2,
            "linecolor": "white",
            "showbackground": true,
            "ticks": "",
            "zerolinecolor": "white"
           }
          },
          "shapedefaults": {
           "line": {
            "color": "#2a3f5f"
           }
          },
          "ternary": {
           "aaxis": {
            "gridcolor": "white",
            "linecolor": "white",
            "ticks": ""
           },
           "baxis": {
            "gridcolor": "white",
            "linecolor": "white",
            "ticks": ""
           },
           "bgcolor": "#E5ECF6",
           "caxis": {
            "gridcolor": "white",
            "linecolor": "white",
            "ticks": ""
           }
          },
          "title": {
           "x": 0.05
          },
          "xaxis": {
           "automargin": true,
           "gridcolor": "white",
           "linecolor": "white",
           "ticks": "",
           "title": {
            "standoff": 15
           },
           "zerolinecolor": "white",
           "zerolinewidth": 2
          },
          "yaxis": {
           "automargin": true,
           "gridcolor": "white",
           "linecolor": "white",
           "ticks": "",
           "title": {
            "standoff": 15
           },
           "zerolinecolor": "white",
           "zerolinewidth": 2
          }
         }
        },
        "title": {
         "text": "Timeline Plot"
        },
        "xaxis": {
         "title": {
          "text": "Datetime"
         },
         "type": "date"
        },
        "yaxis": {
         "title": {
          "text": "Trial"
         }
        }
       }
      }
     },
     "metadata": {},
     "output_type": "display_data"
    }
   ],
   "source": [
    "study_name = \"lgbm-wine-1\"\n",
    "storage = \"sqlite:///optuna.sqlite3\"\n",
    "study = optuna.load_study(study_name=study_name, storage=storage)\n",
    "fig = optuna.visualization.plot_timeline(study)\n",
    "fig.show()"
   ]
  },
  {
   "cell_type": "markdown",
   "id": "c2357b69",
   "metadata": {},
   "source": [
    "You can notice that the trials were performed sequentially. To parallelize a study using multi-processing, a relational database is needed so that multiple processes can share the same view of how the optimization is progressing. Recall that an Sqlite database file was used to store studies in some of the previous assignments. However, as mentioned in this [Optuna doc](https://optuna.readthedocs.io/en/stable/tutorial/10_key_features/004_distributed.html), Sqlite is not recommended when parallelizing study using multi-processing because it may cause deadlocks and serious performance issues. The Optuna community recommends using a database server, such as MySQL and PostgreSQL. Recall that the MLOps platform already has a PostgreSQL database server, which is originally used by MLflow. This PostgreSQL database server will also be used to persist a study in this assignment. \n",
    "\n",
    "**Note**: You may already notice that parallelization can also be achieved by setting the argument `n_jobs` in `optuna.study.Study.optimize()`. However, Optuna will use multiple threads (instead of processes) to parallelize a study when setting `n_jobs!=1`. Multi-threading will not speed up the study due to the Python Global Interpreter Lock, which is a lock that allows only one thread to execute Python bytecode at a time. "
   ]
  },
  {
   "cell_type": "markdown",
   "id": "603d2009",
   "metadata": {},
   "source": [
    "Before going to the assignment, some preparation is needed to enable the study parallelization. First, you need to create a connection between your local environment and the PostgreSQL database server running in the MLOps platform as the database server is not exposed to external users by default. Open a new terminal and run the following command: \n",
    "```bash\n",
    "kubectl -n mlflow port-forward svc/postgres 5432:5432\n",
    "\n",
    "# You should see\n",
    "Forwarding from 127.0.0.1:5432 -> 5432\n",
    "Forwarding from [::1]:5432 -> 5432\n",
    "```\n",
    "After doing this, the PostgreSQL database server is listening on port 5432 in your local environment.  "
   ]
  },
  {
   "cell_type": "markdown",
   "id": "b5357778",
   "metadata": {},
   "source": [
    "Next, we need to create a database named \"optuna_db\" in the PostgreSQL database server. This database will be used by Optuna to persist studies."
   ]
  },
  {
   "cell_type": "code",
   "execution_count": 13,
   "id": "cf191bb5",
   "metadata": {},
   "outputs": [
    {
     "name": "stdout",
     "output_type": "stream",
     "text": [
      "Database optuna_db already exists.\n"
     ]
    }
   ],
   "source": [
    "import psycopg2\n",
    "\n",
    "POSTGRES_USER = \"mlflow\"\n",
    "POSTGRES_PASSWORD = \"KFSg-AYoiPdfRun64z2-w89Kk7z5cJL2IbVvSd3l8Og\"\n",
    "POSTGRES_DB = \"optuna_db\" #name of the database used by Optuna\n",
    "storage=\"postgresql://{}:{}@localhost:5432/{}\".format(\n",
    "            POSTGRES_USER,\n",
    "            POSTGRES_PASSWORD,\n",
    "            POSTGRES_DB\n",
    "        )\n",
    "\n",
    "# Establish a connection to PostgreSQL\n",
    "conn = psycopg2.connect(\n",
    "    database=\"postgres\",\n",
    "    user=POSTGRES_USER,\n",
    "    password=POSTGRES_PASSWORD,\n",
    "    host=\"localhost\",\n",
    "    port=\"5432\"\n",
    ")\n",
    "conn.autocommit = True\n",
    "\n",
    "cursor = conn.cursor()\n",
    "\n",
    "# Check if the \"optuna_db\" database exists\n",
    "cursor.execute(\"SELECT 1 FROM pg_catalog.pg_database WHERE datname = 'optuna_db';\")\n",
    "database_exists = cursor.fetchone()\n",
    "\n",
    "if not database_exists:\n",
    "    # Create the \"optuna_db\" database if it doesn't exist\n",
    "    cursor.execute(\"CREATE DATABASE optuna_db;\")\n",
    "    print(f\"Database {POSTGRES_DB} created.\")\n",
    "else:\n",
    "    print(f\"Database {POSTGRES_DB} already exists.\")\n",
    "\n",
    "# Commit the changes and close the connection\n",
    "conn.commit()\n",
    "cursor.close()\n",
    "conn.close()"
   ]
  },
  {
   "cell_type": "markdown",
   "id": "13eb27cf",
   "metadata": {},
   "source": [
    "Now, time for the assignment!\n",
    "\n",
    "In this assignment, create a new study named ***lgbm-wine-parallel*** which uses the same objective function in Assignment 1. Recall that the \"lgbm-wine-1\" study performed 100 trials in a single run in Assignment 1. In other words, the study was executed only once. In this assignment, you need to parallelize 100 trials by running the \"lgbm-wine-parallel\" study 10 times in parallel using 4 processes. You don't need to track the trials in MLflow. \n",
    "\n",
    "Instead of opening 10 terminals and manually running the study 10 times (as shown in this [Optuna doc](https://optuna.readthedocs.io/en/stable/tutorial/10_key_features/004_distributed.html)), you need to do the parallelization in an automatic way, e.g., using the joblib package as exemplified in the tutorial. \n",
    "\n",
    "**Hints**: \n",
    "- Unlike assignment 1 where the random seed of the TPESampler is fixed to 42, don't fix the random seed of the TPESampler here, otherwise you will get repeated hyperparameter combination in multiple trials. \n",
    "- If you need to parallelize 100 trials by running a study 10 times, how many trials the study should perform in a single run?\n",
    "- You may encounter an error complaining that the study is already existing if you create the study every time in a new run. A workaround could be create the study only once and load the study every time when starting a new run of the study.\n",
    "\n",
    "**Note**: Remember to delete the study from the database if you want to restart the assignment. Code for deleting the study can be found after the assignment code cells. "
   ]
  },
  {
   "cell_type": "markdown",
   "id": "5cf8003e",
   "metadata": {},
   "source": [
    "Define the database and the study name."
   ]
  },
  {
   "cell_type": "code",
   "execution_count": 14,
   "id": "db506490",
   "metadata": {},
   "outputs": [],
   "source": [
    "from joblib import Parallel, delayed\n",
    "\n",
    "POSTGRES_USER = \"mlflow\"\n",
    "POSTGRES_PASSWORD = \"KFSg-AYoiPdfRun64z2-w89Kk7z5cJL2IbVvSd3l8Og\"\n",
    "POSTGRES_DB = \"optuna_db\" \n",
    "\n",
    "# Similar to \"sqlite:///optuna.sqlite3\" in some of the previous assignments,\n",
    "# the database used in this assignment is this\n",
    "storage=\"postgresql://{}:{}@localhost:5432/{}\".format(\n",
    "            POSTGRES_USER,\n",
    "            POSTGRES_PASSWORD,\n",
    "            POSTGRES_DB\n",
    "        )\n",
    "\n",
    "# Use this as the study name\n",
    "study_name = \"lgbm-wine-parallel\""
   ]
  },
  {
   "cell_type": "code",
   "execution_count": 17,
   "id": "f67c1a6e",
   "metadata": {
    "nbgrader": {
     "grade": true,
     "grade_id": "cell-e6d15b06e8354073",
     "locked": false,
     "points": 1,
     "schema_version": 3,
     "solution": true,
     "task": false
    }
   },
   "outputs": [
    {
     "name": "stderr",
     "output_type": "stream",
     "text": [
      "[I 2023-11-24 22:32:14,851] A new study created in RDB with name: lgbm-wine-parallel\n",
      "[I 2023-11-24 22:32:21,737] Trial 0 finished with value: 0.5055387687032085 and parameters: {'learning_rate': 0.036002289565316335, 'subsample': 0.12803654585883673, 'colsample_bytree': 0.25017966797587415, 'min_child_samples': 59, 'num_leaves': 729}. Best is trial 0 with value: 0.5055387687032085.\n",
      "[I 2023-11-24 22:32:22,102] Trial 1 finished with value: 0.5055387687032085 and parameters: {'learning_rate': 0.036002289565316335, 'subsample': 0.12803654585883673, 'colsample_bytree': 0.25017966797587415, 'min_child_samples': 59, 'num_leaves': 729}. Best is trial 2 with value: 0.5055387687032085.\n",
      "[I 2023-11-24 22:32:22,166] Trial 2 finished with value: 0.5055387687032085 and parameters: {'learning_rate': 0.036002289565316335, 'subsample': 0.12803654585883673, 'colsample_bytree': 0.25017966797587415, 'min_child_samples': 59, 'num_leaves': 729}. Best is trial 2 with value: 0.5055387687032085.\n",
      "[I 2023-11-24 22:32:22,335] Trial 3 finished with value: 0.5055387687032085 and parameters: {'learning_rate': 0.036002289565316335, 'subsample': 0.12803654585883673, 'colsample_bytree': 0.25017966797587415, 'min_child_samples': 59, 'num_leaves': 729}. Best is trial 2 with value: 0.5055387687032085.\n",
      "[I 2023-11-24 22:32:23,635] Trial 4 finished with value: 1.4370420530528747 and parameters: {'learning_rate': 0.003304242127399469, 'subsample': 0.07778282857126885, 'colsample_bytree': 0.3474238363336091, 'min_child_samples': 53, 'num_leaves': 213}. Best is trial 2 with value: 0.5055387687032085.\n",
      "[I 2023-11-24 22:32:24,112] Trial 5 finished with value: 1.4370420530528747 and parameters: {'learning_rate': 0.003304242127399469, 'subsample': 0.07778282857126885, 'colsample_bytree': 0.3474238363336091, 'min_child_samples': 53, 'num_leaves': 213}. Best is trial 2 with value: 0.5055387687032085.\n",
      "[I 2023-11-24 22:32:24,233] Trial 6 finished with value: 1.4370420530528747 and parameters: {'learning_rate': 0.003304242127399469, 'subsample': 0.07778282857126885, 'colsample_bytree': 0.3474238363336091, 'min_child_samples': 53, 'num_leaves': 213}. Best is trial 2 with value: 0.5055387687032085.\n",
      "[I 2023-11-24 22:32:24,375] Trial 7 finished with value: 1.4370420530528747 and parameters: {'learning_rate': 0.003304242127399469, 'subsample': 0.07778282857126885, 'colsample_bytree': 0.3474238363336091, 'min_child_samples': 53, 'num_leaves': 213}. Best is trial 2 with value: 0.5055387687032085.\n",
      "[I 2023-11-24 22:32:25,875] Trial 8 finished with value: 0.46327214524166954 and parameters: {'learning_rate': 0.03890383036335045, 'subsample': 0.40450595555222263, 'colsample_bytree': 0.4464579200394607, 'min_child_samples': 50, 'num_leaves': 196}. Best is trial 8 with value: 0.46327214524166954.\n",
      "[I 2023-11-24 22:32:26,291] Trial 9 finished with value: 0.46327214524166954 and parameters: {'learning_rate': 0.03890383036335045, 'subsample': 0.40450595555222263, 'colsample_bytree': 0.4464579200394607, 'min_child_samples': 50, 'num_leaves': 196}. Best is trial 8 with value: 0.46327214524166954.\n",
      "[I 2023-11-24 22:32:26,408] Trial 10 finished with value: 0.46327214524166954 and parameters: {'learning_rate': 0.03890383036335045, 'subsample': 0.40450595555222263, 'colsample_bytree': 0.4464579200394607, 'min_child_samples': 50, 'num_leaves': 196}. Best is trial 8 with value: 0.46327214524166954.\n",
      "[I 2023-11-24 22:32:26,692] Trial 11 finished with value: 0.46327214524166954 and parameters: {'learning_rate': 0.03890383036335045, 'subsample': 0.40450595555222263, 'colsample_bytree': 0.4464579200394607, 'min_child_samples': 50, 'num_leaves': 196}. Best is trial 8 with value: 0.46327214524166954.\n",
      "[I 2023-11-24 22:32:28,255] Trial 12 finished with value: 0.4203964102752037 and parameters: {'learning_rate': 0.0976121411769044, 'subsample': 0.4976206776041786, 'colsample_bytree': 0.49818137237426846, 'min_child_samples': 27, 'num_leaves': 466}. Best is trial 12 with value: 0.4203964102752037.\n",
      "[I 2023-11-24 22:32:28,622] Trial 13 finished with value: 0.4203964102752037 and parameters: {'learning_rate': 0.0976121411769044, 'subsample': 0.4976206776041786, 'colsample_bytree': 0.49818137237426846, 'min_child_samples': 27, 'num_leaves': 466}. Best is trial 12 with value: 0.4203964102752037.\n",
      "[I 2023-11-24 22:32:28,776] Trial 14 finished with value: 0.4203964102752037 and parameters: {'learning_rate': 0.0976121411769044, 'subsample': 0.4976206776041786, 'colsample_bytree': 0.49818137237426846, 'min_child_samples': 27, 'num_leaves': 466}. Best is trial 12 with value: 0.4203964102752037.\n",
      "[I 2023-11-24 22:32:29,296] Trial 15 finished with value: 0.4203964102752037 and parameters: {'learning_rate': 0.0976121411769044, 'subsample': 0.4976206776041786, 'colsample_bytree': 0.49818137237426846, 'min_child_samples': 27, 'num_leaves': 466}. Best is trial 12 with value: 0.4203964102752037.\n",
      "[I 2023-11-24 22:32:30,664] Trial 16 finished with value: 0.5659694404360781 and parameters: {'learning_rate': 0.0903183488094224, 'subsample': 0.4925473617215378, 'colsample_bytree': 0.13417014091094104, 'min_child_samples': 23, 'num_leaves': 458}. Best is trial 12 with value: 0.4203964102752037.\n",
      "[I 2023-11-24 22:32:31,091] Trial 17 finished with value: 0.5015938356950119 and parameters: {'learning_rate': 0.01334665015869596, 'subsample': 0.30794266530078207, 'colsample_bytree': 0.13417014091094104, 'min_child_samples': 86, 'num_leaves': 916}. Best is trial 12 with value: 0.4203964102752037.\n",
      "[I 2023-11-24 22:32:31,359] Trial 18 finished with value: 0.5015938356950119 and parameters: {'learning_rate': 0.01334665015869596, 'subsample': 0.30794266530078207, 'colsample_bytree': 0.13417014091094104, 'min_child_samples': 86, 'num_leaves': 916}. Best is trial 12 with value: 0.4203964102752037.\n",
      "[I 2023-11-24 22:32:31,775] Trial 19 finished with value: 0.5015938356950119 and parameters: {'learning_rate': 0.01334665015869596, 'subsample': 0.30794266530078207, 'colsample_bytree': 0.13417014091094104, 'min_child_samples': 86, 'num_leaves': 916}. Best is trial 12 with value: 0.4203964102752037.\n",
      "[I 2023-11-24 22:32:33,187] Trial 20 finished with value: 0.525147062866343 and parameters: {'learning_rate': 0.0014357664139389434, 'subsample': 0.4507789733705802, 'colsample_bytree': 0.40017206098906155, 'min_child_samples': 37, 'num_leaves': 17}. Best is trial 12 with value: 0.4203964102752037.\n",
      "[I 2023-11-24 22:32:33,481] Trial 21 finished with value: 0.4559829878181377 and parameters: {'learning_rate': 0.062282742883790314, 'subsample': 0.4507789733705802, 'colsample_bytree': 0.40017206098906155, 'min_child_samples': 37, 'num_leaves': 17}. Best is trial 12 with value: 0.4203964102752037.\n",
      "[I 2023-11-24 22:32:33,612] Trial 22 finished with value: 0.4559829878181377 and parameters: {'learning_rate': 0.062282742883790314, 'subsample': 0.4507789733705802, 'colsample_bytree': 0.40017206098906155, 'min_child_samples': 37, 'num_leaves': 17}. Best is trial 12 with value: 0.4203964102752037.\n",
      "[I 2023-11-24 22:32:34,188] Trial 23 finished with value: 0.4559829878181377 and parameters: {'learning_rate': 0.062282742883790314, 'subsample': 0.4507789733705802, 'colsample_bytree': 0.40017206098906155, 'min_child_samples': 37, 'num_leaves': 17}. Best is trial 12 with value: 0.4203964102752037.\n",
      "[I 2023-11-24 22:32:35,782] Trial 24 finished with value: 0.42232577699529306 and parameters: {'learning_rate': 0.0962398975684159, 'subsample': 0.47794433173873496, 'colsample_bytree': 0.4827911934684328, 'min_child_samples': 20, 'num_leaves': 579}. Best is trial 12 with value: 0.4203964102752037.\n",
      "[I 2023-11-24 22:32:36,120] Trial 25 finished with value: 0.42232577699529306 and parameters: {'learning_rate': 0.0962398975684159, 'subsample': 0.47794433173873496, 'colsample_bytree': 0.4827911934684328, 'min_child_samples': 20, 'num_leaves': 579}. Best is trial 12 with value: 0.4203964102752037.\n",
      "[I 2023-11-24 22:32:36,293] Trial 26 finished with value: 0.42232577699529306 and parameters: {'learning_rate': 0.0962398975684159, 'subsample': 0.47794433173873496, 'colsample_bytree': 0.4827911934684328, 'min_child_samples': 20, 'num_leaves': 579}. Best is trial 12 with value: 0.4203964102752037.\n",
      "[I 2023-11-24 22:32:37,233] Trial 27 finished with value: 0.42232577699529306 and parameters: {'learning_rate': 0.0962398975684159, 'subsample': 0.47794433173873496, 'colsample_bytree': 0.4827911934684328, 'min_child_samples': 20, 'num_leaves': 579}. Best is trial 12 with value: 0.4203964102752037.\n",
      "[I 2023-11-24 22:32:38,177] Trial 28 finished with value: 0.44694756511990763 and parameters: {'learning_rate': 0.02142676840964274, 'subsample': 0.3782708666894459, 'colsample_bytree': 0.4906164596103098, 'min_child_samples': 30, 'num_leaves': 354}. Best is trial 12 with value: 0.4203964102752037.\n",
      "[I 2023-11-24 22:32:38,691] Trial 29 finished with value: 0.44694756511990763 and parameters: {'learning_rate': 0.02142676840964274, 'subsample': 0.3782708666894459, 'colsample_bytree': 0.4906164596103098, 'min_child_samples': 30, 'num_leaves': 354}. Best is trial 12 with value: 0.4203964102752037.\n",
      "[I 2023-11-24 22:32:38,909] Trial 30 finished with value: 0.4496023488686538 and parameters: {'learning_rate': 0.024699670878525957, 'subsample': 0.3782708666894459, 'colsample_bytree': 0.4906164596103098, 'min_child_samples': 30, 'num_leaves': 354}. Best is trial 12 with value: 0.4203964102752037.\n",
      "[I 2023-11-24 22:32:39,423] Trial 31 finished with value: 0.48163842804115986 and parameters: {'learning_rate': 0.056222502588448686, 'subsample': 0.49852982194981527, 'colsample_bytree': 0.1981209707498348, 'min_child_samples': 75, 'num_leaves': 354}. Best is trial 12 with value: 0.4203964102752037.\n",
      "[I 2023-11-24 22:32:40,321] Trial 32 finished with value: 0.4571025604852115 and parameters: {'learning_rate': 0.06342484468667119, 'subsample': 0.49726616087278924, 'colsample_bytree': 0.4459921398975198, 'min_child_samples': 74, 'num_leaves': 470}. Best is trial 12 with value: 0.4203964102752037.\n",
      "[I 2023-11-24 22:32:41,317] Trial 33 finished with value: 0.4282756056784096 and parameters: {'learning_rate': 0.07411731454416451, 'subsample': 0.49726616087278924, 'colsample_bytree': 0.4459921398975198, 'min_child_samples': 28, 'num_leaves': 470}. Best is trial 12 with value: 0.4203964102752037.\n",
      "[I 2023-11-24 22:32:41,406] Trial 34 finished with value: 0.4282756056784096 and parameters: {'learning_rate': 0.07411731454416451, 'subsample': 0.49726616087278924, 'colsample_bytree': 0.4459921398975198, 'min_child_samples': 28, 'num_leaves': 470}. Best is trial 12 with value: 0.4203964102752037.\n",
      "[I 2023-11-24 22:32:41,891] Trial 35 finished with value: 0.44423595363933727 and parameters: {'learning_rate': 0.07411731454416451, 'subsample': 0.43727871912218413, 'colsample_bytree': 0.4226727325579737, 'min_child_samples': 28, 'num_leaves': 428}. Best is trial 12 with value: 0.4203964102752037.\n",
      "[I 2023-11-24 22:32:42,605] Trial 36 finished with value: 0.4488184268052957 and parameters: {'learning_rate': 0.07214229104127655, 'subsample': 0.4371244741260207, 'colsample_bytree': 0.42205040757095497, 'min_child_samples': 43, 'num_leaves': 658}. Best is trial 12 with value: 0.4203964102752037.\n",
      "[I 2023-11-24 22:32:43,682] Trial 37 finished with value: 0.45224259171444303 and parameters: {'learning_rate': 0.05387119720410135, 'subsample': 0.4371244741260207, 'colsample_bytree': 0.49489379304153736, 'min_child_samples': 43, 'num_leaves': 658}. Best is trial 12 with value: 0.4203964102752037.\n",
      "[I 2023-11-24 22:32:43,732] Trial 38 finished with value: 0.45224259171444303 and parameters: {'learning_rate': 0.05387119720410135, 'subsample': 0.4371244741260207, 'colsample_bytree': 0.49489379304153736, 'min_child_samples': 43, 'num_leaves': 658}. Best is trial 12 with value: 0.4203964102752037.\n",
      "[I 2023-11-24 22:32:44,149] Trial 39 finished with value: 0.48526841779218843 and parameters: {'learning_rate': 0.05387119720410135, 'subsample': 0.2135678589360603, 'colsample_bytree': 0.49489379304153736, 'min_child_samples': 43, 'num_leaves': 809}. Best is trial 12 with value: 0.4203964102752037.\n",
      "[I 2023-11-24 22:32:45,893] Trial 40 finished with value: 0.46560763913639036 and parameters: {'learning_rate': 0.04684005933313564, 'subsample': 0.4667902446226359, 'colsample_bytree': 0.3153658177973614, 'min_child_samples': 64, 'num_leaves': 522}. Best is trial 12 with value: 0.4203964102752037.\n",
      "[I 2023-11-24 22:32:46,972] Trial 41 finished with value: 0.46560763913639036 and parameters: {'learning_rate': 0.04684005933313564, 'subsample': 0.4667902446226359, 'colsample_bytree': 0.3153658177973614, 'min_child_samples': 64, 'num_leaves': 522}. Best is trial 12 with value: 0.4203964102752037.\n",
      "[I 2023-11-24 22:32:47,074] Trial 42 finished with value: 0.46560763913639036 and parameters: {'learning_rate': 0.04684005933313564, 'subsample': 0.4667902446226359, 'colsample_bytree': 0.3153658177973614, 'min_child_samples': 64, 'num_leaves': 522}. Best is trial 12 with value: 0.4203964102752037.\n",
      "[I 2023-11-24 22:32:47,538] Trial 43 finished with value: 0.44161126864149625 and parameters: {'learning_rate': 0.09936942654723084, 'subsample': 0.4698215782775852, 'colsample_bytree': 0.46858832492126823, 'min_child_samples': 33, 'num_leaves': 407}. Best is trial 12 with value: 0.4203964102752037.\n",
      "[I 2023-11-24 22:32:48,195] Trial 44 finished with value: 0.44657891091850316 and parameters: {'learning_rate': 0.08419216182305661, 'subsample': 0.4708381619554205, 'colsample_bytree': 0.46801135349430056, 'min_child_samples': 33, 'num_leaves': 538}. Best is trial 12 with value: 0.4203964102752037.\n",
      "[I 2023-11-24 22:32:49,376] Trial 45 finished with value: 0.42695607140001357 and parameters: {'learning_rate': 0.08136735672822133, 'subsample': 0.49770164633520303, 'colsample_bytree': 0.46801135349430056, 'min_child_samples': 23, 'num_leaves': 306}. Best is trial 12 with value: 0.4203964102752037.\n",
      "[I 2023-11-24 22:32:49,538] Trial 46 finished with value: 0.42695607140001357 and parameters: {'learning_rate': 0.08136735672822133, 'subsample': 0.49770164633520303, 'colsample_bytree': 0.46801135349430056, 'min_child_samples': 23, 'num_leaves': 306}. Best is trial 12 with value: 0.4203964102752037.\n",
      "[I 2023-11-24 22:32:49,952] Trial 47 finished with value: 0.43694787585857275 and parameters: {'learning_rate': 0.08136735672822133, 'subsample': 0.41761693012716117, 'colsample_bytree': 0.46801135349430056, 'min_child_samples': 23, 'num_leaves': 263}. Best is trial 12 with value: 0.4203964102752037.\n",
      "[I 2023-11-24 22:32:51,734] Trial 48 finished with value: 0.42330783478008316 and parameters: {'learning_rate': 0.08254107337353361, 'subsample': 0.49766940498980156, 'colsample_bytree': 0.4696362026826867, 'min_child_samples': 24, 'num_leaves': 267}. Best is trial 12 with value: 0.4203964102752037.\n",
      "[I 2023-11-24 22:32:52,516] Trial 49 finished with value: 0.4293056125561425 and parameters: {'learning_rate': 0.09977090832230574, 'subsample': 0.4819829371096908, 'colsample_bytree': 0.4988223765422728, 'min_child_samples': 26, 'num_leaves': 620}. Best is trial 12 with value: 0.4203964102752037.\n",
      "[I 2023-11-24 22:32:53,092] Trial 50 finished with value: 0.4293056125561425 and parameters: {'learning_rate': 0.09977090832230574, 'subsample': 0.4819829371096908, 'colsample_bytree': 0.4988223765422728, 'min_child_samples': 26, 'num_leaves': 620}. Best is trial 12 with value: 0.4203964102752037.\n",
      "[I 2023-11-24 22:32:53,280] Trial 51 finished with value: 0.4293056125561425 and parameters: {'learning_rate': 0.09977090832230574, 'subsample': 0.4819829371096908, 'colsample_bytree': 0.4988223765422728, 'min_child_samples': 26, 'num_leaves': 620}. Best is trial 12 with value: 0.4203964102752037.\n",
      "[I 2023-11-24 22:32:53,985] Trial 52 finished with value: 0.47862316298086527 and parameters: {'learning_rate': 0.06765152956559713, 'subsample': 0.41421858223859537, 'colsample_bytree': 0.41945195702030724, 'min_child_samples': 95, 'num_leaves': 741}. Best is trial 12 with value: 0.4203964102752037.\n",
      "[I 2023-11-24 22:32:55,221] Trial 53 finished with value: 0.45303415064571895 and parameters: {'learning_rate': 0.06928512502847954, 'subsample': 0.4585663740731103, 'colsample_bytree': 0.4265658394377239, 'min_child_samples': 33, 'num_leaves': 741}. Best is trial 12 with value: 0.4203964102752037.\n",
      "[I 2023-11-24 22:32:55,802] Trial 54 finished with value: 0.45303415064571895 and parameters: {'learning_rate': 0.06928512502847954, 'subsample': 0.4585663740731103, 'colsample_bytree': 0.4647122744156146, 'min_child_samples': 33, 'num_leaves': 569}. Best is trial 12 with value: 0.4203964102752037.\n",
      "[I 2023-11-24 22:32:55,858] Trial 55 finished with value: 0.45303415064571895 and parameters: {'learning_rate': 0.06928512502847954, 'subsample': 0.4585663740731103, 'colsample_bytree': 0.4647122744156146, 'min_child_samples': 33, 'num_leaves': 569}. Best is trial 12 with value: 0.4203964102752037.\n",
      "[I 2023-11-24 22:32:56,971] Trial 56 finished with value: 0.4430115503397583 and parameters: {'learning_rate': 0.06891469021115317, 'subsample': 0.4579695687891376, 'colsample_bytree': 0.46189822590925317, 'min_child_samples': 33, 'num_leaves': 563}. Best is trial 12 with value: 0.4203964102752037.\n",
      "[I 2023-11-24 22:32:58,045] Trial 57 finished with value: 0.46447372275979343 and parameters: {'learning_rate': 0.08319903821274845, 'subsample': 0.47931568453318996, 'colsample_bytree': 0.37188890382343376, 'min_child_samples': 40, 'num_leaves': 386}. Best is trial 12 with value: 0.4203964102752037.\n",
      "[I 2023-11-24 22:32:58,543] Trial 58 finished with value: 0.46447372275979343 and parameters: {'learning_rate': 0.08319903821274845, 'subsample': 0.47931568453318996, 'colsample_bytree': 0.37188890382343376, 'min_child_samples': 40, 'num_leaves': 386}. Best is trial 12 with value: 0.4203964102752037.\n",
      "[I 2023-11-24 22:32:58,577] Trial 59 finished with value: 0.46447372275979343 and parameters: {'learning_rate': 0.08319903821274845, 'subsample': 0.47931568453318996, 'colsample_bytree': 0.37188890382343376, 'min_child_samples': 40, 'num_leaves': 386}. Best is trial 12 with value: 0.4203964102752037.\n",
      "[I 2023-11-24 22:32:59,693] Trial 60 finished with value: 0.41968041389294103 and parameters: {'learning_rate': 0.03324537620666708, 'subsample': 0.481578304064581, 'colsample_bytree': 0.4769593404695017, 'min_child_samples': 20, 'num_leaves': 411}. Best is trial 60 with value: 0.41968041389294103.\n",
      "[I 2023-11-24 22:33:00,628] Trial 61 finished with value: 0.4353074274401358 and parameters: {'learning_rate': 0.03324537620666708, 'subsample': 0.4235248712183066, 'colsample_bytree': 0.4769593404695017, 'min_child_samples': 20, 'num_leaves': 437}. Best is trial 60 with value: 0.41968041389294103.\n",
      "[I 2023-11-24 22:33:01,196] Trial 62 finished with value: 0.4353074274401358 and parameters: {'learning_rate': 0.03324537620666708, 'subsample': 0.4235248712183066, 'colsample_bytree': 0.4769593404695017, 'min_child_samples': 20, 'num_leaves': 437}. Best is trial 60 with value: 0.41968041389294103.\n",
      "[I 2023-11-24 22:33:01,324] Trial 63 finished with value: 0.4353074274401358 and parameters: {'learning_rate': 0.03324537620666708, 'subsample': 0.4235248712183066, 'colsample_bytree': 0.4769593404695017, 'min_child_samples': 20, 'num_leaves': 437}. Best is trial 60 with value: 0.41968041389294103.\n",
      "[I 2023-11-24 22:33:02,357] Trial 64 finished with value: 0.4190821850552839 and parameters: {'learning_rate': 0.056509994880335916, 'subsample': 0.44521226791400487, 'colsample_bytree': 0.4838996859969632, 'min_child_samples': 20, 'num_leaves': 482}. Best is trial 64 with value: 0.4190821850552839.\n",
      "[I 2023-11-24 22:33:03,332] Trial 65 finished with value: 0.43174761875032397 and parameters: {'learning_rate': 0.056509994880335916, 'subsample': 0.44521226791400487, 'colsample_bytree': 0.4480959013387943, 'min_child_samples': 25, 'num_leaves': 482}. Best is trial 64 with value: 0.4190821850552839.\n",
      "[I 2023-11-24 22:33:03,974] Trial 66 finished with value: 0.43174761875032397 and parameters: {'learning_rate': 0.056509994880335916, 'subsample': 0.44521226791400487, 'colsample_bytree': 0.4480959013387943, 'min_child_samples': 25, 'num_leaves': 482}. Best is trial 64 with value: 0.4190821850552839.\n",
      "[I 2023-11-24 22:33:04,286] Trial 67 finished with value: 0.43174761875032397 and parameters: {'learning_rate': 0.056509994880335916, 'subsample': 0.44521226791400487, 'colsample_bytree': 0.4480959013387943, 'min_child_samples': 25, 'num_leaves': 482}. Best is trial 64 with value: 0.4190821850552839.\n",
      "[I 2023-11-24 22:33:05,094] Trial 68 finished with value: 0.43565530344445974 and parameters: {'learning_rate': 0.062046767021019855, 'subsample': 0.48561513467545925, 'colsample_bytree': 0.4558562909934093, 'min_child_samples': 30, 'num_leaves': 500}. Best is trial 64 with value: 0.4190821850552839.\n",
      "[I 2023-11-24 22:33:05,702] Trial 69 finished with value: 0.43565530344445974 and parameters: {'learning_rate': 0.062046767021019855, 'subsample': 0.48561513467545925, 'colsample_bytree': 0.48380796199159576, 'min_child_samples': 30, 'num_leaves': 131}. Best is trial 64 with value: 0.4190821850552839.\n",
      "[I 2023-11-24 22:33:06,331] Trial 70 finished with value: 0.43565530344445974 and parameters: {'learning_rate': 0.062046767021019855, 'subsample': 0.48561513467545925, 'colsample_bytree': 0.48380796199159576, 'min_child_samples': 30, 'num_leaves': 131}. Best is trial 64 with value: 0.4190821850552839.\n",
      "[I 2023-11-24 22:33:06,863] Trial 71 finished with value: 0.421277963107247 and parameters: {'learning_rate': 0.08444624154250081, 'subsample': 0.48561513467545925, 'colsample_bytree': 0.48380796199159576, 'min_child_samples': 22, 'num_leaves': 131}. Best is trial 64 with value: 0.4190821850552839.\n",
      "[I 2023-11-24 22:33:07,619] Trial 72 finished with value: 0.4217433480674649 and parameters: {'learning_rate': 0.08857183753284396, 'subsample': 0.46671651021906324, 'colsample_bytree': 0.4998226917872882, 'min_child_samples': 22, 'num_leaves': 406}. Best is trial 64 with value: 0.4190821850552839.\n",
      "[I 2023-11-24 22:33:08,256] Trial 73 finished with value: 0.42820537039332784 and parameters: {'learning_rate': 0.08961687563811387, 'subsample': 0.46995546126942517, 'colsample_bytree': 0.4998350094914434, 'min_child_samples': 22, 'num_leaves': 694}. Best is trial 64 with value: 0.4190821850552839.\n",
      "[I 2023-11-24 22:33:08,762] Trial 74 finished with value: 0.42820537039332784 and parameters: {'learning_rate': 0.08961687563811387, 'subsample': 0.46995546126942517, 'colsample_bytree': 0.49983469282126425, 'min_child_samples': 22, 'num_leaves': 67}. Best is trial 64 with value: 0.4190821850552839.\n",
      "[I 2023-11-24 22:33:09,244] Trial 75 finished with value: 0.4279538106214295 and parameters: {'learning_rate': 0.0881463792720758, 'subsample': 0.46323533179564463, 'colsample_bytree': 0.49987858513620603, 'min_child_samples': 22, 'num_leaves': 77}. Best is trial 64 with value: 0.4190821850552839.\n",
      "[I 2023-11-24 22:33:09,969] Trial 76 finished with value: 0.43030276849174437 and parameters: {'learning_rate': 0.07690018291335605, 'subsample': 0.46152965566524345, 'colsample_bytree': 0.48505458966767667, 'min_child_samples': 27, 'num_leaves': 318}. Best is trial 64 with value: 0.4190821850552839.\n",
      "[I 2023-11-24 22:33:10,629] Trial 77 finished with value: 0.431364697591276 and parameters: {'learning_rate': 0.07690018291335605, 'subsample': 0.49067604818036803, 'colsample_bytree': 0.48505458966767667, 'min_child_samples': 27, 'num_leaves': 318}. Best is trial 64 with value: 0.4190821850552839.\n",
      "[I 2023-11-24 22:33:11,262] Trial 78 finished with value: 0.431364697591276 and parameters: {'learning_rate': 0.07690018291335605, 'subsample': 0.49067604818036803, 'colsample_bytree': 0.48030126635887466, 'min_child_samples': 27, 'num_leaves': 318}. Best is trial 64 with value: 0.4190821850552839.\n",
      "[I 2023-11-24 22:33:11,643] Trial 79 finished with value: 0.4446136145013849 and parameters: {'learning_rate': 0.07355417200648327, 'subsample': 0.49067604818036803, 'colsample_bytree': 0.4302269248874817, 'min_child_samples': 35, 'num_leaves': 402}. Best is trial 64 with value: 0.4190821850552839.\n",
      "[I 2023-11-24 22:33:13,235] Trial 80 finished with value: 0.44240099604831246 and parameters: {'learning_rate': 0.04433804547710601, 'subsample': 0.45248702633122606, 'colsample_bytree': 0.4570301376204279, 'min_child_samples': 36, 'num_leaves': 995}. Best is trial 64 with value: 0.4190821850552839.\n",
      "[I 2023-11-24 22:33:14,019] Trial 81 finished with value: 0.44240099604831246 and parameters: {'learning_rate': 0.04433804547710601, 'subsample': 0.45248702633122606, 'colsample_bytree': 0.4570301376204279, 'min_child_samples': 36, 'num_leaves': 995}. Best is trial 64 with value: 0.4190821850552839.\n",
      "[I 2023-11-24 22:33:15,567] Trial 82 finished with value: 0.42251925767310766 and parameters: {'learning_rate': 0.09040600226193532, 'subsample': 0.498512546808384, 'colsample_bytree': 0.4776718918315006, 'min_child_samples': 22, 'num_leaves': 536}. Best is trial 64 with value: 0.4190821850552839.\n",
      "[I 2023-11-24 22:33:16,654] Trial 83 finished with value: 0.42251925767310766 and parameters: {'learning_rate': 0.09040600226193532, 'subsample': 0.498512546808384, 'colsample_bytree': 0.4776718918315006, 'min_child_samples': 22, 'num_leaves': 536}. Best is trial 64 with value: 0.4190821850552839.\n",
      "[I 2023-11-24 22:33:18,000] Trial 84 finished with value: 0.44019726328557895 and parameters: {'learning_rate': 0.09985164349755618, 'subsample': 0.47610429665002846, 'colsample_bytree': 0.4386001302721265, 'min_child_samples': 29, 'num_leaves': 448}. Best is trial 64 with value: 0.4190821850552839.\n",
      "[I 2023-11-24 22:33:18,915] Trial 85 finished with value: 0.44019726328557895 and parameters: {'learning_rate': 0.09985164349755618, 'subsample': 0.47610429665002846, 'colsample_bytree': 0.4386001302721265, 'min_child_samples': 29, 'num_leaves': 448}. Best is trial 64 with value: 0.4190821850552839.\n",
      "[I 2023-11-24 22:33:20,020] Trial 86 finished with value: 0.4606570814908346 and parameters: {'learning_rate': 0.08921282579762807, 'subsample': 0.4706008062252745, 'colsample_bytree': 0.49034939612652845, 'min_child_samples': 57, 'num_leaves': 496}. Best is trial 64 with value: 0.4190821850552839.\n",
      "[I 2023-11-24 22:33:20,918] Trial 87 finished with value: 0.4587693741608976 and parameters: {'learning_rate': 0.07387612762793809, 'subsample': 0.43422235059605835, 'colsample_bytree': 0.49034939612652845, 'min_child_samples': 57, 'num_leaves': 496}. Best is trial 64 with value: 0.4190821850552839.\n",
      "[I 2023-11-24 22:33:22,249] Trial 88 finished with value: 0.43701693924341073 and parameters: {'learning_rate': 0.06802733958876037, 'subsample': 0.4340396253050751, 'colsample_bytree': 0.456536664470031, 'min_child_samples': 24, 'num_leaves': 415}. Best is trial 64 with value: 0.4190821850552839.\n",
      "[I 2023-11-24 22:33:23,225] Trial 89 finished with value: 0.42689444584754793 and parameters: {'learning_rate': 0.06427803230483242, 'subsample': 0.4878361417503598, 'colsample_bytree': 0.456536664470031, 'min_child_samples': 24, 'num_leaves': 415}. Best is trial 64 with value: 0.4190821850552839.\n",
      "[I 2023-11-24 22:33:24,484] Trial 90 finished with value: 0.44206664836326715 and parameters: {'learning_rate': 0.06385429080607123, 'subsample': 0.48753465284995395, 'colsample_bytree': 0.48820269094834823, 'min_child_samples': 31, 'num_leaves': 360}. Best is trial 64 with value: 0.4190821850552839.\n",
      "[I 2023-11-24 22:33:25,729] Trial 91 finished with value: 0.421387884476164 and parameters: {'learning_rate': 0.07771092331239918, 'subsample': 0.4668680753227234, 'colsample_bytree': 0.48820269094834823, 'min_child_samples': 20, 'num_leaves': 360}. Best is trial 64 with value: 0.4190821850552839.\n",
      "[I 2023-11-24 22:33:27,143] Trial 92 finished with value: 0.42533623465077214 and parameters: {'learning_rate': 0.08930825085373005, 'subsample': 0.4680414887299118, 'colsample_bytree': 0.46915773943782263, 'min_child_samples': 20, 'num_leaves': 607}. Best is trial 64 with value: 0.4190821850552839.\n",
      "[I 2023-11-24 22:33:28,167] Trial 93 finished with value: 0.41985352349405813 and parameters: {'learning_rate': 0.07985332823921543, 'subsample': 0.4680414887299118, 'colsample_bytree': 0.47591049921789197, 'min_child_samples': 20, 'num_leaves': 462}. Best is trial 64 with value: 0.4190821850552839.\n",
      "[I 2023-11-24 22:33:29,498] Trial 94 finished with value: 0.42020608730822245 and parameters: {'learning_rate': 0.07652975522682097, 'subsample': 0.45920866913384867, 'colsample_bytree': 0.47390981915961994, 'min_child_samples': 22, 'num_leaves': 249}. Best is trial 64 with value: 0.4190821850552839.\n",
      "[I 2023-11-24 22:33:30,670] Trial 95 finished with value: 0.4385589887134886 and parameters: {'learning_rate': 0.07652975522682097, 'subsample': 0.45920866913384867, 'colsample_bytree': 0.47390981915961994, 'min_child_samples': 25, 'num_leaves': 265}. Best is trial 64 with value: 0.4190821850552839.\n",
      "[I 2023-11-24 22:33:31,864] Trial 96 finished with value: 0.4335735598754772 and parameters: {'learning_rate': 0.05036116394915032, 'subsample': 0.45454265542479144, 'colsample_bytree': 0.47192538393414724, 'min_child_samples': 25, 'num_leaves': 246}. Best is trial 64 with value: 0.4190821850552839.\n",
      "[I 2023-11-24 22:33:32,780] Trial 97 finished with value: 0.4548700292489706 and parameters: {'learning_rate': 0.05036116394915032, 'subsample': 0.4525877867256919, 'colsample_bytree': 0.47192538393414724, 'min_child_samples': 47, 'num_leaves': 246}. Best is trial 64 with value: 0.4190821850552839.\n",
      "[I 2023-11-24 22:33:33,908] Trial 98 finished with value: 0.4748658669432027 and parameters: {'learning_rate': 0.07820156980063149, 'subsample': 0.39687428813307885, 'colsample_bytree': 0.49026854927299196, 'min_child_samples': 73, 'num_leaves': 147}. Best is trial 64 with value: 0.4190821850552839.\n",
      "[I 2023-11-24 22:33:35,047] Trial 99 finished with value: 0.4641076411497437 and parameters: {'learning_rate': 0.07820156980063149, 'subsample': 0.4741936801054099, 'colsample_bytree': 0.49026854927299196, 'min_child_samples': 73, 'num_leaves': 147}. Best is trial 64 with value: 0.4190821850552839.\n"
     ]
    },
    {
     "data": {
      "text/plain": [
       "[None, None, None, None, None, None, None, None, None, None]"
      ]
     },
     "execution_count": 17,
     "metadata": {},
     "output_type": "execute_result"
    }
   ],
   "source": [
    "# Define the objective\n",
    "def objective(trial):\n",
    "    ### START CODE HERE\n",
    "    params = {\n",
    "        \"n_estimators\": 1000,\n",
    "        \"learning_rate\": trial.suggest_float(\"learning_rate\", 0.001, 0.1, log=True),\n",
    "        \"subsample\": trial.suggest_float(\"subsample\", 0.05, 0.5),\n",
    "        \"subsample_freq\": 1,\n",
    "        \"colsample_bytree\": trial.suggest_float(\"colsample_bytree\", 0.05, 0.5),\n",
    "        \"min_child_samples\": trial.suggest_int(\"min_child_samples\", 20, 100),\n",
    "        \"num_leaves\": trial.suggest_int(\"num_leaves\", 2, 2**10),\n",
    "        \"random_state\": RANDOM_SEED\n",
    "    }\n",
    "\n",
    "    model = lgb.LGBMRegressor(**params)\n",
    "    model.fit(train_x, train_y)\n",
    "\n",
    "    predictions = model.predict(test_x)\n",
    "\n",
    "    score = mean_absolute_error(test_y, predictions)\n",
    "    return score\n",
    "    ### END CODE HERE\n",
    "\n",
    "# Parallelize the study using multi-processing\n",
    "### START CODE HERE\n",
    "iteration_count = 10\n",
    "\n",
    "study = optuna.create_study(\n",
    "    direction=\"minimize\",\n",
    "    study_name=study_name,\n",
    "    storage=storage\n",
    ")\n",
    "\n",
    "Parallel(n_jobs=4)(delayed(study.optimize)(objective, n_trials=10) for _ in range(iteration_count))\n",
    "### END CODE HERE"
   ]
  },
  {
   "cell_type": "code",
   "execution_count": 16,
   "id": "546248c8",
   "metadata": {},
   "outputs": [],
   "source": [
    "# Uncomment and run the following code if you want to delete the \"lgbm-wine-parallel\" study from the PostgreSQL database\n",
    "\n",
    "POSTGRES_USER = \"mlflow\"\n",
    "POSTGRES_PASSWORD = \"KFSg-AYoiPdfRun64z2-w89Kk7z5cJL2IbVvSd3l8Og\"\n",
    "POSTGRES_DB = \"optuna_db\" \n",
    "\n",
    "storage=\"postgresql://{}:{}@localhost:5432/{}\".format(\n",
    "             POSTGRES_USER,\n",
    "             POSTGRES_PASSWORD,\n",
    "             POSTGRES_DB\n",
    "         )\n",
    "optuna.delete_study(study_name=\"lgbm-wine-parallel\", storage=storage)"
   ]
  },
  {
   "cell_type": "code",
   "execution_count": 18,
   "id": "8183d57a",
   "metadata": {},
   "outputs": [
    {
     "name": "stderr",
     "output_type": "stream",
     "text": [
      "/tmp/ipykernel_3761/2047713659.py:3: ExperimentalWarning:\n",
      "\n",
      "plot_timeline is experimental (supported from v3.2.0). The interface can change in the future.\n",
      "\n"
     ]
    },
    {
     "data": {
      "application/vnd.plotly.v1+json": {
       "config": {
        "plotlyServerURL": "https://plot.ly"
       },
       "data": [
        {
         "base": [
          "2023-11-24T22:32:19.297217",
          "2023-11-24T22:32:19.717784",
          "2023-11-24T22:32:19.811367",
          "2023-11-24T22:32:19.919097",
          "2023-11-24T22:32:21.944550",
          "2023-11-24T22:32:22.323627",
          "2023-11-24T22:32:22.386946",
          "2023-11-24T22:32:22.521481",
          "2023-11-24T22:32:23.890140",
          "2023-11-24T22:32:24.316483",
          "2023-11-24T22:32:24.421034",
          "2023-11-24T22:32:24.578800",
          "2023-11-24T22:32:26.092195",
          "2023-11-24T22:32:26.510842",
          "2023-11-24T22:32:26.625600",
          "2023-11-24T22:32:26.907389",
          "2023-11-24T22:32:28.460295",
          "2023-11-24T22:32:28.843791",
          "2023-11-24T22:32:29.001223",
          "2023-11-24T22:32:29.492193",
          "2023-11-24T22:32:31.025857",
          "2023-11-24T22:32:31.324955",
          "2023-11-24T22:32:31.553770",
          "2023-11-24T22:32:32.011265",
          "2023-11-24T22:32:33.411815",
          "2023-11-24T22:32:33.679679",
          "2023-11-24T22:32:33.818484",
          "2023-11-24T22:32:34.373556",
          "2023-11-24T22:32:36.019916",
          "2023-11-24T22:32:36.324442",
          "2023-11-24T22:32:36.524435",
          "2023-11-24T22:32:37.435160",
          "2023-11-24T22:32:38.364191",
          "2023-11-24T22:32:38.898439",
          "2023-11-24T22:32:39.101344",
          "2023-11-24T22:32:39.629705",
          "2023-11-24T22:32:40.539535",
          "2023-11-24T22:32:41.511181",
          "2023-11-24T22:32:41.607622",
          "2023-11-24T22:32:42.084315",
          "2023-11-24T22:32:43.879596",
          "2023-11-24T22:32:44.898824",
          "2023-11-24T22:32:44.968991",
          "2023-11-24T22:32:45.363382",
          "2023-11-24T22:32:46.089011",
          "2023-11-24T22:32:47.162289",
          "2023-11-24T22:32:47.301332",
          "2023-11-24T22:32:47.723702",
          "2023-11-24T22:32:48.393548",
          "2023-11-24T22:32:49.643281",
          "2023-11-24T22:32:49.759730",
          "2023-11-24T22:32:50.194038",
          "2023-11-24T22:32:51.948566",
          "2023-11-24T22:32:52.789659",
          "2023-11-24T22:32:53.336842",
          "2023-11-24T22:32:53.504232",
          "2023-11-24T22:32:54.205124",
          "2023-11-24T22:32:55.451725",
          "2023-11-24T22:32:56.035873",
          "2023-11-24T22:32:56.140212",
          "2023-11-24T22:32:57.212831",
          "2023-11-24T22:32:58.255516",
          "2023-11-24T22:32:58.758487",
          "2023-11-24T22:32:58.826697",
          "2023-11-24T22:32:59.899661",
          "2023-11-24T22:33:00.835675",
          "2023-11-24T22:33:01.468567",
          "2023-11-24T22:33:01.563167",
          "2023-11-24T22:33:02.613364",
          "2023-11-24T22:33:03.531991",
          "2023-11-24T22:33:04.213782",
          "2023-11-24T22:33:04.479187",
          "2023-11-24T22:33:05.292864",
          "2023-11-24T22:33:05.933011",
          "2023-11-24T22:33:06.560864",
          "2023-11-24T22:33:07.094437",
          "2023-11-24T22:33:07.817929",
          "2023-11-24T22:33:08.455873",
          "2023-11-24T22:33:08.978745",
          "2023-11-24T22:33:09.433079",
          "2023-11-24T22:33:11.143115",
          "2023-11-24T22:33:11.778020",
          "2023-11-24T22:33:13.437263",
          "2023-11-24T22:33:14.207929",
          "2023-11-24T22:33:15.751449",
          "2023-11-24T22:33:16.834781",
          "2023-11-24T22:33:18.241179",
          "2023-11-24T22:33:19.105089",
          "2023-11-24T22:33:20.217069",
          "2023-11-24T22:33:21.100838",
          "2023-11-24T22:33:22.468055",
          "2023-11-24T22:33:23.414480",
          "2023-11-24T22:33:24.677662",
          "2023-11-24T22:33:25.932431",
          "2023-11-24T22:33:27.382961",
          "2023-11-24T22:33:28.355133",
          "2023-11-24T22:33:29.717369",
          "2023-11-24T22:33:30.878612",
          "2023-11-24T22:33:32.076815",
          "2023-11-24T22:33:32.986241"
         ],
         "hovertemplate": "%{text}<extra>COMPLETE</extra>",
         "marker": {
          "color": "blue"
         },
         "name": "COMPLETE",
         "orientation": "h",
         "text": [
          "{<br>  \"number\": 0,<br>  \"values\": [<br>    0.5055387687032085<br>  ],<br>  \"params\": {<br>    \"learning_rate\": 0.036002289565316335,<br>    \"subsample\": 0.12803654585883673,<br>    \"colsample_bytree\": 0.25017966797587415,<br>    \"min_child_samples\": 59,<br>    \"num_leaves\": 729<br>  }<br>}",
          "{<br>  \"number\": 1,<br>  \"values\": [<br>    0.5055387687032085<br>  ],<br>  \"params\": {<br>    \"learning_rate\": 0.036002289565316335,<br>    \"subsample\": 0.12803654585883673,<br>    \"colsample_bytree\": 0.25017966797587415,<br>    \"min_child_samples\": 59,<br>    \"num_leaves\": 729<br>  }<br>}",
          "{<br>  \"number\": 2,<br>  \"values\": [<br>    0.5055387687032085<br>  ],<br>  \"params\": {<br>    \"learning_rate\": 0.036002289565316335,<br>    \"subsample\": 0.12803654585883673,<br>    \"colsample_bytree\": 0.25017966797587415,<br>    \"min_child_samples\": 59,<br>    \"num_leaves\": 729<br>  }<br>}",
          "{<br>  \"number\": 3,<br>  \"values\": [<br>    0.5055387687032085<br>  ],<br>  \"params\": {<br>    \"learning_rate\": 0.036002289565316335,<br>    \"subsample\": 0.12803654585883673,<br>    \"colsample_bytree\": 0.25017966797587415,<br>    \"min_child_samples\": 59,<br>    \"num_leaves\": 729<br>  }<br>}",
          "{<br>  \"number\": 4,<br>  \"values\": [<br>    1.4370420530528747<br>  ],<br>  \"params\": {<br>    \"learning_rate\": 0.003304242127399469,<br>    \"subsample\": 0.07778282857126885,<br>    \"colsample_bytree\": 0.3474238363336091,<br>    \"min_child_samples\": 53,<br>    \"num_leaves\": 213<br>  }<br>}",
          "{<br>  \"number\": 5,<br>  \"values\": [<br>    1.4370420530528747<br>  ],<br>  \"params\": {<br>    \"learning_rate\": 0.003304242127399469,<br>    \"subsample\": 0.07778282857126885,<br>    \"colsample_bytree\": 0.3474238363336091,<br>    \"min_child_samples\": 53,<br>    \"num_leaves\": 213<br>  }<br>}",
          "{<br>  \"number\": 6,<br>  \"values\": [<br>    1.4370420530528747<br>  ],<br>  \"params\": {<br>    \"learning_rate\": 0.003304242127399469,<br>    \"subsample\": 0.07778282857126885,<br>    \"colsample_bytree\": 0.3474238363336091,<br>    \"min_child_samples\": 53,<br>    \"num_leaves\": 213<br>  }<br>}",
          "{<br>  \"number\": 7,<br>  \"values\": [<br>    1.4370420530528747<br>  ],<br>  \"params\": {<br>    \"learning_rate\": 0.003304242127399469,<br>    \"subsample\": 0.07778282857126885,<br>    \"colsample_bytree\": 0.3474238363336091,<br>    \"min_child_samples\": 53,<br>    \"num_leaves\": 213<br>  }<br>}",
          "{<br>  \"number\": 8,<br>  \"values\": [<br>    0.46327214524166954<br>  ],<br>  \"params\": {<br>    \"learning_rate\": 0.03890383036335045,<br>    \"subsample\": 0.40450595555222263,<br>    \"colsample_bytree\": 0.4464579200394607,<br>    \"min_child_samples\": 50,<br>    \"num_leaves\": 196<br>  }<br>}",
          "{<br>  \"number\": 9,<br>  \"values\": [<br>    0.46327214524166954<br>  ],<br>  \"params\": {<br>    \"learning_rate\": 0.03890383036335045,<br>    \"subsample\": 0.40450595555222263,<br>    \"colsample_bytree\": 0.4464579200394607,<br>    \"min_child_samples\": 50,<br>    \"num_leaves\": 196<br>  }<br>}",
          "{<br>  \"number\": 10,<br>  \"values\": [<br>    0.46327214524166954<br>  ],<br>  \"params\": {<br>    \"learning_rate\": 0.03890383036335045,<br>    \"subsample\": 0.40450595555222263,<br>    \"colsample_bytree\": 0.4464579200394607,<br>    \"min_child_samples\": 50,<br>    \"num_leaves\": 196<br>  }<br>}",
          "{<br>  \"number\": 11,<br>  \"values\": [<br>    0.46327214524166954<br>  ],<br>  \"params\": {<br>    \"learning_rate\": 0.03890383036335045,<br>    \"subsample\": 0.40450595555222263,<br>    \"colsample_bytree\": 0.4464579200394607,<br>    \"min_child_samples\": 50,<br>    \"num_leaves\": 196<br>  }<br>}",
          "{<br>  \"number\": 12,<br>  \"values\": [<br>    0.4203964102752037<br>  ],<br>  \"params\": {<br>    \"learning_rate\": 0.0976121411769044,<br>    \"subsample\": 0.4976206776041786,<br>    \"colsample_bytree\": 0.49818137237426846,<br>    \"min_child_samples\": 27,<br>    \"num_leaves\": 466<br>  }<br>}",
          "{<br>  \"number\": 13,<br>  \"values\": [<br>    0.4203964102752037<br>  ],<br>  \"params\": {<br>    \"learning_rate\": 0.0976121411769044,<br>    \"subsample\": 0.4976206776041786,<br>    \"colsample_bytree\": 0.49818137237426846,<br>    \"min_child_samples\": 27,<br>    \"num_leaves\": 466<br>  }<br>}",
          "{<br>  \"number\": 14,<br>  \"values\": [<br>    0.4203964102752037<br>  ],<br>  \"params\": {<br>    \"learning_rate\": 0.0976121411769044,<br>    \"subsample\": 0.4976206776041786,<br>    \"colsample_bytree\": 0.49818137237426846,<br>    \"min_child_samples\": 27,<br>    \"num_leaves\": 466<br>  }<br>}",
          "{<br>  \"number\": 15,<br>  \"values\": [<br>    0.4203964102752037<br>  ],<br>  \"params\": {<br>    \"learning_rate\": 0.0976121411769044,<br>    \"subsample\": 0.4976206776041786,<br>    \"colsample_bytree\": 0.49818137237426846,<br>    \"min_child_samples\": 27,<br>    \"num_leaves\": 466<br>  }<br>}",
          "{<br>  \"number\": 16,<br>  \"values\": [<br>    0.5659694404360781<br>  ],<br>  \"params\": {<br>    \"learning_rate\": 0.0903183488094224,<br>    \"subsample\": 0.4925473617215378,<br>    \"colsample_bytree\": 0.13417014091094104,<br>    \"min_child_samples\": 23,<br>    \"num_leaves\": 458<br>  }<br>}",
          "{<br>  \"number\": 17,<br>  \"values\": [<br>    0.5015938356950119<br>  ],<br>  \"params\": {<br>    \"learning_rate\": 0.01334665015869596,<br>    \"subsample\": 0.30794266530078207,<br>    \"colsample_bytree\": 0.13417014091094104,<br>    \"min_child_samples\": 86,<br>    \"num_leaves\": 916<br>  }<br>}",
          "{<br>  \"number\": 18,<br>  \"values\": [<br>    0.5015938356950119<br>  ],<br>  \"params\": {<br>    \"learning_rate\": 0.01334665015869596,<br>    \"subsample\": 0.30794266530078207,<br>    \"colsample_bytree\": 0.13417014091094104,<br>    \"min_child_samples\": 86,<br>    \"num_leaves\": 916<br>  }<br>}",
          "{<br>  \"number\": 19,<br>  \"values\": [<br>    0.5015938356950119<br>  ],<br>  \"params\": {<br>    \"learning_rate\": 0.01334665015869596,<br>    \"subsample\": 0.30794266530078207,<br>    \"colsample_bytree\": 0.13417014091094104,<br>    \"min_child_samples\": 86,<br>    \"num_leaves\": 916<br>  }<br>}",
          "{<br>  \"number\": 20,<br>  \"values\": [<br>    0.525147062866343<br>  ],<br>  \"params\": {<br>    \"learning_rate\": 0.0014357664139389434,<br>    \"subsample\": 0.4507789733705802,<br>    \"colsample_bytree\": 0.40017206098906155,<br>    \"min_child_samples\": 37,<br>    \"num_leaves\": 17<br>  }<br>}",
          "{<br>  \"number\": 21,<br>  \"values\": [<br>    0.4559829878181377<br>  ],<br>  \"params\": {<br>    \"learning_rate\": 0.062282742883790314,<br>    \"subsample\": 0.4507789733705802,<br>    \"colsample_bytree\": 0.40017206098906155,<br>    \"min_child_samples\": 37,<br>    \"num_leaves\": 17<br>  }<br>}",
          "{<br>  \"number\": 22,<br>  \"values\": [<br>    0.4559829878181377<br>  ],<br>  \"params\": {<br>    \"learning_rate\": 0.062282742883790314,<br>    \"subsample\": 0.4507789733705802,<br>    \"colsample_bytree\": 0.40017206098906155,<br>    \"min_child_samples\": 37,<br>    \"num_leaves\": 17<br>  }<br>}",
          "{<br>  \"number\": 23,<br>  \"values\": [<br>    0.4559829878181377<br>  ],<br>  \"params\": {<br>    \"learning_rate\": 0.062282742883790314,<br>    \"subsample\": 0.4507789733705802,<br>    \"colsample_bytree\": 0.40017206098906155,<br>    \"min_child_samples\": 37,<br>    \"num_leaves\": 17<br>  }<br>}",
          "{<br>  \"number\": 24,<br>  \"values\": [<br>    0.42232577699529306<br>  ],<br>  \"params\": {<br>    \"learning_rate\": 0.0962398975684159,<br>    \"subsample\": 0.47794433173873496,<br>    \"colsample_bytree\": 0.4827911934684328,<br>    \"min_child_samples\": 20,<br>    \"num_leaves\": 579<br>  }<br>}",
          "{<br>  \"number\": 25,<br>  \"values\": [<br>    0.42232577699529306<br>  ],<br>  \"params\": {<br>    \"learning_rate\": 0.0962398975684159,<br>    \"subsample\": 0.47794433173873496,<br>    \"colsample_bytree\": 0.4827911934684328,<br>    \"min_child_samples\": 20,<br>    \"num_leaves\": 579<br>  }<br>}",
          "{<br>  \"number\": 26,<br>  \"values\": [<br>    0.42232577699529306<br>  ],<br>  \"params\": {<br>    \"learning_rate\": 0.0962398975684159,<br>    \"subsample\": 0.47794433173873496,<br>    \"colsample_bytree\": 0.4827911934684328,<br>    \"min_child_samples\": 20,<br>    \"num_leaves\": 579<br>  }<br>}",
          "{<br>  \"number\": 27,<br>  \"values\": [<br>    0.42232577699529306<br>  ],<br>  \"params\": {<br>    \"learning_rate\": 0.0962398975684159,<br>    \"subsample\": 0.47794433173873496,<br>    \"colsample_bytree\": 0.4827911934684328,<br>    \"min_child_samples\": 20,<br>    \"num_leaves\": 579<br>  }<br>}",
          "{<br>  \"number\": 28,<br>  \"values\": [<br>    0.44694756511990763<br>  ],<br>  \"params\": {<br>    \"learning_rate\": 0.02142676840964274,<br>    \"subsample\": 0.3782708666894459,<br>    \"colsample_bytree\": 0.4906164596103098,<br>    \"min_child_samples\": 30,<br>    \"num_leaves\": 354<br>  }<br>}",
          "{<br>  \"number\": 29,<br>  \"values\": [<br>    0.44694756511990763<br>  ],<br>  \"params\": {<br>    \"learning_rate\": 0.02142676840964274,<br>    \"subsample\": 0.3782708666894459,<br>    \"colsample_bytree\": 0.4906164596103098,<br>    \"min_child_samples\": 30,<br>    \"num_leaves\": 354<br>  }<br>}",
          "{<br>  \"number\": 30,<br>  \"values\": [<br>    0.4496023488686538<br>  ],<br>  \"params\": {<br>    \"learning_rate\": 0.024699670878525957,<br>    \"subsample\": 0.3782708666894459,<br>    \"colsample_bytree\": 0.4906164596103098,<br>    \"min_child_samples\": 30,<br>    \"num_leaves\": 354<br>  }<br>}",
          "{<br>  \"number\": 31,<br>  \"values\": [<br>    0.48163842804115986<br>  ],<br>  \"params\": {<br>    \"learning_rate\": 0.056222502588448686,<br>    \"subsample\": 0.49852982194981527,<br>    \"colsample_bytree\": 0.1981209707498348,<br>    \"min_child_samples\": 75,<br>    \"num_leaves\": 354<br>  }<br>}",
          "{<br>  \"number\": 32,<br>  \"values\": [<br>    0.4571025604852115<br>  ],<br>  \"params\": {<br>    \"learning_rate\": 0.06342484468667119,<br>    \"subsample\": 0.49726616087278924,<br>    \"colsample_bytree\": 0.4459921398975198,<br>    \"min_child_samples\": 74,<br>    \"num_leaves\": 470<br>  }<br>}",
          "{<br>  \"number\": 33,<br>  \"values\": [<br>    0.4282756056784096<br>  ],<br>  \"params\": {<br>    \"learning_rate\": 0.07411731454416451,<br>    \"subsample\": 0.49726616087278924,<br>    \"colsample_bytree\": 0.4459921398975198,<br>    \"min_child_samples\": 28,<br>    \"num_leaves\": 470<br>  }<br>}",
          "{<br>  \"number\": 34,<br>  \"values\": [<br>    0.4282756056784096<br>  ],<br>  \"params\": {<br>    \"learning_rate\": 0.07411731454416451,<br>    \"subsample\": 0.49726616087278924,<br>    \"colsample_bytree\": 0.4459921398975198,<br>    \"min_child_samples\": 28,<br>    \"num_leaves\": 470<br>  }<br>}",
          "{<br>  \"number\": 35,<br>  \"values\": [<br>    0.44423595363933727<br>  ],<br>  \"params\": {<br>    \"learning_rate\": 0.07411731454416451,<br>    \"subsample\": 0.43727871912218413,<br>    \"colsample_bytree\": 0.4226727325579737,<br>    \"min_child_samples\": 28,<br>    \"num_leaves\": 428<br>  }<br>}",
          "{<br>  \"number\": 36,<br>  \"values\": [<br>    0.4488184268052957<br>  ],<br>  \"params\": {<br>    \"learning_rate\": 0.07214229104127655,<br>    \"subsample\": 0.4371244741260207,<br>    \"colsample_bytree\": 0.42205040757095497,<br>    \"min_child_samples\": 43,<br>    \"num_leaves\": 658<br>  }<br>}",
          "{<br>  \"number\": 37,<br>  \"values\": [<br>    0.45224259171444303<br>  ],<br>  \"params\": {<br>    \"learning_rate\": 0.05387119720410135,<br>    \"subsample\": 0.4371244741260207,<br>    \"colsample_bytree\": 0.49489379304153736,<br>    \"min_child_samples\": 43,<br>    \"num_leaves\": 658<br>  }<br>}",
          "{<br>  \"number\": 38,<br>  \"values\": [<br>    0.45224259171444303<br>  ],<br>  \"params\": {<br>    \"learning_rate\": 0.05387119720410135,<br>    \"subsample\": 0.4371244741260207,<br>    \"colsample_bytree\": 0.49489379304153736,<br>    \"min_child_samples\": 43,<br>    \"num_leaves\": 658<br>  }<br>}",
          "{<br>  \"number\": 39,<br>  \"values\": [<br>    0.48526841779218843<br>  ],<br>  \"params\": {<br>    \"learning_rate\": 0.05387119720410135,<br>    \"subsample\": 0.2135678589360603,<br>    \"colsample_bytree\": 0.49489379304153736,<br>    \"min_child_samples\": 43,<br>    \"num_leaves\": 809<br>  }<br>}",
          "{<br>  \"number\": 40,<br>  \"values\": [<br>    0.46560763913639036<br>  ],<br>  \"params\": {<br>    \"learning_rate\": 0.04684005933313564,<br>    \"subsample\": 0.4667902446226359,<br>    \"colsample_bytree\": 0.3153658177973614,<br>    \"min_child_samples\": 64,<br>    \"num_leaves\": 522<br>  }<br>}",
          "{<br>  \"number\": 41,<br>  \"values\": [<br>    0.46560763913639036<br>  ],<br>  \"params\": {<br>    \"learning_rate\": 0.04684005933313564,<br>    \"subsample\": 0.4667902446226359,<br>    \"colsample_bytree\": 0.3153658177973614,<br>    \"min_child_samples\": 64,<br>    \"num_leaves\": 522<br>  }<br>}",
          "{<br>  \"number\": 42,<br>  \"values\": [<br>    0.46560763913639036<br>  ],<br>  \"params\": {<br>    \"learning_rate\": 0.04684005933313564,<br>    \"subsample\": 0.4667902446226359,<br>    \"colsample_bytree\": 0.3153658177973614,<br>    \"min_child_samples\": 64,<br>    \"num_leaves\": 522<br>  }<br>}",
          "{<br>  \"number\": 43,<br>  \"values\": [<br>    0.44161126864149625<br>  ],<br>  \"params\": {<br>    \"learning_rate\": 0.09936942654723084,<br>    \"subsample\": 0.4698215782775852,<br>    \"colsample_bytree\": 0.46858832492126823,<br>    \"min_child_samples\": 33,<br>    \"num_leaves\": 407<br>  }<br>}",
          "{<br>  \"number\": 44,<br>  \"values\": [<br>    0.44657891091850316<br>  ],<br>  \"params\": {<br>    \"learning_rate\": 0.08419216182305661,<br>    \"subsample\": 0.4708381619554205,<br>    \"colsample_bytree\": 0.46801135349430056,<br>    \"min_child_samples\": 33,<br>    \"num_leaves\": 538<br>  }<br>}",
          "{<br>  \"number\": 45,<br>  \"values\": [<br>    0.42695607140001357<br>  ],<br>  \"params\": {<br>    \"learning_rate\": 0.08136735672822133,<br>    \"subsample\": 0.49770164633520303,<br>    \"colsample_bytree\": 0.46801135349430056,<br>    \"min_child_samples\": 23,<br>    \"num_leaves\": 306<br>  }<br>}",
          "{<br>  \"number\": 46,<br>  \"values\": [<br>    0.42695607140001357<br>  ],<br>  \"params\": {<br>    \"learning_rate\": 0.08136735672822133,<br>    \"subsample\": 0.49770164633520303,<br>    \"colsample_bytree\": 0.46801135349430056,<br>    \"min_child_samples\": 23,<br>    \"num_leaves\": 306<br>  }<br>}",
          "{<br>  \"number\": 47,<br>  \"values\": [<br>    0.43694787585857275<br>  ],<br>  \"params\": {<br>    \"learning_rate\": 0.08136735672822133,<br>    \"subsample\": 0.41761693012716117,<br>    \"colsample_bytree\": 0.46801135349430056,<br>    \"min_child_samples\": 23,<br>    \"num_leaves\": 263<br>  }<br>}",
          "{<br>  \"number\": 48,<br>  \"values\": [<br>    0.42330783478008316<br>  ],<br>  \"params\": {<br>    \"learning_rate\": 0.08254107337353361,<br>    \"subsample\": 0.49766940498980156,<br>    \"colsample_bytree\": 0.4696362026826867,<br>    \"min_child_samples\": 24,<br>    \"num_leaves\": 267<br>  }<br>}",
          "{<br>  \"number\": 49,<br>  \"values\": [<br>    0.4293056125561425<br>  ],<br>  \"params\": {<br>    \"learning_rate\": 0.09977090832230574,<br>    \"subsample\": 0.4819829371096908,<br>    \"colsample_bytree\": 0.4988223765422728,<br>    \"min_child_samples\": 26,<br>    \"num_leaves\": 620<br>  }<br>}",
          "{<br>  \"number\": 50,<br>  \"values\": [<br>    0.4293056125561425<br>  ],<br>  \"params\": {<br>    \"learning_rate\": 0.09977090832230574,<br>    \"subsample\": 0.4819829371096908,<br>    \"colsample_bytree\": 0.4988223765422728,<br>    \"min_child_samples\": 26,<br>    \"num_leaves\": 620<br>  }<br>}",
          "{<br>  \"number\": 51,<br>  \"values\": [<br>    0.4293056125561425<br>  ],<br>  \"params\": {<br>    \"learning_rate\": 0.09977090832230574,<br>    \"subsample\": 0.4819829371096908,<br>    \"colsample_bytree\": 0.4988223765422728,<br>    \"min_child_samples\": 26,<br>    \"num_leaves\": 620<br>  }<br>}",
          "{<br>  \"number\": 52,<br>  \"values\": [<br>    0.47862316298086527<br>  ],<br>  \"params\": {<br>    \"learning_rate\": 0.06765152956559713,<br>    \"subsample\": 0.41421858223859537,<br>    \"colsample_bytree\": 0.41945195702030724,<br>    \"min_child_samples\": 95,<br>    \"num_leaves\": 741<br>  }<br>}",
          "{<br>  \"number\": 53,<br>  \"values\": [<br>    0.45303415064571895<br>  ],<br>  \"params\": {<br>    \"learning_rate\": 0.06928512502847954,<br>    \"subsample\": 0.4585663740731103,<br>    \"colsample_bytree\": 0.4265658394377239,<br>    \"min_child_samples\": 33,<br>    \"num_leaves\": 741<br>  }<br>}",
          "{<br>  \"number\": 54,<br>  \"values\": [<br>    0.45303415064571895<br>  ],<br>  \"params\": {<br>    \"learning_rate\": 0.06928512502847954,<br>    \"subsample\": 0.4585663740731103,<br>    \"colsample_bytree\": 0.4647122744156146,<br>    \"min_child_samples\": 33,<br>    \"num_leaves\": 569<br>  }<br>}",
          "{<br>  \"number\": 55,<br>  \"values\": [<br>    0.45303415064571895<br>  ],<br>  \"params\": {<br>    \"learning_rate\": 0.06928512502847954,<br>    \"subsample\": 0.4585663740731103,<br>    \"colsample_bytree\": 0.4647122744156146,<br>    \"min_child_samples\": 33,<br>    \"num_leaves\": 569<br>  }<br>}",
          "{<br>  \"number\": 56,<br>  \"values\": [<br>    0.4430115503397583<br>  ],<br>  \"params\": {<br>    \"learning_rate\": 0.06891469021115317,<br>    \"subsample\": 0.4579695687891376,<br>    \"colsample_bytree\": 0.46189822590925317,<br>    \"min_child_samples\": 33,<br>    \"num_leaves\": 563<br>  }<br>}",
          "{<br>  \"number\": 57,<br>  \"values\": [<br>    0.46447372275979343<br>  ],<br>  \"params\": {<br>    \"learning_rate\": 0.08319903821274845,<br>    \"subsample\": 0.47931568453318996,<br>    \"colsample_bytree\": 0.37188890382343376,<br>    \"min_child_samples\": 40,<br>    \"num_leaves\": 386<br>  }<br>}",
          "{<br>  \"number\": 58,<br>  \"values\": [<br>    0.46447372275979343<br>  ],<br>  \"params\": {<br>    \"learning_rate\": 0.08319903821274845,<br>    \"subsample\": 0.47931568453318996,<br>    \"colsample_bytree\": 0.37188890382343376,<br>    \"min_child_samples\": 40,<br>    \"num_leaves\": 386<br>  }<br>}",
          "{<br>  \"number\": 59,<br>  \"values\": [<br>    0.46447372275979343<br>  ],<br>  \"params\": {<br>    \"learning_rate\": 0.08319903821274845,<br>    \"subsample\": 0.47931568453318996,<br>    \"colsample_bytree\": 0.37188890382343376,<br>    \"min_child_samples\": 40,<br>    \"num_leaves\": 386<br>  }<br>}",
          "{<br>  \"number\": 60,<br>  \"values\": [<br>    0.41968041389294103<br>  ],<br>  \"params\": {<br>    \"learning_rate\": 0.03324537620666708,<br>    \"subsample\": 0.481578304064581,<br>    \"colsample_bytree\": 0.4769593404695017,<br>    \"min_child_samples\": 20,<br>    \"num_leaves\": 411<br>  }<br>}",
          "{<br>  \"number\": 61,<br>  \"values\": [<br>    0.4353074274401358<br>  ],<br>  \"params\": {<br>    \"learning_rate\": 0.03324537620666708,<br>    \"subsample\": 0.4235248712183066,<br>    \"colsample_bytree\": 0.4769593404695017,<br>    \"min_child_samples\": 20,<br>    \"num_leaves\": 437<br>  }<br>}",
          "{<br>  \"number\": 62,<br>  \"values\": [<br>    0.4353074274401358<br>  ],<br>  \"params\": {<br>    \"learning_rate\": 0.03324537620666708,<br>    \"subsample\": 0.4235248712183066,<br>    \"colsample_bytree\": 0.4769593404695017,<br>    \"min_child_samples\": 20,<br>    \"num_leaves\": 437<br>  }<br>}",
          "{<br>  \"number\": 63,<br>  \"values\": [<br>    0.4353074274401358<br>  ],<br>  \"params\": {<br>    \"learning_rate\": 0.03324537620666708,<br>    \"subsample\": 0.4235248712183066,<br>    \"colsample_bytree\": 0.4769593404695017,<br>    \"min_child_samples\": 20,<br>    \"num_leaves\": 437<br>  }<br>}",
          "{<br>  \"number\": 64,<br>  \"values\": [<br>    0.4190821850552839<br>  ],<br>  \"params\": {<br>    \"learning_rate\": 0.056509994880335916,<br>    \"subsample\": 0.44521226791400487,<br>    \"colsample_bytree\": 0.4838996859969632,<br>    \"min_child_samples\": 20,<br>    \"num_leaves\": 482<br>  }<br>}",
          "{<br>  \"number\": 65,<br>  \"values\": [<br>    0.43174761875032397<br>  ],<br>  \"params\": {<br>    \"learning_rate\": 0.056509994880335916,<br>    \"subsample\": 0.44521226791400487,<br>    \"colsample_bytree\": 0.4480959013387943,<br>    \"min_child_samples\": 25,<br>    \"num_leaves\": 482<br>  }<br>}",
          "{<br>  \"number\": 66,<br>  \"values\": [<br>    0.43174761875032397<br>  ],<br>  \"params\": {<br>    \"learning_rate\": 0.056509994880335916,<br>    \"subsample\": 0.44521226791400487,<br>    \"colsample_bytree\": 0.4480959013387943,<br>    \"min_child_samples\": 25,<br>    \"num_leaves\": 482<br>  }<br>}",
          "{<br>  \"number\": 67,<br>  \"values\": [<br>    0.43174761875032397<br>  ],<br>  \"params\": {<br>    \"learning_rate\": 0.056509994880335916,<br>    \"subsample\": 0.44521226791400487,<br>    \"colsample_bytree\": 0.4480959013387943,<br>    \"min_child_samples\": 25,<br>    \"num_leaves\": 482<br>  }<br>}",
          "{<br>  \"number\": 68,<br>  \"values\": [<br>    0.43565530344445974<br>  ],<br>  \"params\": {<br>    \"learning_rate\": 0.062046767021019855,<br>    \"subsample\": 0.48561513467545925,<br>    \"colsample_bytree\": 0.4558562909934093,<br>    \"min_child_samples\": 30,<br>    \"num_leaves\": 500<br>  }<br>}",
          "{<br>  \"number\": 69,<br>  \"values\": [<br>    0.43565530344445974<br>  ],<br>  \"params\": {<br>    \"learning_rate\": 0.062046767021019855,<br>    \"subsample\": 0.48561513467545925,<br>    \"colsample_bytree\": 0.48380796199159576,<br>    \"min_child_samples\": 30,<br>    \"num_leaves\": 131<br>  }<br>}",
          "{<br>  \"number\": 70,<br>  \"values\": [<br>    0.43565530344445974<br>  ],<br>  \"params\": {<br>    \"learning_rate\": 0.062046767021019855,<br>    \"subsample\": 0.48561513467545925,<br>    \"colsample_bytree\": 0.48380796199159576,<br>    \"min_child_samples\": 30,<br>    \"num_leaves\": 131<br>  }<br>}",
          "{<br>  \"number\": 71,<br>  \"values\": [<br>    0.421277963107247<br>  ],<br>  \"params\": {<br>    \"learning_rate\": 0.08444624154250081,<br>    \"subsample\": 0.48561513467545925,<br>    \"colsample_bytree\": 0.48380796199159576,<br>    \"min_child_samples\": 22,<br>    \"num_leaves\": 131<br>  }<br>}",
          "{<br>  \"number\": 72,<br>  \"values\": [<br>    0.4217433480674649<br>  ],<br>  \"params\": {<br>    \"learning_rate\": 0.08857183753284396,<br>    \"subsample\": 0.46671651021906324,<br>    \"colsample_bytree\": 0.4998226917872882,<br>    \"min_child_samples\": 22,<br>    \"num_leaves\": 406<br>  }<br>}",
          "{<br>  \"number\": 73,<br>  \"values\": [<br>    0.42820537039332784<br>  ],<br>  \"params\": {<br>    \"learning_rate\": 0.08961687563811387,<br>    \"subsample\": 0.46995546126942517,<br>    \"colsample_bytree\": 0.4998350094914434,<br>    \"min_child_samples\": 22,<br>    \"num_leaves\": 694<br>  }<br>}",
          "{<br>  \"number\": 74,<br>  \"values\": [<br>    0.42820537039332784<br>  ],<br>  \"params\": {<br>    \"learning_rate\": 0.08961687563811387,<br>    \"subsample\": 0.46995546126942517,<br>    \"colsample_bytree\": 0.49983469282126425,<br>    \"min_child_samples\": 22,<br>    \"num_leaves\": 67<br>  }<br>}",
          "{<br>  \"number\": 75,<br>  \"values\": [<br>    0.4279538106214295<br>  ],<br>  \"params\": {<br>    \"learning_rate\": 0.0881463792720758,<br>    \"subsample\": 0.46323533179564463,<br>    \"colsample_bytree\": 0.49987858513620603,<br>    \"min_child_samples\": 22,<br>    \"num_leaves\": 77<br>  }<br>}",
          "{<br>  \"number\": 76,<br>  \"values\": [<br>    0.43030276849174437<br>  ],<br>  \"params\": {<br>    \"learning_rate\": 0.07690018291335605,<br>    \"subsample\": 0.46152965566524345,<br>    \"colsample_bytree\": 0.48505458966767667,<br>    \"min_child_samples\": 27,<br>    \"num_leaves\": 318<br>  }<br>}",
          "{<br>  \"number\": 77,<br>  \"values\": [<br>    0.431364697591276<br>  ],<br>  \"params\": {<br>    \"learning_rate\": 0.07690018291335605,<br>    \"subsample\": 0.49067604818036803,<br>    \"colsample_bytree\": 0.48505458966767667,<br>    \"min_child_samples\": 27,<br>    \"num_leaves\": 318<br>  }<br>}",
          "{<br>  \"number\": 78,<br>  \"values\": [<br>    0.431364697591276<br>  ],<br>  \"params\": {<br>    \"learning_rate\": 0.07690018291335605,<br>    \"subsample\": 0.49067604818036803,<br>    \"colsample_bytree\": 0.48030126635887466,<br>    \"min_child_samples\": 27,<br>    \"num_leaves\": 318<br>  }<br>}",
          "{<br>  \"number\": 79,<br>  \"values\": [<br>    0.4446136145013849<br>  ],<br>  \"params\": {<br>    \"learning_rate\": 0.07355417200648327,<br>    \"subsample\": 0.49067604818036803,<br>    \"colsample_bytree\": 0.4302269248874817,<br>    \"min_child_samples\": 35,<br>    \"num_leaves\": 402<br>  }<br>}",
          "{<br>  \"number\": 80,<br>  \"values\": [<br>    0.44240099604831246<br>  ],<br>  \"params\": {<br>    \"learning_rate\": 0.04433804547710601,<br>    \"subsample\": 0.45248702633122606,<br>    \"colsample_bytree\": 0.4570301376204279,<br>    \"min_child_samples\": 36,<br>    \"num_leaves\": 995<br>  }<br>}",
          "{<br>  \"number\": 81,<br>  \"values\": [<br>    0.44240099604831246<br>  ],<br>  \"params\": {<br>    \"learning_rate\": 0.04433804547710601,<br>    \"subsample\": 0.45248702633122606,<br>    \"colsample_bytree\": 0.4570301376204279,<br>    \"min_child_samples\": 36,<br>    \"num_leaves\": 995<br>  }<br>}",
          "{<br>  \"number\": 82,<br>  \"values\": [<br>    0.42251925767310766<br>  ],<br>  \"params\": {<br>    \"learning_rate\": 0.09040600226193532,<br>    \"subsample\": 0.498512546808384,<br>    \"colsample_bytree\": 0.4776718918315006,<br>    \"min_child_samples\": 22,<br>    \"num_leaves\": 536<br>  }<br>}",
          "{<br>  \"number\": 83,<br>  \"values\": [<br>    0.42251925767310766<br>  ],<br>  \"params\": {<br>    \"learning_rate\": 0.09040600226193532,<br>    \"subsample\": 0.498512546808384,<br>    \"colsample_bytree\": 0.4776718918315006,<br>    \"min_child_samples\": 22,<br>    \"num_leaves\": 536<br>  }<br>}",
          "{<br>  \"number\": 84,<br>  \"values\": [<br>    0.44019726328557895<br>  ],<br>  \"params\": {<br>    \"learning_rate\": 0.09985164349755618,<br>    \"subsample\": 0.47610429665002846,<br>    \"colsample_bytree\": 0.4386001302721265,<br>    \"min_child_samples\": 29,<br>    \"num_leaves\": 448<br>  }<br>}",
          "{<br>  \"number\": 85,<br>  \"values\": [<br>    0.44019726328557895<br>  ],<br>  \"params\": {<br>    \"learning_rate\": 0.09985164349755618,<br>    \"subsample\": 0.47610429665002846,<br>    \"colsample_bytree\": 0.4386001302721265,<br>    \"min_child_samples\": 29,<br>    \"num_leaves\": 448<br>  }<br>}",
          "{<br>  \"number\": 86,<br>  \"values\": [<br>    0.4606570814908346<br>  ],<br>  \"params\": {<br>    \"learning_rate\": 0.08921282579762807,<br>    \"subsample\": 0.4706008062252745,<br>    \"colsample_bytree\": 0.49034939612652845,<br>    \"min_child_samples\": 57,<br>    \"num_leaves\": 496<br>  }<br>}",
          "{<br>  \"number\": 87,<br>  \"values\": [<br>    0.4587693741608976<br>  ],<br>  \"params\": {<br>    \"learning_rate\": 0.07387612762793809,<br>    \"subsample\": 0.43422235059605835,<br>    \"colsample_bytree\": 0.49034939612652845,<br>    \"min_child_samples\": 57,<br>    \"num_leaves\": 496<br>  }<br>}",
          "{<br>  \"number\": 88,<br>  \"values\": [<br>    0.43701693924341073<br>  ],<br>  \"params\": {<br>    \"learning_rate\": 0.06802733958876037,<br>    \"subsample\": 0.4340396253050751,<br>    \"colsample_bytree\": 0.456536664470031,<br>    \"min_child_samples\": 24,<br>    \"num_leaves\": 415<br>  }<br>}",
          "{<br>  \"number\": 89,<br>  \"values\": [<br>    0.42689444584754793<br>  ],<br>  \"params\": {<br>    \"learning_rate\": 0.06427803230483242,<br>    \"subsample\": 0.4878361417503598,<br>    \"colsample_bytree\": 0.456536664470031,<br>    \"min_child_samples\": 24,<br>    \"num_leaves\": 415<br>  }<br>}",
          "{<br>  \"number\": 90,<br>  \"values\": [<br>    0.44206664836326715<br>  ],<br>  \"params\": {<br>    \"learning_rate\": 0.06385429080607123,<br>    \"subsample\": 0.48753465284995395,<br>    \"colsample_bytree\": 0.48820269094834823,<br>    \"min_child_samples\": 31,<br>    \"num_leaves\": 360<br>  }<br>}",
          "{<br>  \"number\": 91,<br>  \"values\": [<br>    0.421387884476164<br>  ],<br>  \"params\": {<br>    \"learning_rate\": 0.07771092331239918,<br>    \"subsample\": 0.4668680753227234,<br>    \"colsample_bytree\": 0.48820269094834823,<br>    \"min_child_samples\": 20,<br>    \"num_leaves\": 360<br>  }<br>}",
          "{<br>  \"number\": 92,<br>  \"values\": [<br>    0.42533623465077214<br>  ],<br>  \"params\": {<br>    \"learning_rate\": 0.08930825085373005,<br>    \"subsample\": 0.4680414887299118,<br>    \"colsample_bytree\": 0.46915773943782263,<br>    \"min_child_samples\": 20,<br>    \"num_leaves\": 607<br>  }<br>}",
          "{<br>  \"number\": 93,<br>  \"values\": [<br>    0.41985352349405813<br>  ],<br>  \"params\": {<br>    \"learning_rate\": 0.07985332823921543,<br>    \"subsample\": 0.4680414887299118,<br>    \"colsample_bytree\": 0.47591049921789197,<br>    \"min_child_samples\": 20,<br>    \"num_leaves\": 462<br>  }<br>}",
          "{<br>  \"number\": 94,<br>  \"values\": [<br>    0.42020608730822245<br>  ],<br>  \"params\": {<br>    \"learning_rate\": 0.07652975522682097,<br>    \"subsample\": 0.45920866913384867,<br>    \"colsample_bytree\": 0.47390981915961994,<br>    \"min_child_samples\": 22,<br>    \"num_leaves\": 249<br>  }<br>}",
          "{<br>  \"number\": 95,<br>  \"values\": [<br>    0.4385589887134886<br>  ],<br>  \"params\": {<br>    \"learning_rate\": 0.07652975522682097,<br>    \"subsample\": 0.45920866913384867,<br>    \"colsample_bytree\": 0.47390981915961994,<br>    \"min_child_samples\": 25,<br>    \"num_leaves\": 265<br>  }<br>}",
          "{<br>  \"number\": 96,<br>  \"values\": [<br>    0.4335735598754772<br>  ],<br>  \"params\": {<br>    \"learning_rate\": 0.05036116394915032,<br>    \"subsample\": 0.45454265542479144,<br>    \"colsample_bytree\": 0.47192538393414724,<br>    \"min_child_samples\": 25,<br>    \"num_leaves\": 246<br>  }<br>}",
          "{<br>  \"number\": 97,<br>  \"values\": [<br>    0.4548700292489706<br>  ],<br>  \"params\": {<br>    \"learning_rate\": 0.05036116394915032,<br>    \"subsample\": 0.4525877867256919,<br>    \"colsample_bytree\": 0.47192538393414724,<br>    \"min_child_samples\": 47,<br>    \"num_leaves\": 246<br>  }<br>}",
          "{<br>  \"number\": 98,<br>  \"values\": [<br>    0.4748658669432027<br>  ],<br>  \"params\": {<br>    \"learning_rate\": 0.07820156980063149,<br>    \"subsample\": 0.39687428813307885,<br>    \"colsample_bytree\": 0.49026854927299196,<br>    \"min_child_samples\": 73,<br>    \"num_leaves\": 147<br>  }<br>}",
          "{<br>  \"number\": 99,<br>  \"values\": [<br>    0.4641076411497437<br>  ],<br>  \"params\": {<br>    \"learning_rate\": 0.07820156980063149,<br>    \"subsample\": 0.4741936801054099,<br>    \"colsample_bytree\": 0.49026854927299196,<br>    \"min_child_samples\": 73,<br>    \"num_leaves\": 147<br>  }<br>}"
         ],
         "textposition": "none",
         "type": "bar",
         "x": [
          1932.807,
          1875.2040000000002,
          1821.658,
          1886.242,
          1198.712,
          1215.339,
          1219.533,
          1299.133,
          1491.406,
          1457.962,
          1453.2369999999999,
          1629.297,
          1636.135,
          1616.452,
          1664.1580000000001,
          1900.145,
          1656.392,
          1601.0279999999998,
          1737.348,
          1796.509,
          1663.987,
          1639.2359999999999,
          1552.637,
          1689.312,
          1822.3700000000001,
          1863.915,
          1916.744,
          2324.393,
          1657.009,
          1895.842,
          1908.997,
          1494.93,
          1391.682,
          1935.612,
          1809.877,
          1760.0249999999999,
          1532.2659999999998,
          1668.4840000000002,
          1610.4279999999999,
          1529.279,
          1360.77,
          1589.956,
          1635.6660000000002,
          1615.6779999999999,
          1652.198,
          1733.192,
          1732.269,
          1656.819,
          2264.879,
          2401.089,
          2801.967,
          2596.758,
          1517.1090000000002,
          1907.184,
          1915.9360000000001,
          1770.084,
          2216.994,
          2037.7610000000002,
          1976.041,
          1917.682,
          1972.418,
          1823.979,
          1877.692,
          1898.596,
          1953.911,
          1857.298,
          2002.5149999999999,
          2173.374,
          1990.656,
          1645.859,
          1582.454,
          1855.709,
          1823.537,
          1812.859,
          1661.033,
          1638.864,
          1611.195,
          1668.6499999999999,
          1734.866,
          1732.633,
          1604.247,
          1763.593,
          1598.247,
          1872.628,
          1674.3729999999998,
          1616.575,
          1329.4379999999999,
          1355.704,
          1555.576,
          1622.085,
          1526.304,
          1816.21,
          1947.757,
          1768.2279999999998,
          1657.9969999999998,
          1836.711,
          1675.033,
          1417.991,
          1331.255,
          1582.1799999999998
         ],
         "y": [
          0,
          1,
          2,
          3,
          4,
          5,
          6,
          7,
          8,
          9,
          10,
          11,
          12,
          13,
          14,
          15,
          16,
          17,
          18,
          19,
          20,
          21,
          22,
          23,
          24,
          25,
          26,
          27,
          28,
          29,
          30,
          31,
          32,
          33,
          34,
          35,
          36,
          37,
          38,
          39,
          40,
          41,
          42,
          43,
          44,
          45,
          46,
          47,
          48,
          49,
          50,
          51,
          52,
          53,
          54,
          55,
          56,
          57,
          58,
          59,
          60,
          61,
          62,
          63,
          64,
          65,
          66,
          67,
          68,
          69,
          70,
          71,
          72,
          73,
          74,
          75,
          76,
          77,
          78,
          79,
          80,
          81,
          82,
          83,
          84,
          85,
          86,
          87,
          88,
          89,
          90,
          91,
          92,
          93,
          94,
          95,
          96,
          97,
          98,
          99
         ]
        }
       ],
       "layout": {
        "showlegend": true,
        "template": {
         "data": {
          "bar": [
           {
            "error_x": {
             "color": "#2a3f5f"
            },
            "error_y": {
             "color": "#2a3f5f"
            },
            "marker": {
             "line": {
              "color": "#E5ECF6",
              "width": 0.5
             },
             "pattern": {
              "fillmode": "overlay",
              "size": 10,
              "solidity": 0.2
             }
            },
            "type": "bar"
           }
          ],
          "barpolar": [
           {
            "marker": {
             "line": {
              "color": "#E5ECF6",
              "width": 0.5
             },
             "pattern": {
              "fillmode": "overlay",
              "size": 10,
              "solidity": 0.2
             }
            },
            "type": "barpolar"
           }
          ],
          "carpet": [
           {
            "aaxis": {
             "endlinecolor": "#2a3f5f",
             "gridcolor": "white",
             "linecolor": "white",
             "minorgridcolor": "white",
             "startlinecolor": "#2a3f5f"
            },
            "baxis": {
             "endlinecolor": "#2a3f5f",
             "gridcolor": "white",
             "linecolor": "white",
             "minorgridcolor": "white",
             "startlinecolor": "#2a3f5f"
            },
            "type": "carpet"
           }
          ],
          "choropleth": [
           {
            "colorbar": {
             "outlinewidth": 0,
             "ticks": ""
            },
            "type": "choropleth"
           }
          ],
          "contour": [
           {
            "colorbar": {
             "outlinewidth": 0,
             "ticks": ""
            },
            "colorscale": [
             [
              0,
              "#0d0887"
             ],
             [
              0.1111111111111111,
              "#46039f"
             ],
             [
              0.2222222222222222,
              "#7201a8"
             ],
             [
              0.3333333333333333,
              "#9c179e"
             ],
             [
              0.4444444444444444,
              "#bd3786"
             ],
             [
              0.5555555555555556,
              "#d8576b"
             ],
             [
              0.6666666666666666,
              "#ed7953"
             ],
             [
              0.7777777777777778,
              "#fb9f3a"
             ],
             [
              0.8888888888888888,
              "#fdca26"
             ],
             [
              1,
              "#f0f921"
             ]
            ],
            "type": "contour"
           }
          ],
          "contourcarpet": [
           {
            "colorbar": {
             "outlinewidth": 0,
             "ticks": ""
            },
            "type": "contourcarpet"
           }
          ],
          "heatmap": [
           {
            "colorbar": {
             "outlinewidth": 0,
             "ticks": ""
            },
            "colorscale": [
             [
              0,
              "#0d0887"
             ],
             [
              0.1111111111111111,
              "#46039f"
             ],
             [
              0.2222222222222222,
              "#7201a8"
             ],
             [
              0.3333333333333333,
              "#9c179e"
             ],
             [
              0.4444444444444444,
              "#bd3786"
             ],
             [
              0.5555555555555556,
              "#d8576b"
             ],
             [
              0.6666666666666666,
              "#ed7953"
             ],
             [
              0.7777777777777778,
              "#fb9f3a"
             ],
             [
              0.8888888888888888,
              "#fdca26"
             ],
             [
              1,
              "#f0f921"
             ]
            ],
            "type": "heatmap"
           }
          ],
          "heatmapgl": [
           {
            "colorbar": {
             "outlinewidth": 0,
             "ticks": ""
            },
            "colorscale": [
             [
              0,
              "#0d0887"
             ],
             [
              0.1111111111111111,
              "#46039f"
             ],
             [
              0.2222222222222222,
              "#7201a8"
             ],
             [
              0.3333333333333333,
              "#9c179e"
             ],
             [
              0.4444444444444444,
              "#bd3786"
             ],
             [
              0.5555555555555556,
              "#d8576b"
             ],
             [
              0.6666666666666666,
              "#ed7953"
             ],
             [
              0.7777777777777778,
              "#fb9f3a"
             ],
             [
              0.8888888888888888,
              "#fdca26"
             ],
             [
              1,
              "#f0f921"
             ]
            ],
            "type": "heatmapgl"
           }
          ],
          "histogram": [
           {
            "marker": {
             "pattern": {
              "fillmode": "overlay",
              "size": 10,
              "solidity": 0.2
             }
            },
            "type": "histogram"
           }
          ],
          "histogram2d": [
           {
            "colorbar": {
             "outlinewidth": 0,
             "ticks": ""
            },
            "colorscale": [
             [
              0,
              "#0d0887"
             ],
             [
              0.1111111111111111,
              "#46039f"
             ],
             [
              0.2222222222222222,
              "#7201a8"
             ],
             [
              0.3333333333333333,
              "#9c179e"
             ],
             [
              0.4444444444444444,
              "#bd3786"
             ],
             [
              0.5555555555555556,
              "#d8576b"
             ],
             [
              0.6666666666666666,
              "#ed7953"
             ],
             [
              0.7777777777777778,
              "#fb9f3a"
             ],
             [
              0.8888888888888888,
              "#fdca26"
             ],
             [
              1,
              "#f0f921"
             ]
            ],
            "type": "histogram2d"
           }
          ],
          "histogram2dcontour": [
           {
            "colorbar": {
             "outlinewidth": 0,
             "ticks": ""
            },
            "colorscale": [
             [
              0,
              "#0d0887"
             ],
             [
              0.1111111111111111,
              "#46039f"
             ],
             [
              0.2222222222222222,
              "#7201a8"
             ],
             [
              0.3333333333333333,
              "#9c179e"
             ],
             [
              0.4444444444444444,
              "#bd3786"
             ],
             [
              0.5555555555555556,
              "#d8576b"
             ],
             [
              0.6666666666666666,
              "#ed7953"
             ],
             [
              0.7777777777777778,
              "#fb9f3a"
             ],
             [
              0.8888888888888888,
              "#fdca26"
             ],
             [
              1,
              "#f0f921"
             ]
            ],
            "type": "histogram2dcontour"
           }
          ],
          "mesh3d": [
           {
            "colorbar": {
             "outlinewidth": 0,
             "ticks": ""
            },
            "type": "mesh3d"
           }
          ],
          "parcoords": [
           {
            "line": {
             "colorbar": {
              "outlinewidth": 0,
              "ticks": ""
             }
            },
            "type": "parcoords"
           }
          ],
          "pie": [
           {
            "automargin": true,
            "type": "pie"
           }
          ],
          "scatter": [
           {
            "fillpattern": {
             "fillmode": "overlay",
             "size": 10,
             "solidity": 0.2
            },
            "type": "scatter"
           }
          ],
          "scatter3d": [
           {
            "line": {
             "colorbar": {
              "outlinewidth": 0,
              "ticks": ""
             }
            },
            "marker": {
             "colorbar": {
              "outlinewidth": 0,
              "ticks": ""
             }
            },
            "type": "scatter3d"
           }
          ],
          "scattercarpet": [
           {
            "marker": {
             "colorbar": {
              "outlinewidth": 0,
              "ticks": ""
             }
            },
            "type": "scattercarpet"
           }
          ],
          "scattergeo": [
           {
            "marker": {
             "colorbar": {
              "outlinewidth": 0,
              "ticks": ""
             }
            },
            "type": "scattergeo"
           }
          ],
          "scattergl": [
           {
            "marker": {
             "colorbar": {
              "outlinewidth": 0,
              "ticks": ""
             }
            },
            "type": "scattergl"
           }
          ],
          "scattermapbox": [
           {
            "marker": {
             "colorbar": {
              "outlinewidth": 0,
              "ticks": ""
             }
            },
            "type": "scattermapbox"
           }
          ],
          "scatterpolar": [
           {
            "marker": {
             "colorbar": {
              "outlinewidth": 0,
              "ticks": ""
             }
            },
            "type": "scatterpolar"
           }
          ],
          "scatterpolargl": [
           {
            "marker": {
             "colorbar": {
              "outlinewidth": 0,
              "ticks": ""
             }
            },
            "type": "scatterpolargl"
           }
          ],
          "scatterternary": [
           {
            "marker": {
             "colorbar": {
              "outlinewidth": 0,
              "ticks": ""
             }
            },
            "type": "scatterternary"
           }
          ],
          "surface": [
           {
            "colorbar": {
             "outlinewidth": 0,
             "ticks": ""
            },
            "colorscale": [
             [
              0,
              "#0d0887"
             ],
             [
              0.1111111111111111,
              "#46039f"
             ],
             [
              0.2222222222222222,
              "#7201a8"
             ],
             [
              0.3333333333333333,
              "#9c179e"
             ],
             [
              0.4444444444444444,
              "#bd3786"
             ],
             [
              0.5555555555555556,
              "#d8576b"
             ],
             [
              0.6666666666666666,
              "#ed7953"
             ],
             [
              0.7777777777777778,
              "#fb9f3a"
             ],
             [
              0.8888888888888888,
              "#fdca26"
             ],
             [
              1,
              "#f0f921"
             ]
            ],
            "type": "surface"
           }
          ],
          "table": [
           {
            "cells": {
             "fill": {
              "color": "#EBF0F8"
             },
             "line": {
              "color": "white"
             }
            },
            "header": {
             "fill": {
              "color": "#C8D4E3"
             },
             "line": {
              "color": "white"
             }
            },
            "type": "table"
           }
          ]
         },
         "layout": {
          "annotationdefaults": {
           "arrowcolor": "#2a3f5f",
           "arrowhead": 0,
           "arrowwidth": 1
          },
          "autotypenumbers": "strict",
          "coloraxis": {
           "colorbar": {
            "outlinewidth": 0,
            "ticks": ""
           }
          },
          "colorscale": {
           "diverging": [
            [
             0,
             "#8e0152"
            ],
            [
             0.1,
             "#c51b7d"
            ],
            [
             0.2,
             "#de77ae"
            ],
            [
             0.3,
             "#f1b6da"
            ],
            [
             0.4,
             "#fde0ef"
            ],
            [
             0.5,
             "#f7f7f7"
            ],
            [
             0.6,
             "#e6f5d0"
            ],
            [
             0.7,
             "#b8e186"
            ],
            [
             0.8,
             "#7fbc41"
            ],
            [
             0.9,
             "#4d9221"
            ],
            [
             1,
             "#276419"
            ]
           ],
           "sequential": [
            [
             0,
             "#0d0887"
            ],
            [
             0.1111111111111111,
             "#46039f"
            ],
            [
             0.2222222222222222,
             "#7201a8"
            ],
            [
             0.3333333333333333,
             "#9c179e"
            ],
            [
             0.4444444444444444,
             "#bd3786"
            ],
            [
             0.5555555555555556,
             "#d8576b"
            ],
            [
             0.6666666666666666,
             "#ed7953"
            ],
            [
             0.7777777777777778,
             "#fb9f3a"
            ],
            [
             0.8888888888888888,
             "#fdca26"
            ],
            [
             1,
             "#f0f921"
            ]
           ],
           "sequentialminus": [
            [
             0,
             "#0d0887"
            ],
            [
             0.1111111111111111,
             "#46039f"
            ],
            [
             0.2222222222222222,
             "#7201a8"
            ],
            [
             0.3333333333333333,
             "#9c179e"
            ],
            [
             0.4444444444444444,
             "#bd3786"
            ],
            [
             0.5555555555555556,
             "#d8576b"
            ],
            [
             0.6666666666666666,
             "#ed7953"
            ],
            [
             0.7777777777777778,
             "#fb9f3a"
            ],
            [
             0.8888888888888888,
             "#fdca26"
            ],
            [
             1,
             "#f0f921"
            ]
           ]
          },
          "colorway": [
           "#636efa",
           "#EF553B",
           "#00cc96",
           "#ab63fa",
           "#FFA15A",
           "#19d3f3",
           "#FF6692",
           "#B6E880",
           "#FF97FF",
           "#FECB52"
          ],
          "font": {
           "color": "#2a3f5f"
          },
          "geo": {
           "bgcolor": "white",
           "lakecolor": "white",
           "landcolor": "#E5ECF6",
           "showlakes": true,
           "showland": true,
           "subunitcolor": "white"
          },
          "hoverlabel": {
           "align": "left"
          },
          "hovermode": "closest",
          "mapbox": {
           "style": "light"
          },
          "paper_bgcolor": "white",
          "plot_bgcolor": "#E5ECF6",
          "polar": {
           "angularaxis": {
            "gridcolor": "white",
            "linecolor": "white",
            "ticks": ""
           },
           "bgcolor": "#E5ECF6",
           "radialaxis": {
            "gridcolor": "white",
            "linecolor": "white",
            "ticks": ""
           }
          },
          "scene": {
           "xaxis": {
            "backgroundcolor": "#E5ECF6",
            "gridcolor": "white",
            "gridwidth": 2,
            "linecolor": "white",
            "showbackground": true,
            "ticks": "",
            "zerolinecolor": "white"
           },
           "yaxis": {
            "backgroundcolor": "#E5ECF6",
            "gridcolor": "white",
            "gridwidth": 2,
            "linecolor": "white",
            "showbackground": true,
            "ticks": "",
            "zerolinecolor": "white"
           },
           "zaxis": {
            "backgroundcolor": "#E5ECF6",
            "gridcolor": "white",
            "gridwidth": 2,
            "linecolor": "white",
            "showbackground": true,
            "ticks": "",
            "zerolinecolor": "white"
           }
          },
          "shapedefaults": {
           "line": {
            "color": "#2a3f5f"
           }
          },
          "ternary": {
           "aaxis": {
            "gridcolor": "white",
            "linecolor": "white",
            "ticks": ""
           },
           "baxis": {
            "gridcolor": "white",
            "linecolor": "white",
            "ticks": ""
           },
           "bgcolor": "#E5ECF6",
           "caxis": {
            "gridcolor": "white",
            "linecolor": "white",
            "ticks": ""
           }
          },
          "title": {
           "x": 0.05
          },
          "xaxis": {
           "automargin": true,
           "gridcolor": "white",
           "linecolor": "white",
           "ticks": "",
           "title": {
            "standoff": 15
           },
           "zerolinecolor": "white",
           "zerolinewidth": 2
          },
          "yaxis": {
           "automargin": true,
           "gridcolor": "white",
           "linecolor": "white",
           "ticks": "",
           "title": {
            "standoff": 15
           },
           "zerolinecolor": "white",
           "zerolinewidth": 2
          }
         }
        },
        "title": {
         "text": "Timeline Plot"
        },
        "xaxis": {
         "title": {
          "text": "Datetime"
         },
         "type": "date"
        },
        "yaxis": {
         "title": {
          "text": "Trial"
         }
        }
       }
      }
     },
     "metadata": {},
     "output_type": "display_data"
    }
   ],
   "source": [
    "# Plot the timeline of the \"lgbm-wine-parallel\" study\n",
    "study = optuna.load_study(study_name=study_name, storage=storage)\n",
    "fig = optuna.visualization.plot_timeline(study)\n",
    "fig.show()"
   ]
  },
  {
   "cell_type": "markdown",
   "metadata": {},
   "source": [
    "From the plot, you should see some of the trials were executed in parallel.\n",
    "\n",
    "<details>\n",
    "    <summary> Example </summary>\n",
    "    <img src=\"./images/parallel-timeplot.png\" width=1000/>\n",
    "</details>\n",
    "\n",
    "(You may find the running time of the parallel optimization is almost the same as or even longer than the sequential optimization in the first assignment, this is probably because the database used in this assignment is a remote one (in your cPouta VM). As a result, it takes time for the local processes to communicate with the remote database. If you change the database to this remote one in the first assignment, the running time is likely to increase to around 5 minutes.)"
   ]
  }
 ],
 "metadata": {
  "celltoolbar": "Create Assignment",
  "kernelspec": {
   "display_name": "Python 3 (ipykernel)",
   "language": "python",
   "name": "python3"
  },
  "language_info": {
   "codemirror_mode": {
    "name": "ipython",
    "version": 3
   },
   "file_extension": ".py",
   "mimetype": "text/x-python",
   "name": "python",
   "nbconvert_exporter": "python",
   "pygments_lexer": "ipython3",
   "version": "3.10.0"
  }
 },
 "nbformat": 4,
 "nbformat_minor": 5
}
